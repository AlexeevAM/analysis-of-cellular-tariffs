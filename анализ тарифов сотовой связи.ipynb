{
 "cells": [
  {
   "cell_type": "markdown",
   "metadata": {},
   "source": [
    "# Анализ тарифов сотовой связи компаниии \"Мегалайн\""
   ]
  },
  {
   "cell_type": "markdown",
   "metadata": {},
   "source": [
    "    Компания «Мегалайн» — федеральный оператор сотовой связи. Клиентам предлагают два тарифных плана: «Смарт» и «Ультра». Чтобы скорректировать рекламный бюджет, коммерческому департаменту необходима информация о том , какой тариф приносит больше денег.\n",
    "\n",
    "    Ниже проведем предварительный анализ тарифов на небольшой выборке клиентов. В вашем распоряжении будут данные 500 пользователей «Мегалайна» за 2018 год: кто они, откуда, каким тарифом пользуются, сколько звонков и сообщений каждый отправил за 2018 год. Необходимо проанализировать поведение клиентов и сделать вывод — какой тариф лучше.\n",
    "\n",
    "\n",
    "\n",
    "План работы:\n",
    "\n",
    "1.[Получение данных и получение общей информации](#start)\n",
    "\n",
    "2.[Подготовка данных](#preprocessing)\n",
    "*Приведем данные к нужным типам;\n",
    "\n",
    "*Найдем и исправим ошибки в данных. \n",
    "\n",
    "*[приведение данных к нужным типам](#datatype)\n",
    "\n",
    "*[производство необходимых расчетов](#calculation)\n",
    "\n",
    "Посчитаем для каждого пользователя: \n",
    "\n",
    "*количество сделанных звонков и израсходованных минут разговора по месяцам;\n",
    "\n",
    "*количество отправленных сообщений по месяцам;\n",
    "\n",
    "*объем израсходованного интернет-трафика по месяцам;\n",
    "\n",
    "*помесячную выручку с каждого пользователя.\n",
    "\n",
    "3.[Анализ данных](#analysis)\n",
    "\n",
    "Опишем поведение клиентов оператора, исходя из выборки. Утановим, сколько минут разговора, сколько сообщений и какой объём интернет-трафика требуется пользователям каждого тарифа в месяц. Посчитаем среднее количество, дисперсию и стандартное отклонение. Построим гистограммы. Опишем распределения.\n",
    "\n",
    "4.[Проверка гипотез](#hypotheses)\n",
    "\n",
    "Проверим гипотезы:\n",
    "\n",
    "средняя выручка пользователей тарифов «Ультра» и «Смарт» различается;\n",
    "\n",
    "средняя выручка пользователей из Москвы отличается от выручки пользователей из других регионов;\n",
    "\n",
    "5.[Выводы](#conclusion)\n"
   ]
  },
  {
   "cell_type": "markdown",
   "metadata": {},
   "source": [
    "<a id=\"start\"></a>\n",
    "## Шаг 1. Получение данных и изучение общей информации"
   ]
  },
  {
   "cell_type": "markdown",
   "metadata": {},
   "source": [
    "импортируем библиотеки pandas, numpy, а также библиотеки matplotlib и seaborn для визуализации, прочитаем файлы с информацией о тарифах и пользователях, сохраним их в соответствующих датафреймах"
   ]
  },
  {
   "cell_type": "code",
   "execution_count": 1,
   "metadata": {},
   "outputs": [],
   "source": [
    "import matplotlib.pyplot as plt"
   ]
  },
  {
   "cell_type": "code",
   "execution_count": 2,
   "metadata": {},
   "outputs": [],
   "source": [
    "import pandas as pd"
   ]
  },
  {
   "cell_type": "code",
   "execution_count": 3,
   "metadata": {},
   "outputs": [],
   "source": [
    "import seaborn as sns"
   ]
  },
  {
   "cell_type": "code",
   "execution_count": 4,
   "metadata": {},
   "outputs": [],
   "source": [
    "import numpy as np"
   ]
  },
  {
   "cell_type": "code",
   "execution_count": 5,
   "metadata": {},
   "outputs": [],
   "source": [
    "df_calls = pd.read_csv('/datasets/calls.csv')"
   ]
  },
  {
   "cell_type": "code",
   "execution_count": 6,
   "metadata": {},
   "outputs": [],
   "source": [
    "df_internet = pd.read_csv('/datasets/internet.csv')"
   ]
  },
  {
   "cell_type": "code",
   "execution_count": 7,
   "metadata": {},
   "outputs": [],
   "source": [
    "df_messages = pd.read_csv('/datasets/messages.csv')"
   ]
  },
  {
   "cell_type": "code",
   "execution_count": 8,
   "metadata": {},
   "outputs": [],
   "source": [
    "df_tariffs = pd.read_csv('/datasets/tariffs.csv')"
   ]
  },
  {
   "cell_type": "code",
   "execution_count": 9,
   "metadata": {},
   "outputs": [],
   "source": [
    "df_users = pd.read_csv('/datasets/users.csv')"
   ]
  },
  {
   "cell_type": "markdown",
   "metadata": {},
   "source": [
    "посмотрим общую информацию о полученных датафреймах"
   ]
  },
  {
   "cell_type": "code",
   "execution_count": 10,
   "metadata": {
    "scrolled": true
   },
   "outputs": [
    {
     "data": {
      "text/html": [
       "<div>\n",
       "<style scoped>\n",
       "    .dataframe tbody tr th:only-of-type {\n",
       "        vertical-align: middle;\n",
       "    }\n",
       "\n",
       "    .dataframe tbody tr th {\n",
       "        vertical-align: top;\n",
       "    }\n",
       "\n",
       "    .dataframe thead th {\n",
       "        text-align: right;\n",
       "    }\n",
       "</style>\n",
       "<table border=\"1\" class=\"dataframe\">\n",
       "  <thead>\n",
       "    <tr style=\"text-align: right;\">\n",
       "      <th></th>\n",
       "      <th>id</th>\n",
       "      <th>call_date</th>\n",
       "      <th>duration</th>\n",
       "      <th>user_id</th>\n",
       "    </tr>\n",
       "  </thead>\n",
       "  <tbody>\n",
       "    <tr>\n",
       "      <td>0</td>\n",
       "      <td>1000_0</td>\n",
       "      <td>2018-07-25</td>\n",
       "      <td>0.00</td>\n",
       "      <td>1000</td>\n",
       "    </tr>\n",
       "    <tr>\n",
       "      <td>1</td>\n",
       "      <td>1000_1</td>\n",
       "      <td>2018-08-17</td>\n",
       "      <td>0.00</td>\n",
       "      <td>1000</td>\n",
       "    </tr>\n",
       "    <tr>\n",
       "      <td>2</td>\n",
       "      <td>1000_2</td>\n",
       "      <td>2018-06-11</td>\n",
       "      <td>2.85</td>\n",
       "      <td>1000</td>\n",
       "    </tr>\n",
       "    <tr>\n",
       "      <td>3</td>\n",
       "      <td>1000_3</td>\n",
       "      <td>2018-09-21</td>\n",
       "      <td>13.80</td>\n",
       "      <td>1000</td>\n",
       "    </tr>\n",
       "    <tr>\n",
       "      <td>4</td>\n",
       "      <td>1000_4</td>\n",
       "      <td>2018-12-15</td>\n",
       "      <td>5.18</td>\n",
       "      <td>1000</td>\n",
       "    </tr>\n",
       "  </tbody>\n",
       "</table>\n",
       "</div>"
      ],
      "text/plain": [
       "       id   call_date  duration  user_id\n",
       "0  1000_0  2018-07-25      0.00     1000\n",
       "1  1000_1  2018-08-17      0.00     1000\n",
       "2  1000_2  2018-06-11      2.85     1000\n",
       "3  1000_3  2018-09-21     13.80     1000\n",
       "4  1000_4  2018-12-15      5.18     1000"
      ]
     },
     "execution_count": 10,
     "metadata": {},
     "output_type": "execute_result"
    }
   ],
   "source": [
    "df_calls.head()"
   ]
  },
  {
   "cell_type": "code",
   "execution_count": 11,
   "metadata": {
    "scrolled": true
   },
   "outputs": [
    {
     "name": "stdout",
     "output_type": "stream",
     "text": [
      "<class 'pandas.core.frame.DataFrame'>\n",
      "RangeIndex: 202607 entries, 0 to 202606\n",
      "Data columns (total 4 columns):\n",
      "id           202607 non-null object\n",
      "call_date    202607 non-null object\n",
      "duration     202607 non-null float64\n",
      "user_id      202607 non-null int64\n",
      "dtypes: float64(1), int64(1), object(2)\n",
      "memory usage: 6.2+ MB\n"
     ]
    }
   ],
   "source": [
    "df_calls.info()"
   ]
  },
  {
   "cell_type": "code",
   "execution_count": 12,
   "metadata": {
    "scrolled": true
   },
   "outputs": [
    {
     "data": {
      "text/html": [
       "<div>\n",
       "<style scoped>\n",
       "    .dataframe tbody tr th:only-of-type {\n",
       "        vertical-align: middle;\n",
       "    }\n",
       "\n",
       "    .dataframe tbody tr th {\n",
       "        vertical-align: top;\n",
       "    }\n",
       "\n",
       "    .dataframe thead th {\n",
       "        text-align: right;\n",
       "    }\n",
       "</style>\n",
       "<table border=\"1\" class=\"dataframe\">\n",
       "  <thead>\n",
       "    <tr style=\"text-align: right;\">\n",
       "      <th></th>\n",
       "      <th>duration</th>\n",
       "      <th>user_id</th>\n",
       "    </tr>\n",
       "  </thead>\n",
       "  <tbody>\n",
       "    <tr>\n",
       "      <td>count</td>\n",
       "      <td>202607.000000</td>\n",
       "      <td>202607.000000</td>\n",
       "    </tr>\n",
       "    <tr>\n",
       "      <td>mean</td>\n",
       "      <td>6.755887</td>\n",
       "      <td>1253.940619</td>\n",
       "    </tr>\n",
       "    <tr>\n",
       "      <td>std</td>\n",
       "      <td>5.843365</td>\n",
       "      <td>144.722751</td>\n",
       "    </tr>\n",
       "    <tr>\n",
       "      <td>min</td>\n",
       "      <td>0.000000</td>\n",
       "      <td>1000.000000</td>\n",
       "    </tr>\n",
       "    <tr>\n",
       "      <td>25%</td>\n",
       "      <td>1.300000</td>\n",
       "      <td>1126.000000</td>\n",
       "    </tr>\n",
       "    <tr>\n",
       "      <td>50%</td>\n",
       "      <td>6.000000</td>\n",
       "      <td>1260.000000</td>\n",
       "    </tr>\n",
       "    <tr>\n",
       "      <td>75%</td>\n",
       "      <td>10.700000</td>\n",
       "      <td>1379.000000</td>\n",
       "    </tr>\n",
       "    <tr>\n",
       "      <td>max</td>\n",
       "      <td>38.000000</td>\n",
       "      <td>1499.000000</td>\n",
       "    </tr>\n",
       "  </tbody>\n",
       "</table>\n",
       "</div>"
      ],
      "text/plain": [
       "            duration        user_id\n",
       "count  202607.000000  202607.000000\n",
       "mean        6.755887    1253.940619\n",
       "std         5.843365     144.722751\n",
       "min         0.000000    1000.000000\n",
       "25%         1.300000    1126.000000\n",
       "50%         6.000000    1260.000000\n",
       "75%        10.700000    1379.000000\n",
       "max        38.000000    1499.000000"
      ]
     },
     "execution_count": 12,
     "metadata": {},
     "output_type": "execute_result"
    }
   ],
   "source": [
    "df_calls.describe()"
   ]
  },
  {
   "cell_type": "code",
   "execution_count": 13,
   "metadata": {},
   "outputs": [
    {
     "data": {
      "text/plain": [
       "id           39613\n",
       "call_date    39613\n",
       "duration     39613\n",
       "user_id      39613\n",
       "dtype: int64"
      ]
     },
     "execution_count": 13,
     "metadata": {},
     "output_type": "execute_result"
    }
   ],
   "source": [
    "df_calls.query('duration == 0').count()"
   ]
  },
  {
   "cell_type": "code",
   "execution_count": 14,
   "metadata": {},
   "outputs": [
    {
     "data": {
      "text/plain": [
       "0"
      ]
     },
     "execution_count": 14,
     "metadata": {},
     "output_type": "execute_result"
    }
   ],
   "source": [
    "df_calls.duplicated().sum()"
   ]
  },
  {
   "cell_type": "code",
   "execution_count": 15,
   "metadata": {},
   "outputs": [
    {
     "data": {
      "text/html": [
       "<div>\n",
       "<style scoped>\n",
       "    .dataframe tbody tr th:only-of-type {\n",
       "        vertical-align: middle;\n",
       "    }\n",
       "\n",
       "    .dataframe tbody tr th {\n",
       "        vertical-align: top;\n",
       "    }\n",
       "\n",
       "    .dataframe thead th {\n",
       "        text-align: right;\n",
       "    }\n",
       "</style>\n",
       "<table border=\"1\" class=\"dataframe\">\n",
       "  <thead>\n",
       "    <tr style=\"text-align: right;\">\n",
       "      <th></th>\n",
       "      <th>Unnamed: 0</th>\n",
       "      <th>id</th>\n",
       "      <th>mb_used</th>\n",
       "      <th>session_date</th>\n",
       "      <th>user_id</th>\n",
       "    </tr>\n",
       "  </thead>\n",
       "  <tbody>\n",
       "    <tr>\n",
       "      <td>0</td>\n",
       "      <td>0</td>\n",
       "      <td>1000_0</td>\n",
       "      <td>112.95</td>\n",
       "      <td>2018-11-25</td>\n",
       "      <td>1000</td>\n",
       "    </tr>\n",
       "    <tr>\n",
       "      <td>1</td>\n",
       "      <td>1</td>\n",
       "      <td>1000_1</td>\n",
       "      <td>1052.81</td>\n",
       "      <td>2018-09-07</td>\n",
       "      <td>1000</td>\n",
       "    </tr>\n",
       "    <tr>\n",
       "      <td>2</td>\n",
       "      <td>2</td>\n",
       "      <td>1000_2</td>\n",
       "      <td>1197.26</td>\n",
       "      <td>2018-06-25</td>\n",
       "      <td>1000</td>\n",
       "    </tr>\n",
       "    <tr>\n",
       "      <td>3</td>\n",
       "      <td>3</td>\n",
       "      <td>1000_3</td>\n",
       "      <td>550.27</td>\n",
       "      <td>2018-08-22</td>\n",
       "      <td>1000</td>\n",
       "    </tr>\n",
       "    <tr>\n",
       "      <td>4</td>\n",
       "      <td>4</td>\n",
       "      <td>1000_4</td>\n",
       "      <td>302.56</td>\n",
       "      <td>2018-09-24</td>\n",
       "      <td>1000</td>\n",
       "    </tr>\n",
       "  </tbody>\n",
       "</table>\n",
       "</div>"
      ],
      "text/plain": [
       "   Unnamed: 0      id  mb_used session_date  user_id\n",
       "0           0  1000_0   112.95   2018-11-25     1000\n",
       "1           1  1000_1  1052.81   2018-09-07     1000\n",
       "2           2  1000_2  1197.26   2018-06-25     1000\n",
       "3           3  1000_3   550.27   2018-08-22     1000\n",
       "4           4  1000_4   302.56   2018-09-24     1000"
      ]
     },
     "execution_count": 15,
     "metadata": {},
     "output_type": "execute_result"
    }
   ],
   "source": [
    "df_internet.head()"
   ]
  },
  {
   "cell_type": "code",
   "execution_count": 16,
   "metadata": {
    "scrolled": true
   },
   "outputs": [
    {
     "name": "stdout",
     "output_type": "stream",
     "text": [
      "<class 'pandas.core.frame.DataFrame'>\n",
      "RangeIndex: 149396 entries, 0 to 149395\n",
      "Data columns (total 5 columns):\n",
      "Unnamed: 0      149396 non-null int64\n",
      "id              149396 non-null object\n",
      "mb_used         149396 non-null float64\n",
      "session_date    149396 non-null object\n",
      "user_id         149396 non-null int64\n",
      "dtypes: float64(1), int64(2), object(2)\n",
      "memory usage: 5.7+ MB\n"
     ]
    }
   ],
   "source": [
    "df_internet.info()"
   ]
  },
  {
   "cell_type": "code",
   "execution_count": 17,
   "metadata": {
    "scrolled": false
   },
   "outputs": [
    {
     "data": {
      "text/html": [
       "<div>\n",
       "<style scoped>\n",
       "    .dataframe tbody tr th:only-of-type {\n",
       "        vertical-align: middle;\n",
       "    }\n",
       "\n",
       "    .dataframe tbody tr th {\n",
       "        vertical-align: top;\n",
       "    }\n",
       "\n",
       "    .dataframe thead th {\n",
       "        text-align: right;\n",
       "    }\n",
       "</style>\n",
       "<table border=\"1\" class=\"dataframe\">\n",
       "  <thead>\n",
       "    <tr style=\"text-align: right;\">\n",
       "      <th></th>\n",
       "      <th>Unnamed: 0</th>\n",
       "      <th>mb_used</th>\n",
       "      <th>user_id</th>\n",
       "    </tr>\n",
       "  </thead>\n",
       "  <tbody>\n",
       "    <tr>\n",
       "      <td>count</td>\n",
       "      <td>149396.000000</td>\n",
       "      <td>149396.000000</td>\n",
       "      <td>149396.000000</td>\n",
       "    </tr>\n",
       "    <tr>\n",
       "      <td>mean</td>\n",
       "      <td>74697.500000</td>\n",
       "      <td>370.192426</td>\n",
       "      <td>1252.099842</td>\n",
       "    </tr>\n",
       "    <tr>\n",
       "      <td>std</td>\n",
       "      <td>43127.054745</td>\n",
       "      <td>278.300951</td>\n",
       "      <td>144.050823</td>\n",
       "    </tr>\n",
       "    <tr>\n",
       "      <td>min</td>\n",
       "      <td>0.000000</td>\n",
       "      <td>0.000000</td>\n",
       "      <td>1000.000000</td>\n",
       "    </tr>\n",
       "    <tr>\n",
       "      <td>25%</td>\n",
       "      <td>37348.750000</td>\n",
       "      <td>138.187500</td>\n",
       "      <td>1130.000000</td>\n",
       "    </tr>\n",
       "    <tr>\n",
       "      <td>50%</td>\n",
       "      <td>74697.500000</td>\n",
       "      <td>348.015000</td>\n",
       "      <td>1251.000000</td>\n",
       "    </tr>\n",
       "    <tr>\n",
       "      <td>75%</td>\n",
       "      <td>112046.250000</td>\n",
       "      <td>559.552500</td>\n",
       "      <td>1380.000000</td>\n",
       "    </tr>\n",
       "    <tr>\n",
       "      <td>max</td>\n",
       "      <td>149395.000000</td>\n",
       "      <td>1724.830000</td>\n",
       "      <td>1499.000000</td>\n",
       "    </tr>\n",
       "  </tbody>\n",
       "</table>\n",
       "</div>"
      ],
      "text/plain": [
       "          Unnamed: 0        mb_used        user_id\n",
       "count  149396.000000  149396.000000  149396.000000\n",
       "mean    74697.500000     370.192426    1252.099842\n",
       "std     43127.054745     278.300951     144.050823\n",
       "min         0.000000       0.000000    1000.000000\n",
       "25%     37348.750000     138.187500    1130.000000\n",
       "50%     74697.500000     348.015000    1251.000000\n",
       "75%    112046.250000     559.552500    1380.000000\n",
       "max    149395.000000    1724.830000    1499.000000"
      ]
     },
     "execution_count": 17,
     "metadata": {},
     "output_type": "execute_result"
    }
   ],
   "source": [
    "df_internet.describe()"
   ]
  },
  {
   "cell_type": "code",
   "execution_count": 18,
   "metadata": {},
   "outputs": [
    {
     "data": {
      "text/plain": [
       "Unnamed: 0      19598\n",
       "id              19598\n",
       "mb_used         19598\n",
       "session_date    19598\n",
       "user_id         19598\n",
       "dtype: int64"
      ]
     },
     "execution_count": 18,
     "metadata": {},
     "output_type": "execute_result"
    }
   ],
   "source": [
    "df_internet.query('mb_used == 0').count()"
   ]
  },
  {
   "cell_type": "code",
   "execution_count": 19,
   "metadata": {},
   "outputs": [
    {
     "data": {
      "text/plain": [
       "0"
      ]
     },
     "execution_count": 19,
     "metadata": {},
     "output_type": "execute_result"
    }
   ],
   "source": [
    "df_internet.duplicated().sum()"
   ]
  },
  {
   "cell_type": "code",
   "execution_count": 20,
   "metadata": {
    "scrolled": true
   },
   "outputs": [
    {
     "data": {
      "text/html": [
       "<div>\n",
       "<style scoped>\n",
       "    .dataframe tbody tr th:only-of-type {\n",
       "        vertical-align: middle;\n",
       "    }\n",
       "\n",
       "    .dataframe tbody tr th {\n",
       "        vertical-align: top;\n",
       "    }\n",
       "\n",
       "    .dataframe thead th {\n",
       "        text-align: right;\n",
       "    }\n",
       "</style>\n",
       "<table border=\"1\" class=\"dataframe\">\n",
       "  <thead>\n",
       "    <tr style=\"text-align: right;\">\n",
       "      <th></th>\n",
       "      <th>id</th>\n",
       "      <th>message_date</th>\n",
       "      <th>user_id</th>\n",
       "    </tr>\n",
       "  </thead>\n",
       "  <tbody>\n",
       "    <tr>\n",
       "      <td>0</td>\n",
       "      <td>1000_0</td>\n",
       "      <td>2018-06-27</td>\n",
       "      <td>1000</td>\n",
       "    </tr>\n",
       "    <tr>\n",
       "      <td>1</td>\n",
       "      <td>1000_1</td>\n",
       "      <td>2018-10-08</td>\n",
       "      <td>1000</td>\n",
       "    </tr>\n",
       "    <tr>\n",
       "      <td>2</td>\n",
       "      <td>1000_2</td>\n",
       "      <td>2018-08-04</td>\n",
       "      <td>1000</td>\n",
       "    </tr>\n",
       "    <tr>\n",
       "      <td>3</td>\n",
       "      <td>1000_3</td>\n",
       "      <td>2018-06-16</td>\n",
       "      <td>1000</td>\n",
       "    </tr>\n",
       "    <tr>\n",
       "      <td>4</td>\n",
       "      <td>1000_4</td>\n",
       "      <td>2018-12-05</td>\n",
       "      <td>1000</td>\n",
       "    </tr>\n",
       "  </tbody>\n",
       "</table>\n",
       "</div>"
      ],
      "text/plain": [
       "       id message_date  user_id\n",
       "0  1000_0   2018-06-27     1000\n",
       "1  1000_1   2018-10-08     1000\n",
       "2  1000_2   2018-08-04     1000\n",
       "3  1000_3   2018-06-16     1000\n",
       "4  1000_4   2018-12-05     1000"
      ]
     },
     "execution_count": 20,
     "metadata": {},
     "output_type": "execute_result"
    }
   ],
   "source": [
    "df_messages.head()"
   ]
  },
  {
   "cell_type": "code",
   "execution_count": 21,
   "metadata": {},
   "outputs": [
    {
     "data": {
      "text/html": [
       "<div>\n",
       "<style scoped>\n",
       "    .dataframe tbody tr th:only-of-type {\n",
       "        vertical-align: middle;\n",
       "    }\n",
       "\n",
       "    .dataframe tbody tr th {\n",
       "        vertical-align: top;\n",
       "    }\n",
       "\n",
       "    .dataframe thead th {\n",
       "        text-align: right;\n",
       "    }\n",
       "</style>\n",
       "<table border=\"1\" class=\"dataframe\">\n",
       "  <thead>\n",
       "    <tr style=\"text-align: right;\">\n",
       "      <th></th>\n",
       "      <th>user_id</th>\n",
       "    </tr>\n",
       "  </thead>\n",
       "  <tbody>\n",
       "    <tr>\n",
       "      <td>count</td>\n",
       "      <td>123036.000000</td>\n",
       "    </tr>\n",
       "    <tr>\n",
       "      <td>mean</td>\n",
       "      <td>1256.989410</td>\n",
       "    </tr>\n",
       "    <tr>\n",
       "      <td>std</td>\n",
       "      <td>143.523967</td>\n",
       "    </tr>\n",
       "    <tr>\n",
       "      <td>min</td>\n",
       "      <td>1000.000000</td>\n",
       "    </tr>\n",
       "    <tr>\n",
       "      <td>25%</td>\n",
       "      <td>1134.000000</td>\n",
       "    </tr>\n",
       "    <tr>\n",
       "      <td>50%</td>\n",
       "      <td>1271.000000</td>\n",
       "    </tr>\n",
       "    <tr>\n",
       "      <td>75%</td>\n",
       "      <td>1381.000000</td>\n",
       "    </tr>\n",
       "    <tr>\n",
       "      <td>max</td>\n",
       "      <td>1499.000000</td>\n",
       "    </tr>\n",
       "  </tbody>\n",
       "</table>\n",
       "</div>"
      ],
      "text/plain": [
       "             user_id\n",
       "count  123036.000000\n",
       "mean     1256.989410\n",
       "std       143.523967\n",
       "min      1000.000000\n",
       "25%      1134.000000\n",
       "50%      1271.000000\n",
       "75%      1381.000000\n",
       "max      1499.000000"
      ]
     },
     "execution_count": 21,
     "metadata": {},
     "output_type": "execute_result"
    }
   ],
   "source": [
    "df_messages.describe()"
   ]
  },
  {
   "cell_type": "code",
   "execution_count": 22,
   "metadata": {
    "scrolled": true
   },
   "outputs": [
    {
     "name": "stdout",
     "output_type": "stream",
     "text": [
      "<class 'pandas.core.frame.DataFrame'>\n",
      "RangeIndex: 123036 entries, 0 to 123035\n",
      "Data columns (total 3 columns):\n",
      "id              123036 non-null object\n",
      "message_date    123036 non-null object\n",
      "user_id         123036 non-null int64\n",
      "dtypes: int64(1), object(2)\n",
      "memory usage: 2.8+ MB\n"
     ]
    }
   ],
   "source": [
    "df_messages.info()"
   ]
  },
  {
   "cell_type": "code",
   "execution_count": 23,
   "metadata": {},
   "outputs": [
    {
     "data": {
      "text/plain": [
       "0"
      ]
     },
     "execution_count": 23,
     "metadata": {},
     "output_type": "execute_result"
    }
   ],
   "source": [
    "df_messages.duplicated().sum()"
   ]
  },
  {
   "cell_type": "code",
   "execution_count": 24,
   "metadata": {},
   "outputs": [
    {
     "data": {
      "text/html": [
       "<div>\n",
       "<style scoped>\n",
       "    .dataframe tbody tr th:only-of-type {\n",
       "        vertical-align: middle;\n",
       "    }\n",
       "\n",
       "    .dataframe tbody tr th {\n",
       "        vertical-align: top;\n",
       "    }\n",
       "\n",
       "    .dataframe thead th {\n",
       "        text-align: right;\n",
       "    }\n",
       "</style>\n",
       "<table border=\"1\" class=\"dataframe\">\n",
       "  <thead>\n",
       "    <tr style=\"text-align: right;\">\n",
       "      <th></th>\n",
       "      <th>messages_included</th>\n",
       "      <th>mb_per_month_included</th>\n",
       "      <th>minutes_included</th>\n",
       "      <th>rub_monthly_fee</th>\n",
       "      <th>rub_per_gb</th>\n",
       "      <th>rub_per_message</th>\n",
       "      <th>rub_per_minute</th>\n",
       "      <th>tariff_name</th>\n",
       "    </tr>\n",
       "  </thead>\n",
       "  <tbody>\n",
       "    <tr>\n",
       "      <td>0</td>\n",
       "      <td>50</td>\n",
       "      <td>15360</td>\n",
       "      <td>500</td>\n",
       "      <td>550</td>\n",
       "      <td>200</td>\n",
       "      <td>3</td>\n",
       "      <td>3</td>\n",
       "      <td>smart</td>\n",
       "    </tr>\n",
       "    <tr>\n",
       "      <td>1</td>\n",
       "      <td>1000</td>\n",
       "      <td>30720</td>\n",
       "      <td>3000</td>\n",
       "      <td>1950</td>\n",
       "      <td>150</td>\n",
       "      <td>1</td>\n",
       "      <td>1</td>\n",
       "      <td>ultra</td>\n",
       "    </tr>\n",
       "  </tbody>\n",
       "</table>\n",
       "</div>"
      ],
      "text/plain": [
       "   messages_included  mb_per_month_included  minutes_included  \\\n",
       "0                 50                  15360               500   \n",
       "1               1000                  30720              3000   \n",
       "\n",
       "   rub_monthly_fee  rub_per_gb  rub_per_message  rub_per_minute tariff_name  \n",
       "0              550         200                3               3       smart  \n",
       "1             1950         150                1               1       ultra  "
      ]
     },
     "execution_count": 24,
     "metadata": {},
     "output_type": "execute_result"
    }
   ],
   "source": [
    "df_tariffs.head()"
   ]
  },
  {
   "cell_type": "code",
   "execution_count": 25,
   "metadata": {
    "scrolled": true
   },
   "outputs": [
    {
     "name": "stdout",
     "output_type": "stream",
     "text": [
      "<class 'pandas.core.frame.DataFrame'>\n",
      "RangeIndex: 2 entries, 0 to 1\n",
      "Data columns (total 8 columns):\n",
      "messages_included        2 non-null int64\n",
      "mb_per_month_included    2 non-null int64\n",
      "minutes_included         2 non-null int64\n",
      "rub_monthly_fee          2 non-null int64\n",
      "rub_per_gb               2 non-null int64\n",
      "rub_per_message          2 non-null int64\n",
      "rub_per_minute           2 non-null int64\n",
      "tariff_name              2 non-null object\n",
      "dtypes: int64(7), object(1)\n",
      "memory usage: 256.0+ bytes\n"
     ]
    }
   ],
   "source": [
    "df_tariffs.info()"
   ]
  },
  {
   "cell_type": "code",
   "execution_count": 26,
   "metadata": {},
   "outputs": [
    {
     "data": {
      "text/html": [
       "<div>\n",
       "<style scoped>\n",
       "    .dataframe tbody tr th:only-of-type {\n",
       "        vertical-align: middle;\n",
       "    }\n",
       "\n",
       "    .dataframe tbody tr th {\n",
       "        vertical-align: top;\n",
       "    }\n",
       "\n",
       "    .dataframe thead th {\n",
       "        text-align: right;\n",
       "    }\n",
       "</style>\n",
       "<table border=\"1\" class=\"dataframe\">\n",
       "  <thead>\n",
       "    <tr style=\"text-align: right;\">\n",
       "      <th></th>\n",
       "      <th>user_id</th>\n",
       "      <th>age</th>\n",
       "      <th>churn_date</th>\n",
       "      <th>city</th>\n",
       "      <th>first_name</th>\n",
       "      <th>last_name</th>\n",
       "      <th>reg_date</th>\n",
       "      <th>tariff</th>\n",
       "    </tr>\n",
       "  </thead>\n",
       "  <tbody>\n",
       "    <tr>\n",
       "      <td>0</td>\n",
       "      <td>1000</td>\n",
       "      <td>52</td>\n",
       "      <td>NaN</td>\n",
       "      <td>Краснодар</td>\n",
       "      <td>Рафаил</td>\n",
       "      <td>Верещагин</td>\n",
       "      <td>2018-05-25</td>\n",
       "      <td>ultra</td>\n",
       "    </tr>\n",
       "    <tr>\n",
       "      <td>1</td>\n",
       "      <td>1001</td>\n",
       "      <td>41</td>\n",
       "      <td>NaN</td>\n",
       "      <td>Москва</td>\n",
       "      <td>Иван</td>\n",
       "      <td>Ежов</td>\n",
       "      <td>2018-11-01</td>\n",
       "      <td>smart</td>\n",
       "    </tr>\n",
       "    <tr>\n",
       "      <td>2</td>\n",
       "      <td>1002</td>\n",
       "      <td>59</td>\n",
       "      <td>NaN</td>\n",
       "      <td>Стерлитамак</td>\n",
       "      <td>Евгений</td>\n",
       "      <td>Абрамович</td>\n",
       "      <td>2018-06-17</td>\n",
       "      <td>smart</td>\n",
       "    </tr>\n",
       "    <tr>\n",
       "      <td>3</td>\n",
       "      <td>1003</td>\n",
       "      <td>23</td>\n",
       "      <td>NaN</td>\n",
       "      <td>Москва</td>\n",
       "      <td>Белла</td>\n",
       "      <td>Белякова</td>\n",
       "      <td>2018-08-17</td>\n",
       "      <td>ultra</td>\n",
       "    </tr>\n",
       "    <tr>\n",
       "      <td>4</td>\n",
       "      <td>1004</td>\n",
       "      <td>68</td>\n",
       "      <td>NaN</td>\n",
       "      <td>Новокузнецк</td>\n",
       "      <td>Татьяна</td>\n",
       "      <td>Авдеенко</td>\n",
       "      <td>2018-05-14</td>\n",
       "      <td>ultra</td>\n",
       "    </tr>\n",
       "  </tbody>\n",
       "</table>\n",
       "</div>"
      ],
      "text/plain": [
       "   user_id  age churn_date         city first_name  last_name    reg_date  \\\n",
       "0     1000   52        NaN    Краснодар     Рафаил  Верещагин  2018-05-25   \n",
       "1     1001   41        NaN       Москва       Иван       Ежов  2018-11-01   \n",
       "2     1002   59        NaN  Стерлитамак    Евгений  Абрамович  2018-06-17   \n",
       "3     1003   23        NaN       Москва      Белла   Белякова  2018-08-17   \n",
       "4     1004   68        NaN  Новокузнецк    Татьяна   Авдеенко  2018-05-14   \n",
       "\n",
       "  tariff  \n",
       "0  ultra  \n",
       "1  smart  \n",
       "2  smart  \n",
       "3  ultra  \n",
       "4  ultra  "
      ]
     },
     "execution_count": 26,
     "metadata": {},
     "output_type": "execute_result"
    }
   ],
   "source": [
    "df_users.head()"
   ]
  },
  {
   "cell_type": "code",
   "execution_count": 27,
   "metadata": {},
   "outputs": [
    {
     "name": "stdout",
     "output_type": "stream",
     "text": [
      "<class 'pandas.core.frame.DataFrame'>\n",
      "RangeIndex: 500 entries, 0 to 499\n",
      "Data columns (total 8 columns):\n",
      "user_id       500 non-null int64\n",
      "age           500 non-null int64\n",
      "churn_date    38 non-null object\n",
      "city          500 non-null object\n",
      "first_name    500 non-null object\n",
      "last_name     500 non-null object\n",
      "reg_date      500 non-null object\n",
      "tariff        500 non-null object\n",
      "dtypes: int64(2), object(6)\n",
      "memory usage: 31.4+ KB\n"
     ]
    }
   ],
   "source": [
    "df_users.info()"
   ]
  },
  {
   "cell_type": "code",
   "execution_count": 28,
   "metadata": {},
   "outputs": [
    {
     "data": {
      "text/html": [
       "<div>\n",
       "<style scoped>\n",
       "    .dataframe tbody tr th:only-of-type {\n",
       "        vertical-align: middle;\n",
       "    }\n",
       "\n",
       "    .dataframe tbody tr th {\n",
       "        vertical-align: top;\n",
       "    }\n",
       "\n",
       "    .dataframe thead th {\n",
       "        text-align: right;\n",
       "    }\n",
       "</style>\n",
       "<table border=\"1\" class=\"dataframe\">\n",
       "  <thead>\n",
       "    <tr style=\"text-align: right;\">\n",
       "      <th></th>\n",
       "      <th>user_id</th>\n",
       "      <th>age</th>\n",
       "    </tr>\n",
       "  </thead>\n",
       "  <tbody>\n",
       "    <tr>\n",
       "      <td>count</td>\n",
       "      <td>500.000000</td>\n",
       "      <td>500.00000</td>\n",
       "    </tr>\n",
       "    <tr>\n",
       "      <td>mean</td>\n",
       "      <td>1249.500000</td>\n",
       "      <td>46.58800</td>\n",
       "    </tr>\n",
       "    <tr>\n",
       "      <td>std</td>\n",
       "      <td>144.481833</td>\n",
       "      <td>16.66763</td>\n",
       "    </tr>\n",
       "    <tr>\n",
       "      <td>min</td>\n",
       "      <td>1000.000000</td>\n",
       "      <td>18.00000</td>\n",
       "    </tr>\n",
       "    <tr>\n",
       "      <td>25%</td>\n",
       "      <td>1124.750000</td>\n",
       "      <td>32.00000</td>\n",
       "    </tr>\n",
       "    <tr>\n",
       "      <td>50%</td>\n",
       "      <td>1249.500000</td>\n",
       "      <td>46.00000</td>\n",
       "    </tr>\n",
       "    <tr>\n",
       "      <td>75%</td>\n",
       "      <td>1374.250000</td>\n",
       "      <td>62.00000</td>\n",
       "    </tr>\n",
       "    <tr>\n",
       "      <td>max</td>\n",
       "      <td>1499.000000</td>\n",
       "      <td>75.00000</td>\n",
       "    </tr>\n",
       "  </tbody>\n",
       "</table>\n",
       "</div>"
      ],
      "text/plain": [
       "           user_id        age\n",
       "count   500.000000  500.00000\n",
       "mean   1249.500000   46.58800\n",
       "std     144.481833   16.66763\n",
       "min    1000.000000   18.00000\n",
       "25%    1124.750000   32.00000\n",
       "50%    1249.500000   46.00000\n",
       "75%    1374.250000   62.00000\n",
       "max    1499.000000   75.00000"
      ]
     },
     "execution_count": 28,
     "metadata": {},
     "output_type": "execute_result"
    }
   ],
   "source": [
    "df_users.describe()"
   ]
  },
  {
   "cell_type": "code",
   "execution_count": 29,
   "metadata": {},
   "outputs": [
    {
     "data": {
      "text/plain": [
       "0.924"
      ]
     },
     "execution_count": 29,
     "metadata": {},
     "output_type": "execute_result"
    }
   ],
   "source": [
    "df_users['churn_date'].isnull().mean()"
   ]
  },
  {
   "cell_type": "code",
   "execution_count": 30,
   "metadata": {},
   "outputs": [
    {
     "data": {
      "text/plain": [
       "0"
      ]
     },
     "execution_count": 30,
     "metadata": {},
     "output_type": "execute_result"
    }
   ],
   "source": [
    "df_users.duplicated().sum()"
   ]
  },
  {
   "cell_type": "markdown",
   "metadata": {},
   "source": [
    "### Выводы"
   ]
  },
  {
   "cell_type": "markdown",
   "metadata": {},
   "source": [
    "Исходя из полученной информации можно отметить нижеследующее.\n",
    "\n",
    "Мы будем анализировать датафреймы с нижеследующими данными.\n",
    "\n",
    "Таблица df_users (информация о пользователях):\n",
    "\n",
    "user_id — уникальный идентификатор пользователя\n",
    "\n",
    "first_name — имя пользователя\n",
    "\n",
    "last_name — фамилия пользователя\n",
    "\n",
    "age — возраст пользователя (годы)\n",
    "\n",
    "reg_date — дата подключения тарифа (день, месяц, год)\n",
    "\n",
    "churn_date — дата прекращения пользования тарифом \n",
    "\n",
    "city — город проживания пользователя\n",
    "\n",
    "tariff — название тарифного плана\n",
    "\n",
    "Таблица df_calls (информация о звонках):\n",
    "\n",
    "id — уникальный номер звонка\n",
    "\n",
    "call_date — дата звонка\n",
    "\n",
    "duration — длительность звонка в минутах\n",
    "\n",
    "user_id — идентификатор пользователя, сделавшего звонок\n",
    "\n",
    "Таблица df_messages (информация о сообщениях):\n",
    "\n",
    "id — уникальный номер сообщения\n",
    "\n",
    "message_date — дата сообщения\n",
    "\n",
    "user_id — идентификатор пользователя, отправившего сообщение\n",
    "\n",
    "Таблица df_internet (информация об интернет-сессиях):\n",
    "\n",
    "id — уникальный номер сессии\n",
    "\n",
    "mb_used — объём потраченного за сессию интернет-трафика (в мегабайтах)\n",
    "\n",
    "session_date — дата интернет-сессии\n",
    "\n",
    "user_id — идентификатор пользователя\n",
    "\n",
    "Таблица df_tariffs (информация о тарифах):\n",
    "\n",
    "tariff_name — название тарифа\n",
    "\n",
    "rub_monthly_fee — ежемесячная абонентская плата в рублях\n",
    "\n",
    "minutes_included — количество минут разговора в месяц, включённых в абонентскую плату\n",
    "\n",
    "messages_included — количество сообщений в месяц, включённых в абонентскую плату\n",
    "\n",
    "mb_per_month_included — объём интернет-трафика, включённого в абонентскую плату (в мегабайтах)\n",
    "\n",
    "rub_per_minute — стоимость минуты разговора сверх тарифного пакета\n",
    "\n",
    "rub_per_message — стоимость отправки сообщения сверх тарифного пакета\n",
    "\n",
    "rub_per_gb — стоимость дополнительного гигабайта интернет-трафика сверх тарифного пакета \n",
    "\n",
    "Каждая строка таблицы содержит информацию об определенных характеристиках тарифного плана и уникального клиента, который пользуется данным тарифным планом, а также непосредственно статистические сведения о характере использования одного из двух тарифных планов, а именно \"Смарт\" и \"Ультра\", конкретным клиентом \"Мегалайн\". \n",
    "\n",
    "На данном этапе мы видим следующие проблемы, которые небходимо решать: логическое несоответствие типов данных определенных столбцов с той информацией, которая в них содержится, а именно по столбцам с указанием дат, идентификатора пользователя, а также количества использованных минут и интернет-траффика. Кроме того,в датафрейме df_internet имеется столбец 'Unnamed: 0', наличие которого вероятнее всего связано с какой-то технической ошибкой.\n",
    "\n",
    "Также, в столбце duration таблицы df_calls мы наблюдаем большое количество звонков длительностью 0.0 минут, что вероятнее всего является ошибкой данных. Аналогичную картину мы наблюдаем по столбцу с информацией о количестве расходованного интернет-траффика.\n",
    "\n",
    "Кроме того, в столбце с информацией о дате прекращения пользования тарифом более 92,5 % пропущенных значений, связанных с тем, что на момент выгрузки данных тариф еще действовал, то есть пользовател его использовал."
   ]
  },
  {
   "cell_type": "markdown",
   "metadata": {},
   "source": [
    "<a id=\"preprocessing\"></a>\n",
    "\n",
    "## Шаг 2. Подготовка данных"
   ]
  },
  {
   "cell_type": "markdown",
   "metadata": {},
   "source": [
    "<a id=\"datatype\"></a>\n",
    "\n",
    "### Приведение данных к нужным типам, исправление ошибок"
   ]
  },
  {
   "cell_type": "markdown",
   "metadata": {},
   "source": [
    "Учитывая наличие столбцов с несоответствующими типами данных приведем данные столбцы к соответствующему типу, а имменно даты в формат дат, идентификатор пользователя в тип данных 'object', информацию о длительности звоноков и количестве расходованного траффика в целочисленный тип, так как оператор \"Мегалайн\" всегда округляет вверх значения минут и мегабайтов. Например, если пользователь проговорил всего 1 секунду, в тарифе засчитывается целая минута, поэтому наличие знаков после запятой не является необходимостью."
   ]
  },
  {
   "cell_type": "code",
   "execution_count": 31,
   "metadata": {},
   "outputs": [],
   "source": [
    "df_calls['call_date'] = pd.to_datetime(df_calls['call_date'], format='%Y-%m-%d')\n"
   ]
  },
  {
   "cell_type": "code",
   "execution_count": 32,
   "metadata": {},
   "outputs": [],
   "source": [
    "df_calls['user_id'] = df_calls['user_id'].astype('object')"
   ]
  },
  {
   "cell_type": "code",
   "execution_count": 33,
   "metadata": {},
   "outputs": [],
   "source": [
    "df_internet['user_id'] = df_internet['user_id'].astype('object')"
   ]
  },
  {
   "cell_type": "code",
   "execution_count": 34,
   "metadata": {},
   "outputs": [],
   "source": [
    "df_internet['session_date'] = pd.to_datetime(df_internet['session_date'], format='%Y-%m-%d')\n"
   ]
  },
  {
   "cell_type": "code",
   "execution_count": 35,
   "metadata": {},
   "outputs": [],
   "source": [
    "df_internet.drop('Unnamed: 0', axis=1, inplace=True)"
   ]
  },
  {
   "cell_type": "code",
   "execution_count": 36,
   "metadata": {},
   "outputs": [],
   "source": [
    "df_messages['message_date'] = pd.to_datetime(df_messages['message_date'], format='%Y-%m-%d')\n"
   ]
  },
  {
   "cell_type": "code",
   "execution_count": 37,
   "metadata": {},
   "outputs": [],
   "source": [
    "df_messages['user_id'] = df_messages['user_id'].astype('object')"
   ]
  },
  {
   "cell_type": "code",
   "execution_count": 38,
   "metadata": {},
   "outputs": [],
   "source": [
    "df_users['user_id'] = df_users['user_id'].astype('object')"
   ]
  },
  {
   "cell_type": "code",
   "execution_count": 39,
   "metadata": {},
   "outputs": [],
   "source": [
    "df_users['reg_date'] = pd.to_datetime(df_users['reg_date'], format='%Y-%m-%d')\n"
   ]
  },
  {
   "cell_type": "markdown",
   "metadata": {},
   "source": [
    "В случае, если дата прекращения пользования клиента тарифом в рассматриваемом 2018 году отстутствует, то сделаем предположение, что как минимум 01.01.2019 он еще являлся пользователем тарифа, поэтому заменим все пропущенные значения на 01.01.2019."
   ]
  },
  {
   "cell_type": "code",
   "execution_count": 40,
   "metadata": {},
   "outputs": [],
   "source": [
    "df_users['churn_date'].fillna('2019-01-01', inplace=True) \n"
   ]
  },
  {
   "cell_type": "code",
   "execution_count": 41,
   "metadata": {},
   "outputs": [],
   "source": [
    "df_users['churn_date'] = pd.to_datetime(df_users['churn_date'], format='%Y-%m-%d')\n"
   ]
  },
  {
   "cell_type": "markdown",
   "metadata": {},
   "source": [
    "Учитывая информацию об округлении длительности звонков и размера расходованного интернет-траффика, заменим имеющиеся нулевые значения в данных столбцах на 1, а положительные значения округлим в большую сторону вызовом функции np.cail."
   ]
  },
  {
   "cell_type": "code",
   "execution_count": 42,
   "metadata": {},
   "outputs": [],
   "source": [
    "df_calls['duration'] = df_calls['duration'].apply(np.ceil).replace(0, 1)\n"
   ]
  },
  {
   "cell_type": "code",
   "execution_count": 43,
   "metadata": {},
   "outputs": [],
   "source": [
    "df_internet['mb_used'] = df_internet['mb_used'].apply(np.ceil).replace(0, 1)"
   ]
  },
  {
   "cell_type": "code",
   "execution_count": 44,
   "metadata": {},
   "outputs": [],
   "source": [
    "df_calls['duration'] = df_calls['duration'].astype('int')"
   ]
  },
  {
   "cell_type": "code",
   "execution_count": 45,
   "metadata": {},
   "outputs": [],
   "source": [
    "df_internet['mb_used'] = df_internet['mb_used'].astype('int')"
   ]
  },
  {
   "cell_type": "markdown",
   "metadata": {},
   "source": [
    "### Выводы"
   ]
  },
  {
   "cell_type": "markdown",
   "metadata": {},
   "source": [
    "Учитывая наличие столбцов с несоответствующими типами данных мы привели указанные столбцы к соответствующему типу, а имменно даты в формат дат, идентификатор пользователя в тип данных 'object', информацию о длительности звонков и количестве расходованного траффика в целочисленный тип, так как оператор \"Мегалайн\" всегда округляет вверх значения минут и мегабайт. Также, сделав предположение, что как минимум 01.01.2019 клиент еще являлся пользователем тарифа, мы заменили все пропущенные значения в столбце 'churn_date' на 01.01.2019. Учитывая информацию об округлении длительности звонков и размера расходованного интернет-траффика, мы заменили имеющиеся нулевые значения в  столбцах 'duration' и 'mb_used' на 1, а положительные значения округлили в большую сторону вызовом функции np.cail."
   ]
  },
  {
   "cell_type": "markdown",
   "metadata": {},
   "source": [
    "<a id=\"calculation\"></a>\n",
    "\n",
    "### Производство необходимых расчетов"
   ]
  },
  {
   "cell_type": "markdown",
   "metadata": {},
   "source": [
    "выведем из даты номер месяца звонка и создадим соответствующий столбец в таблицу df_calls"
   ]
  },
  {
   "cell_type": "code",
   "execution_count": 46,
   "metadata": {},
   "outputs": [],
   "source": [
    "df_calls['month'] = df_calls['call_date'].dt.month"
   ]
  },
  {
   "cell_type": "code",
   "execution_count": 47,
   "metadata": {
    "scrolled": true
   },
   "outputs": [
    {
     "data": {
      "text/html": [
       "<div>\n",
       "<style scoped>\n",
       "    .dataframe tbody tr th:only-of-type {\n",
       "        vertical-align: middle;\n",
       "    }\n",
       "\n",
       "    .dataframe tbody tr th {\n",
       "        vertical-align: top;\n",
       "    }\n",
       "\n",
       "    .dataframe thead th {\n",
       "        text-align: right;\n",
       "    }\n",
       "</style>\n",
       "<table border=\"1\" class=\"dataframe\">\n",
       "  <thead>\n",
       "    <tr style=\"text-align: right;\">\n",
       "      <th></th>\n",
       "      <th>id</th>\n",
       "      <th>call_date</th>\n",
       "      <th>duration</th>\n",
       "      <th>user_id</th>\n",
       "      <th>month</th>\n",
       "    </tr>\n",
       "  </thead>\n",
       "  <tbody>\n",
       "    <tr>\n",
       "      <td>0</td>\n",
       "      <td>1000_0</td>\n",
       "      <td>2018-07-25</td>\n",
       "      <td>1</td>\n",
       "      <td>1000</td>\n",
       "      <td>7</td>\n",
       "    </tr>\n",
       "    <tr>\n",
       "      <td>1</td>\n",
       "      <td>1000_1</td>\n",
       "      <td>2018-08-17</td>\n",
       "      <td>1</td>\n",
       "      <td>1000</td>\n",
       "      <td>8</td>\n",
       "    </tr>\n",
       "    <tr>\n",
       "      <td>2</td>\n",
       "      <td>1000_2</td>\n",
       "      <td>2018-06-11</td>\n",
       "      <td>3</td>\n",
       "      <td>1000</td>\n",
       "      <td>6</td>\n",
       "    </tr>\n",
       "    <tr>\n",
       "      <td>3</td>\n",
       "      <td>1000_3</td>\n",
       "      <td>2018-09-21</td>\n",
       "      <td>14</td>\n",
       "      <td>1000</td>\n",
       "      <td>9</td>\n",
       "    </tr>\n",
       "    <tr>\n",
       "      <td>4</td>\n",
       "      <td>1000_4</td>\n",
       "      <td>2018-12-15</td>\n",
       "      <td>6</td>\n",
       "      <td>1000</td>\n",
       "      <td>12</td>\n",
       "    </tr>\n",
       "  </tbody>\n",
       "</table>\n",
       "</div>"
      ],
      "text/plain": [
       "       id  call_date  duration user_id  month\n",
       "0  1000_0 2018-07-25         1    1000      7\n",
       "1  1000_1 2018-08-17         1    1000      8\n",
       "2  1000_2 2018-06-11         3    1000      6\n",
       "3  1000_3 2018-09-21        14    1000      9\n",
       "4  1000_4 2018-12-15         6    1000     12"
      ]
     },
     "execution_count": 47,
     "metadata": {},
     "output_type": "execute_result"
    }
   ],
   "source": [
    "df_calls.head()"
   ]
  },
  {
   "cell_type": "markdown",
   "metadata": {},
   "source": [
    "создадим сводную таблицу дя расчета длительности и количества звонков для каждого пользователя в разерезе каждого месяца и отобразим данную таблицу"
   ]
  },
  {
   "cell_type": "code",
   "execution_count": 48,
   "metadata": {},
   "outputs": [],
   "source": [
    "df_calls_pivot = df_calls.pivot_table(index = ['user_id', 'month'], values = ['id', 'duration'], aggfunc = {'id':'count', 'duration':'sum'}).reset_index()"
   ]
  },
  {
   "cell_type": "code",
   "execution_count": 49,
   "metadata": {},
   "outputs": [],
   "source": [
    "df_calls_pivot.columns =['user_id', 'month', 'duration', 'calls_count']"
   ]
  },
  {
   "cell_type": "code",
   "execution_count": 50,
   "metadata": {
    "scrolled": false
   },
   "outputs": [
    {
     "data": {
      "text/html": [
       "<div>\n",
       "<style scoped>\n",
       "    .dataframe tbody tr th:only-of-type {\n",
       "        vertical-align: middle;\n",
       "    }\n",
       "\n",
       "    .dataframe tbody tr th {\n",
       "        vertical-align: top;\n",
       "    }\n",
       "\n",
       "    .dataframe thead th {\n",
       "        text-align: right;\n",
       "    }\n",
       "</style>\n",
       "<table border=\"1\" class=\"dataframe\">\n",
       "  <thead>\n",
       "    <tr style=\"text-align: right;\">\n",
       "      <th></th>\n",
       "      <th>user_id</th>\n",
       "      <th>month</th>\n",
       "      <th>duration</th>\n",
       "      <th>calls_count</th>\n",
       "    </tr>\n",
       "  </thead>\n",
       "  <tbody>\n",
       "    <tr>\n",
       "      <td>0</td>\n",
       "      <td>1000</td>\n",
       "      <td>5</td>\n",
       "      <td>164</td>\n",
       "      <td>22</td>\n",
       "    </tr>\n",
       "    <tr>\n",
       "      <td>1</td>\n",
       "      <td>1000</td>\n",
       "      <td>6</td>\n",
       "      <td>187</td>\n",
       "      <td>43</td>\n",
       "    </tr>\n",
       "    <tr>\n",
       "      <td>2</td>\n",
       "      <td>1000</td>\n",
       "      <td>7</td>\n",
       "      <td>346</td>\n",
       "      <td>47</td>\n",
       "    </tr>\n",
       "    <tr>\n",
       "      <td>3</td>\n",
       "      <td>1000</td>\n",
       "      <td>8</td>\n",
       "      <td>418</td>\n",
       "      <td>52</td>\n",
       "    </tr>\n",
       "    <tr>\n",
       "      <td>4</td>\n",
       "      <td>1000</td>\n",
       "      <td>9</td>\n",
       "      <td>478</td>\n",
       "      <td>58</td>\n",
       "    </tr>\n",
       "    <tr>\n",
       "      <td>5</td>\n",
       "      <td>1000</td>\n",
       "      <td>10</td>\n",
       "      <td>363</td>\n",
       "      <td>57</td>\n",
       "    </tr>\n",
       "    <tr>\n",
       "      <td>6</td>\n",
       "      <td>1000</td>\n",
       "      <td>11</td>\n",
       "      <td>344</td>\n",
       "      <td>43</td>\n",
       "    </tr>\n",
       "    <tr>\n",
       "      <td>7</td>\n",
       "      <td>1000</td>\n",
       "      <td>12</td>\n",
       "      <td>341</td>\n",
       "      <td>46</td>\n",
       "    </tr>\n",
       "    <tr>\n",
       "      <td>8</td>\n",
       "      <td>1001</td>\n",
       "      <td>11</td>\n",
       "      <td>444</td>\n",
       "      <td>59</td>\n",
       "    </tr>\n",
       "    <tr>\n",
       "      <td>9</td>\n",
       "      <td>1001</td>\n",
       "      <td>12</td>\n",
       "      <td>430</td>\n",
       "      <td>63</td>\n",
       "    </tr>\n",
       "    <tr>\n",
       "      <td>10</td>\n",
       "      <td>1002</td>\n",
       "      <td>6</td>\n",
       "      <td>118</td>\n",
       "      <td>15</td>\n",
       "    </tr>\n",
       "    <tr>\n",
       "      <td>11</td>\n",
       "      <td>1002</td>\n",
       "      <td>7</td>\n",
       "      <td>219</td>\n",
       "      <td>26</td>\n",
       "    </tr>\n",
       "    <tr>\n",
       "      <td>12</td>\n",
       "      <td>1002</td>\n",
       "      <td>8</td>\n",
       "      <td>294</td>\n",
       "      <td>42</td>\n",
       "    </tr>\n",
       "    <tr>\n",
       "      <td>13</td>\n",
       "      <td>1002</td>\n",
       "      <td>9</td>\n",
       "      <td>217</td>\n",
       "      <td>36</td>\n",
       "    </tr>\n",
       "    <tr>\n",
       "      <td>14</td>\n",
       "      <td>1002</td>\n",
       "      <td>10</td>\n",
       "      <td>221</td>\n",
       "      <td>33</td>\n",
       "    </tr>\n",
       "    <tr>\n",
       "      <td>15</td>\n",
       "      <td>1002</td>\n",
       "      <td>11</td>\n",
       "      <td>250</td>\n",
       "      <td>32</td>\n",
       "    </tr>\n",
       "    <tr>\n",
       "      <td>16</td>\n",
       "      <td>1002</td>\n",
       "      <td>12</td>\n",
       "      <td>242</td>\n",
       "      <td>33</td>\n",
       "    </tr>\n",
       "    <tr>\n",
       "      <td>17</td>\n",
       "      <td>1003</td>\n",
       "      <td>8</td>\n",
       "      <td>392</td>\n",
       "      <td>55</td>\n",
       "    </tr>\n",
       "    <tr>\n",
       "      <td>18</td>\n",
       "      <td>1003</td>\n",
       "      <td>9</td>\n",
       "      <td>990</td>\n",
       "      <td>134</td>\n",
       "    </tr>\n",
       "    <tr>\n",
       "      <td>19</td>\n",
       "      <td>1003</td>\n",
       "      <td>10</td>\n",
       "      <td>866</td>\n",
       "      <td>108</td>\n",
       "    </tr>\n",
       "  </tbody>\n",
       "</table>\n",
       "</div>"
      ],
      "text/plain": [
       "    user_id  month  duration  calls_count\n",
       "0      1000      5       164           22\n",
       "1      1000      6       187           43\n",
       "2      1000      7       346           47\n",
       "3      1000      8       418           52\n",
       "4      1000      9       478           58\n",
       "5      1000     10       363           57\n",
       "6      1000     11       344           43\n",
       "7      1000     12       341           46\n",
       "8      1001     11       444           59\n",
       "9      1001     12       430           63\n",
       "10     1002      6       118           15\n",
       "11     1002      7       219           26\n",
       "12     1002      8       294           42\n",
       "13     1002      9       217           36\n",
       "14     1002     10       221           33\n",
       "15     1002     11       250           32\n",
       "16     1002     12       242           33\n",
       "17     1003      8       392           55\n",
       "18     1003      9       990          134\n",
       "19     1003     10       866          108"
      ]
     },
     "execution_count": 50,
     "metadata": {},
     "output_type": "execute_result"
    }
   ],
   "source": [
    "df_calls_pivot.head(20)"
   ]
  },
  {
   "cell_type": "markdown",
   "metadata": {},
   "source": [
    "проверяем, чтобы суммы значений длительности в свобной таблице и в исходной были равны"
   ]
  },
  {
   "cell_type": "code",
   "execution_count": 51,
   "metadata": {},
   "outputs": [
    {
     "data": {
      "text/plain": [
       "1489914"
      ]
     },
     "execution_count": 51,
     "metadata": {},
     "output_type": "execute_result"
    }
   ],
   "source": [
    "df_calls['duration'].sum()"
   ]
  },
  {
   "cell_type": "code",
   "execution_count": 52,
   "metadata": {
    "scrolled": true
   },
   "outputs": [
    {
     "data": {
      "text/plain": [
       "1489914"
      ]
     },
     "execution_count": 52,
     "metadata": {},
     "output_type": "execute_result"
    }
   ],
   "source": [
    "df_calls_pivot['duration'].sum()"
   ]
  },
  {
   "cell_type": "markdown",
   "metadata": {},
   "source": [
    "аналогичным образом выведем месяц из даты отправки сообщения и создадим новый столбец"
   ]
  },
  {
   "cell_type": "code",
   "execution_count": 53,
   "metadata": {},
   "outputs": [],
   "source": [
    "df_messages['month'] = df_messages['message_date'].dt.month"
   ]
  },
  {
   "cell_type": "markdown",
   "metadata": {},
   "source": [
    "путем создания сводной таблицы посчитаем количество сообщений в разерезе каждого клиента и месяца отправки"
   ]
  },
  {
   "cell_type": "code",
   "execution_count": 54,
   "metadata": {},
   "outputs": [],
   "source": [
    "df_messages_pivot = df_messages.pivot_table(index = ['user_id', 'month'], values = 'id', aggfunc = 'count').reset_index()"
   ]
  },
  {
   "cell_type": "code",
   "execution_count": 55,
   "metadata": {},
   "outputs": [],
   "source": [
    "df_messages_pivot.columns =['user_id', 'month', 'messages_count']"
   ]
  },
  {
   "cell_type": "code",
   "execution_count": 56,
   "metadata": {
    "scrolled": false
   },
   "outputs": [
    {
     "data": {
      "text/html": [
       "<div>\n",
       "<style scoped>\n",
       "    .dataframe tbody tr th:only-of-type {\n",
       "        vertical-align: middle;\n",
       "    }\n",
       "\n",
       "    .dataframe tbody tr th {\n",
       "        vertical-align: top;\n",
       "    }\n",
       "\n",
       "    .dataframe thead th {\n",
       "        text-align: right;\n",
       "    }\n",
       "</style>\n",
       "<table border=\"1\" class=\"dataframe\">\n",
       "  <thead>\n",
       "    <tr style=\"text-align: right;\">\n",
       "      <th></th>\n",
       "      <th>user_id</th>\n",
       "      <th>month</th>\n",
       "      <th>messages_count</th>\n",
       "    </tr>\n",
       "  </thead>\n",
       "  <tbody>\n",
       "    <tr>\n",
       "      <td>0</td>\n",
       "      <td>1000</td>\n",
       "      <td>5</td>\n",
       "      <td>22</td>\n",
       "    </tr>\n",
       "    <tr>\n",
       "      <td>1</td>\n",
       "      <td>1000</td>\n",
       "      <td>6</td>\n",
       "      <td>60</td>\n",
       "    </tr>\n",
       "    <tr>\n",
       "      <td>2</td>\n",
       "      <td>1000</td>\n",
       "      <td>7</td>\n",
       "      <td>75</td>\n",
       "    </tr>\n",
       "    <tr>\n",
       "      <td>3</td>\n",
       "      <td>1000</td>\n",
       "      <td>8</td>\n",
       "      <td>81</td>\n",
       "    </tr>\n",
       "    <tr>\n",
       "      <td>4</td>\n",
       "      <td>1000</td>\n",
       "      <td>9</td>\n",
       "      <td>57</td>\n",
       "    </tr>\n",
       "  </tbody>\n",
       "</table>\n",
       "</div>"
      ],
      "text/plain": [
       "   user_id  month  messages_count\n",
       "0     1000      5              22\n",
       "1     1000      6              60\n",
       "2     1000      7              75\n",
       "3     1000      8              81\n",
       "4     1000      9              57"
      ]
     },
     "execution_count": 56,
     "metadata": {},
     "output_type": "execute_result"
    }
   ],
   "source": [
    "df_messages_pivot.head()"
   ]
  },
  {
   "cell_type": "markdown",
   "metadata": {},
   "source": [
    "аналогичным образом выделим месяц использования интернет-траффика из даты его использования и создадим сводную таблицу для подсчета суммы использованного траффика в разрезе каждого клиента и месяца использования"
   ]
  },
  {
   "cell_type": "code",
   "execution_count": 57,
   "metadata": {},
   "outputs": [],
   "source": [
    "df_internet['month'] = df_internet['session_date'].dt.month"
   ]
  },
  {
   "cell_type": "code",
   "execution_count": 58,
   "metadata": {},
   "outputs": [],
   "source": [
    "df_internet_pivot = df_internet.pivot_table(index = ['user_id', 'month'], values = 'mb_used', aggfunc = 'sum').reset_index()"
   ]
  },
  {
   "cell_type": "code",
   "execution_count": 59,
   "metadata": {
    "scrolled": false
   },
   "outputs": [
    {
     "data": {
      "text/html": [
       "<div>\n",
       "<style scoped>\n",
       "    .dataframe tbody tr th:only-of-type {\n",
       "        vertical-align: middle;\n",
       "    }\n",
       "\n",
       "    .dataframe tbody tr th {\n",
       "        vertical-align: top;\n",
       "    }\n",
       "\n",
       "    .dataframe thead th {\n",
       "        text-align: right;\n",
       "    }\n",
       "</style>\n",
       "<table border=\"1\" class=\"dataframe\">\n",
       "  <thead>\n",
       "    <tr style=\"text-align: right;\">\n",
       "      <th></th>\n",
       "      <th>user_id</th>\n",
       "      <th>month</th>\n",
       "      <th>mb_used</th>\n",
       "    </tr>\n",
       "  </thead>\n",
       "  <tbody>\n",
       "    <tr>\n",
       "      <td>0</td>\n",
       "      <td>1000</td>\n",
       "      <td>5</td>\n",
       "      <td>2257</td>\n",
       "    </tr>\n",
       "    <tr>\n",
       "      <td>1</td>\n",
       "      <td>1000</td>\n",
       "      <td>6</td>\n",
       "      <td>23262</td>\n",
       "    </tr>\n",
       "    <tr>\n",
       "      <td>2</td>\n",
       "      <td>1000</td>\n",
       "      <td>7</td>\n",
       "      <td>14017</td>\n",
       "    </tr>\n",
       "    <tr>\n",
       "      <td>3</td>\n",
       "      <td>1000</td>\n",
       "      <td>8</td>\n",
       "      <td>14072</td>\n",
       "    </tr>\n",
       "    <tr>\n",
       "      <td>4</td>\n",
       "      <td>1000</td>\n",
       "      <td>9</td>\n",
       "      <td>14583</td>\n",
       "    </tr>\n",
       "  </tbody>\n",
       "</table>\n",
       "</div>"
      ],
      "text/plain": [
       "   user_id  month  mb_used\n",
       "0     1000      5     2257\n",
       "1     1000      6    23262\n",
       "2     1000      7    14017\n",
       "3     1000      8    14072\n",
       "4     1000      9    14583"
      ]
     },
     "execution_count": 59,
     "metadata": {},
     "output_type": "execute_result"
    }
   ],
   "source": [
    "df_internet_pivot.head()"
   ]
  },
  {
   "cell_type": "markdown",
   "metadata": {},
   "source": [
    "аналогично выведем месяц регистрации пользователя из даты его регистрации"
   ]
  },
  {
   "cell_type": "code",
   "execution_count": 60,
   "metadata": {},
   "outputs": [],
   "source": [
    "df_users['reg_month'] = df_users['reg_date'].dt.month"
   ]
  },
  {
   "cell_type": "markdown",
   "metadata": {},
   "source": [
    "далее определим диапазон дат регистрации новых клиентов и сгенерируем таблицу, где для каждого клиента будет каждый месяц из полученного диапазона"
   ]
  },
  {
   "cell_type": "code",
   "execution_count": 61,
   "metadata": {},
   "outputs": [],
   "source": [
    "min_month = df_users['reg_date'].values.astype('datetime64[M]').min()"
   ]
  },
  {
   "cell_type": "code",
   "execution_count": 62,
   "metadata": {},
   "outputs": [],
   "source": [
    "max_month = df_users['reg_date'].values.astype('datetime64[M]').max()"
   ]
  },
  {
   "cell_type": "code",
   "execution_count": 63,
   "metadata": {},
   "outputs": [
    {
     "data": {
      "text/plain": [
       "(numpy.datetime64('2018-01'), numpy.datetime64('2018-12'))"
      ]
     },
     "execution_count": 63,
     "metadata": {},
     "output_type": "execute_result"
    }
   ],
   "source": [
    "(min_month, max_month)"
   ]
  },
  {
   "cell_type": "code",
   "execution_count": 64,
   "metadata": {},
   "outputs": [
    {
     "data": {
      "text/plain": [
       "DatetimeIndex(['2018-01-01', '2018-02-01', '2018-03-01', '2018-04-01',\n",
       "               '2018-05-01', '2018-06-01', '2018-07-01', '2018-08-01',\n",
       "               '2018-09-01', '2018-10-01', '2018-11-01', '2018-12-01'],\n",
       "              dtype='datetime64[ns]', freq='MS')"
      ]
     },
     "execution_count": 64,
     "metadata": {},
     "output_type": "execute_result"
    }
   ],
   "source": [
    "pd.date_range(min_month,max_month, freq = 'MS')"
   ]
  },
  {
   "cell_type": "code",
   "execution_count": 65,
   "metadata": {},
   "outputs": [],
   "source": [
    "dm = pd.DataFrame(pd.date_range(min_month,max_month,freq='MS'))"
   ]
  },
  {
   "cell_type": "code",
   "execution_count": 66,
   "metadata": {},
   "outputs": [
    {
     "data": {
      "text/html": [
       "<div>\n",
       "<style scoped>\n",
       "    .dataframe tbody tr th:only-of-type {\n",
       "        vertical-align: middle;\n",
       "    }\n",
       "\n",
       "    .dataframe tbody tr th {\n",
       "        vertical-align: top;\n",
       "    }\n",
       "\n",
       "    .dataframe thead th {\n",
       "        text-align: right;\n",
       "    }\n",
       "</style>\n",
       "<table border=\"1\" class=\"dataframe\">\n",
       "  <thead>\n",
       "    <tr style=\"text-align: right;\">\n",
       "      <th></th>\n",
       "      <th>0</th>\n",
       "    </tr>\n",
       "  </thead>\n",
       "  <tbody>\n",
       "    <tr>\n",
       "      <td>0</td>\n",
       "      <td>2018-01-01</td>\n",
       "    </tr>\n",
       "    <tr>\n",
       "      <td>1</td>\n",
       "      <td>2018-02-01</td>\n",
       "    </tr>\n",
       "    <tr>\n",
       "      <td>2</td>\n",
       "      <td>2018-03-01</td>\n",
       "    </tr>\n",
       "    <tr>\n",
       "      <td>3</td>\n",
       "      <td>2018-04-01</td>\n",
       "    </tr>\n",
       "    <tr>\n",
       "      <td>4</td>\n",
       "      <td>2018-05-01</td>\n",
       "    </tr>\n",
       "    <tr>\n",
       "      <td>5</td>\n",
       "      <td>2018-06-01</td>\n",
       "    </tr>\n",
       "    <tr>\n",
       "      <td>6</td>\n",
       "      <td>2018-07-01</td>\n",
       "    </tr>\n",
       "    <tr>\n",
       "      <td>7</td>\n",
       "      <td>2018-08-01</td>\n",
       "    </tr>\n",
       "    <tr>\n",
       "      <td>8</td>\n",
       "      <td>2018-09-01</td>\n",
       "    </tr>\n",
       "    <tr>\n",
       "      <td>9</td>\n",
       "      <td>2018-10-01</td>\n",
       "    </tr>\n",
       "    <tr>\n",
       "      <td>10</td>\n",
       "      <td>2018-11-01</td>\n",
       "    </tr>\n",
       "    <tr>\n",
       "      <td>11</td>\n",
       "      <td>2018-12-01</td>\n",
       "    </tr>\n",
       "  </tbody>\n",
       "</table>\n",
       "</div>"
      ],
      "text/plain": [
       "            0\n",
       "0  2018-01-01\n",
       "1  2018-02-01\n",
       "2  2018-03-01\n",
       "3  2018-04-01\n",
       "4  2018-05-01\n",
       "5  2018-06-01\n",
       "6  2018-07-01\n",
       "7  2018-08-01\n",
       "8  2018-09-01\n",
       "9  2018-10-01\n",
       "10 2018-11-01\n",
       "11 2018-12-01"
      ]
     },
     "execution_count": 66,
     "metadata": {},
     "output_type": "execute_result"
    }
   ],
   "source": [
    "dm"
   ]
  },
  {
   "cell_type": "code",
   "execution_count": 67,
   "metadata": {},
   "outputs": [],
   "source": [
    "dm.columns = ['month']"
   ]
  },
  {
   "cell_type": "code",
   "execution_count": 68,
   "metadata": {},
   "outputs": [
    {
     "data": {
      "text/plain": [
       "0      1\n",
       "1      2\n",
       "2      3\n",
       "3      4\n",
       "4      5\n",
       "5      6\n",
       "6      7\n",
       "7      8\n",
       "8      9\n",
       "9     10\n",
       "10    11\n",
       "11    12\n",
       "Name: month, dtype: int64"
      ]
     },
     "execution_count": 68,
     "metadata": {},
     "output_type": "execute_result"
    }
   ],
   "source": [
    "dm['month'].dt.month"
   ]
  },
  {
   "cell_type": "code",
   "execution_count": 69,
   "metadata": {
    "scrolled": true
   },
   "outputs": [
    {
     "data": {
      "text/plain": [
       "6000"
      ]
     },
     "execution_count": 69,
     "metadata": {},
     "output_type": "execute_result"
    }
   ],
   "source": [
    "len(df_users)*len(dm)"
   ]
  },
  {
   "cell_type": "markdown",
   "metadata": {},
   "source": [
    "сейчас методом merge объединим полученную таблицу с месяцами из диапазона дат регистраций клиентов с таблицей df_users, создав для них общий столбец 'key', а также сооздав в результате данного объединения новый датафрейм user_data, где для каждого пользователя будут все 12 месяцев 2018 года"
   ]
  },
  {
   "cell_type": "code",
   "execution_count": 70,
   "metadata": {},
   "outputs": [],
   "source": [
    "dm['key'] = 1\n",
    "df_users['key'] = 1"
   ]
  },
  {
   "cell_type": "code",
   "execution_count": 71,
   "metadata": {},
   "outputs": [],
   "source": [
    "user_data = dm.merge(df_users,on='key')"
   ]
  },
  {
   "cell_type": "markdown",
   "metadata": {},
   "source": [
    "проверим, чтобы количество строк было равно количеству до объедиения"
   ]
  },
  {
   "cell_type": "code",
   "execution_count": 72,
   "metadata": {},
   "outputs": [
    {
     "data": {
      "text/plain": [
       "6000"
      ]
     },
     "execution_count": 72,
     "metadata": {},
     "output_type": "execute_result"
    }
   ],
   "source": [
    "len(user_data)"
   ]
  },
  {
   "cell_type": "markdown",
   "metadata": {},
   "source": [
    "посмотрим на отдельно взятого клиента"
   ]
  },
  {
   "cell_type": "code",
   "execution_count": 73,
   "metadata": {
    "scrolled": false
   },
   "outputs": [
    {
     "data": {
      "text/html": [
       "<div>\n",
       "<style scoped>\n",
       "    .dataframe tbody tr th:only-of-type {\n",
       "        vertical-align: middle;\n",
       "    }\n",
       "\n",
       "    .dataframe tbody tr th {\n",
       "        vertical-align: top;\n",
       "    }\n",
       "\n",
       "    .dataframe thead th {\n",
       "        text-align: right;\n",
       "    }\n",
       "</style>\n",
       "<table border=\"1\" class=\"dataframe\">\n",
       "  <thead>\n",
       "    <tr style=\"text-align: right;\">\n",
       "      <th></th>\n",
       "      <th>month</th>\n",
       "      <th>key</th>\n",
       "      <th>user_id</th>\n",
       "      <th>age</th>\n",
       "      <th>churn_date</th>\n",
       "      <th>city</th>\n",
       "      <th>first_name</th>\n",
       "      <th>last_name</th>\n",
       "      <th>reg_date</th>\n",
       "      <th>tariff</th>\n",
       "      <th>reg_month</th>\n",
       "    </tr>\n",
       "  </thead>\n",
       "  <tbody>\n",
       "    <tr>\n",
       "      <td>499</td>\n",
       "      <td>2018-01-01</td>\n",
       "      <td>1</td>\n",
       "      <td>1499</td>\n",
       "      <td>35</td>\n",
       "      <td>2019-01-01</td>\n",
       "      <td>Пермь</td>\n",
       "      <td>Гектор</td>\n",
       "      <td>Корнилов</td>\n",
       "      <td>2018-09-27</td>\n",
       "      <td>smart</td>\n",
       "      <td>9</td>\n",
       "    </tr>\n",
       "    <tr>\n",
       "      <td>999</td>\n",
       "      <td>2018-02-01</td>\n",
       "      <td>1</td>\n",
       "      <td>1499</td>\n",
       "      <td>35</td>\n",
       "      <td>2019-01-01</td>\n",
       "      <td>Пермь</td>\n",
       "      <td>Гектор</td>\n",
       "      <td>Корнилов</td>\n",
       "      <td>2018-09-27</td>\n",
       "      <td>smart</td>\n",
       "      <td>9</td>\n",
       "    </tr>\n",
       "    <tr>\n",
       "      <td>1499</td>\n",
       "      <td>2018-03-01</td>\n",
       "      <td>1</td>\n",
       "      <td>1499</td>\n",
       "      <td>35</td>\n",
       "      <td>2019-01-01</td>\n",
       "      <td>Пермь</td>\n",
       "      <td>Гектор</td>\n",
       "      <td>Корнилов</td>\n",
       "      <td>2018-09-27</td>\n",
       "      <td>smart</td>\n",
       "      <td>9</td>\n",
       "    </tr>\n",
       "    <tr>\n",
       "      <td>1999</td>\n",
       "      <td>2018-04-01</td>\n",
       "      <td>1</td>\n",
       "      <td>1499</td>\n",
       "      <td>35</td>\n",
       "      <td>2019-01-01</td>\n",
       "      <td>Пермь</td>\n",
       "      <td>Гектор</td>\n",
       "      <td>Корнилов</td>\n",
       "      <td>2018-09-27</td>\n",
       "      <td>smart</td>\n",
       "      <td>9</td>\n",
       "    </tr>\n",
       "    <tr>\n",
       "      <td>2499</td>\n",
       "      <td>2018-05-01</td>\n",
       "      <td>1</td>\n",
       "      <td>1499</td>\n",
       "      <td>35</td>\n",
       "      <td>2019-01-01</td>\n",
       "      <td>Пермь</td>\n",
       "      <td>Гектор</td>\n",
       "      <td>Корнилов</td>\n",
       "      <td>2018-09-27</td>\n",
       "      <td>smart</td>\n",
       "      <td>9</td>\n",
       "    </tr>\n",
       "    <tr>\n",
       "      <td>2999</td>\n",
       "      <td>2018-06-01</td>\n",
       "      <td>1</td>\n",
       "      <td>1499</td>\n",
       "      <td>35</td>\n",
       "      <td>2019-01-01</td>\n",
       "      <td>Пермь</td>\n",
       "      <td>Гектор</td>\n",
       "      <td>Корнилов</td>\n",
       "      <td>2018-09-27</td>\n",
       "      <td>smart</td>\n",
       "      <td>9</td>\n",
       "    </tr>\n",
       "    <tr>\n",
       "      <td>3499</td>\n",
       "      <td>2018-07-01</td>\n",
       "      <td>1</td>\n",
       "      <td>1499</td>\n",
       "      <td>35</td>\n",
       "      <td>2019-01-01</td>\n",
       "      <td>Пермь</td>\n",
       "      <td>Гектор</td>\n",
       "      <td>Корнилов</td>\n",
       "      <td>2018-09-27</td>\n",
       "      <td>smart</td>\n",
       "      <td>9</td>\n",
       "    </tr>\n",
       "    <tr>\n",
       "      <td>3999</td>\n",
       "      <td>2018-08-01</td>\n",
       "      <td>1</td>\n",
       "      <td>1499</td>\n",
       "      <td>35</td>\n",
       "      <td>2019-01-01</td>\n",
       "      <td>Пермь</td>\n",
       "      <td>Гектор</td>\n",
       "      <td>Корнилов</td>\n",
       "      <td>2018-09-27</td>\n",
       "      <td>smart</td>\n",
       "      <td>9</td>\n",
       "    </tr>\n",
       "    <tr>\n",
       "      <td>4499</td>\n",
       "      <td>2018-09-01</td>\n",
       "      <td>1</td>\n",
       "      <td>1499</td>\n",
       "      <td>35</td>\n",
       "      <td>2019-01-01</td>\n",
       "      <td>Пермь</td>\n",
       "      <td>Гектор</td>\n",
       "      <td>Корнилов</td>\n",
       "      <td>2018-09-27</td>\n",
       "      <td>smart</td>\n",
       "      <td>9</td>\n",
       "    </tr>\n",
       "    <tr>\n",
       "      <td>4999</td>\n",
       "      <td>2018-10-01</td>\n",
       "      <td>1</td>\n",
       "      <td>1499</td>\n",
       "      <td>35</td>\n",
       "      <td>2019-01-01</td>\n",
       "      <td>Пермь</td>\n",
       "      <td>Гектор</td>\n",
       "      <td>Корнилов</td>\n",
       "      <td>2018-09-27</td>\n",
       "      <td>smart</td>\n",
       "      <td>9</td>\n",
       "    </tr>\n",
       "    <tr>\n",
       "      <td>5499</td>\n",
       "      <td>2018-11-01</td>\n",
       "      <td>1</td>\n",
       "      <td>1499</td>\n",
       "      <td>35</td>\n",
       "      <td>2019-01-01</td>\n",
       "      <td>Пермь</td>\n",
       "      <td>Гектор</td>\n",
       "      <td>Корнилов</td>\n",
       "      <td>2018-09-27</td>\n",
       "      <td>smart</td>\n",
       "      <td>9</td>\n",
       "    </tr>\n",
       "    <tr>\n",
       "      <td>5999</td>\n",
       "      <td>2018-12-01</td>\n",
       "      <td>1</td>\n",
       "      <td>1499</td>\n",
       "      <td>35</td>\n",
       "      <td>2019-01-01</td>\n",
       "      <td>Пермь</td>\n",
       "      <td>Гектор</td>\n",
       "      <td>Корнилов</td>\n",
       "      <td>2018-09-27</td>\n",
       "      <td>smart</td>\n",
       "      <td>9</td>\n",
       "    </tr>\n",
       "  </tbody>\n",
       "</table>\n",
       "</div>"
      ],
      "text/plain": [
       "          month  key user_id  age churn_date   city first_name last_name  \\\n",
       "499  2018-01-01    1    1499   35 2019-01-01  Пермь     Гектор  Корнилов   \n",
       "999  2018-02-01    1    1499   35 2019-01-01  Пермь     Гектор  Корнилов   \n",
       "1499 2018-03-01    1    1499   35 2019-01-01  Пермь     Гектор  Корнилов   \n",
       "1999 2018-04-01    1    1499   35 2019-01-01  Пермь     Гектор  Корнилов   \n",
       "2499 2018-05-01    1    1499   35 2019-01-01  Пермь     Гектор  Корнилов   \n",
       "2999 2018-06-01    1    1499   35 2019-01-01  Пермь     Гектор  Корнилов   \n",
       "3499 2018-07-01    1    1499   35 2019-01-01  Пермь     Гектор  Корнилов   \n",
       "3999 2018-08-01    1    1499   35 2019-01-01  Пермь     Гектор  Корнилов   \n",
       "4499 2018-09-01    1    1499   35 2019-01-01  Пермь     Гектор  Корнилов   \n",
       "4999 2018-10-01    1    1499   35 2019-01-01  Пермь     Гектор  Корнилов   \n",
       "5499 2018-11-01    1    1499   35 2019-01-01  Пермь     Гектор  Корнилов   \n",
       "5999 2018-12-01    1    1499   35 2019-01-01  Пермь     Гектор  Корнилов   \n",
       "\n",
       "       reg_date tariff  reg_month  \n",
       "499  2018-09-27  smart          9  \n",
       "999  2018-09-27  smart          9  \n",
       "1499 2018-09-27  smart          9  \n",
       "1999 2018-09-27  smart          9  \n",
       "2499 2018-09-27  smart          9  \n",
       "2999 2018-09-27  smart          9  \n",
       "3499 2018-09-27  smart          9  \n",
       "3999 2018-09-27  smart          9  \n",
       "4499 2018-09-27  smart          9  \n",
       "4999 2018-09-27  smart          9  \n",
       "5499 2018-09-27  smart          9  \n",
       "5999 2018-09-27  smart          9  "
      ]
     },
     "execution_count": 73,
     "metadata": {},
     "output_type": "execute_result"
    }
   ],
   "source": [
    "user_data[user_data['user_id'] == 1499]"
   ]
  },
  {
   "cell_type": "code",
   "execution_count": 74,
   "metadata": {},
   "outputs": [],
   "source": [
    "user_data['month'] = user_data['month'].dt.month"
   ]
  },
  {
   "cell_type": "markdown",
   "metadata": {},
   "source": [
    "далее созданную таблицу user_data методом merge будем объединять с полученными выше сводными таблицами по общим столбцам 'user_id' и 'month', проверяя также, чтобы сумма значений равнялась сумме до объединения"
   ]
  },
  {
   "cell_type": "code",
   "execution_count": 75,
   "metadata": {},
   "outputs": [],
   "source": [
    "user_data = user_data.merge(df_internet_pivot,how='left',on=['user_id','month'])"
   ]
  },
  {
   "cell_type": "code",
   "execution_count": 76,
   "metadata": {},
   "outputs": [
    {
     "data": {
      "text/plain": [
       "55389057"
      ]
     },
     "execution_count": 76,
     "metadata": {},
     "output_type": "execute_result"
    }
   ],
   "source": [
    "df_internet_pivot['mb_used'].sum()"
   ]
  },
  {
   "cell_type": "code",
   "execution_count": 77,
   "metadata": {},
   "outputs": [
    {
     "data": {
      "text/plain": [
       "55389057.0"
      ]
     },
     "execution_count": 77,
     "metadata": {},
     "output_type": "execute_result"
    }
   ],
   "source": [
    "user_data['mb_used'].sum()"
   ]
  },
  {
   "cell_type": "code",
   "execution_count": 78,
   "metadata": {},
   "outputs": [],
   "source": [
    "user_data = user_data.merge(df_calls_pivot,how='left',on=['user_id','month'])"
   ]
  },
  {
   "cell_type": "code",
   "execution_count": 79,
   "metadata": {
    "scrolled": false
   },
   "outputs": [
    {
     "data": {
      "text/html": [
       "<div>\n",
       "<style scoped>\n",
       "    .dataframe tbody tr th:only-of-type {\n",
       "        vertical-align: middle;\n",
       "    }\n",
       "\n",
       "    .dataframe tbody tr th {\n",
       "        vertical-align: top;\n",
       "    }\n",
       "\n",
       "    .dataframe thead th {\n",
       "        text-align: right;\n",
       "    }\n",
       "</style>\n",
       "<table border=\"1\" class=\"dataframe\">\n",
       "  <thead>\n",
       "    <tr style=\"text-align: right;\">\n",
       "      <th></th>\n",
       "      <th>month</th>\n",
       "      <th>key</th>\n",
       "      <th>user_id</th>\n",
       "      <th>age</th>\n",
       "      <th>churn_date</th>\n",
       "      <th>city</th>\n",
       "      <th>first_name</th>\n",
       "      <th>last_name</th>\n",
       "      <th>reg_date</th>\n",
       "      <th>tariff</th>\n",
       "      <th>reg_month</th>\n",
       "      <th>mb_used</th>\n",
       "      <th>duration</th>\n",
       "      <th>calls_count</th>\n",
       "    </tr>\n",
       "  </thead>\n",
       "  <tbody>\n",
       "    <tr>\n",
       "      <td>0</td>\n",
       "      <td>1</td>\n",
       "      <td>1</td>\n",
       "      <td>1000</td>\n",
       "      <td>52</td>\n",
       "      <td>2019-01-01</td>\n",
       "      <td>Краснодар</td>\n",
       "      <td>Рафаил</td>\n",
       "      <td>Верещагин</td>\n",
       "      <td>2018-05-25</td>\n",
       "      <td>ultra</td>\n",
       "      <td>5</td>\n",
       "      <td>NaN</td>\n",
       "      <td>NaN</td>\n",
       "      <td>NaN</td>\n",
       "    </tr>\n",
       "    <tr>\n",
       "      <td>1</td>\n",
       "      <td>1</td>\n",
       "      <td>1</td>\n",
       "      <td>1001</td>\n",
       "      <td>41</td>\n",
       "      <td>2019-01-01</td>\n",
       "      <td>Москва</td>\n",
       "      <td>Иван</td>\n",
       "      <td>Ежов</td>\n",
       "      <td>2018-11-01</td>\n",
       "      <td>smart</td>\n",
       "      <td>11</td>\n",
       "      <td>NaN</td>\n",
       "      <td>NaN</td>\n",
       "      <td>NaN</td>\n",
       "    </tr>\n",
       "    <tr>\n",
       "      <td>2</td>\n",
       "      <td>1</td>\n",
       "      <td>1</td>\n",
       "      <td>1002</td>\n",
       "      <td>59</td>\n",
       "      <td>2019-01-01</td>\n",
       "      <td>Стерлитамак</td>\n",
       "      <td>Евгений</td>\n",
       "      <td>Абрамович</td>\n",
       "      <td>2018-06-17</td>\n",
       "      <td>smart</td>\n",
       "      <td>6</td>\n",
       "      <td>NaN</td>\n",
       "      <td>NaN</td>\n",
       "      <td>NaN</td>\n",
       "    </tr>\n",
       "    <tr>\n",
       "      <td>3</td>\n",
       "      <td>1</td>\n",
       "      <td>1</td>\n",
       "      <td>1003</td>\n",
       "      <td>23</td>\n",
       "      <td>2019-01-01</td>\n",
       "      <td>Москва</td>\n",
       "      <td>Белла</td>\n",
       "      <td>Белякова</td>\n",
       "      <td>2018-08-17</td>\n",
       "      <td>ultra</td>\n",
       "      <td>8</td>\n",
       "      <td>NaN</td>\n",
       "      <td>NaN</td>\n",
       "      <td>NaN</td>\n",
       "    </tr>\n",
       "    <tr>\n",
       "      <td>4</td>\n",
       "      <td>1</td>\n",
       "      <td>1</td>\n",
       "      <td>1004</td>\n",
       "      <td>68</td>\n",
       "      <td>2019-01-01</td>\n",
       "      <td>Новокузнецк</td>\n",
       "      <td>Татьяна</td>\n",
       "      <td>Авдеенко</td>\n",
       "      <td>2018-05-14</td>\n",
       "      <td>ultra</td>\n",
       "      <td>5</td>\n",
       "      <td>NaN</td>\n",
       "      <td>NaN</td>\n",
       "      <td>NaN</td>\n",
       "    </tr>\n",
       "  </tbody>\n",
       "</table>\n",
       "</div>"
      ],
      "text/plain": [
       "   month  key user_id  age churn_date         city first_name  last_name  \\\n",
       "0      1    1    1000   52 2019-01-01    Краснодар     Рафаил  Верещагин   \n",
       "1      1    1    1001   41 2019-01-01       Москва       Иван       Ежов   \n",
       "2      1    1    1002   59 2019-01-01  Стерлитамак    Евгений  Абрамович   \n",
       "3      1    1    1003   23 2019-01-01       Москва      Белла   Белякова   \n",
       "4      1    1    1004   68 2019-01-01  Новокузнецк    Татьяна   Авдеенко   \n",
       "\n",
       "    reg_date tariff  reg_month  mb_used  duration  calls_count  \n",
       "0 2018-05-25  ultra          5      NaN       NaN          NaN  \n",
       "1 2018-11-01  smart         11      NaN       NaN          NaN  \n",
       "2 2018-06-17  smart          6      NaN       NaN          NaN  \n",
       "3 2018-08-17  ultra          8      NaN       NaN          NaN  \n",
       "4 2018-05-14  ultra          5      NaN       NaN          NaN  "
      ]
     },
     "execution_count": 79,
     "metadata": {},
     "output_type": "execute_result"
    }
   ],
   "source": [
    "user_data.head()"
   ]
  },
  {
   "cell_type": "code",
   "execution_count": 80,
   "metadata": {},
   "outputs": [
    {
     "data": {
      "text/html": [
       "<div>\n",
       "<style scoped>\n",
       "    .dataframe tbody tr th:only-of-type {\n",
       "        vertical-align: middle;\n",
       "    }\n",
       "\n",
       "    .dataframe tbody tr th {\n",
       "        vertical-align: top;\n",
       "    }\n",
       "\n",
       "    .dataframe thead th {\n",
       "        text-align: right;\n",
       "    }\n",
       "</style>\n",
       "<table border=\"1\" class=\"dataframe\">\n",
       "  <thead>\n",
       "    <tr style=\"text-align: right;\">\n",
       "      <th></th>\n",
       "      <th>month</th>\n",
       "      <th>key</th>\n",
       "      <th>user_id</th>\n",
       "      <th>age</th>\n",
       "      <th>churn_date</th>\n",
       "      <th>city</th>\n",
       "      <th>first_name</th>\n",
       "      <th>last_name</th>\n",
       "      <th>reg_date</th>\n",
       "      <th>tariff</th>\n",
       "      <th>reg_month</th>\n",
       "      <th>mb_used</th>\n",
       "      <th>duration</th>\n",
       "      <th>calls_count</th>\n",
       "    </tr>\n",
       "  </thead>\n",
       "  <tbody>\n",
       "    <tr>\n",
       "      <td>4</td>\n",
       "      <td>1</td>\n",
       "      <td>1</td>\n",
       "      <td>1004</td>\n",
       "      <td>68</td>\n",
       "      <td>2019-01-01</td>\n",
       "      <td>Новокузнецк</td>\n",
       "      <td>Татьяна</td>\n",
       "      <td>Авдеенко</td>\n",
       "      <td>2018-05-14</td>\n",
       "      <td>ultra</td>\n",
       "      <td>5</td>\n",
       "      <td>NaN</td>\n",
       "      <td>NaN</td>\n",
       "      <td>NaN</td>\n",
       "    </tr>\n",
       "    <tr>\n",
       "      <td>504</td>\n",
       "      <td>2</td>\n",
       "      <td>1</td>\n",
       "      <td>1004</td>\n",
       "      <td>68</td>\n",
       "      <td>2019-01-01</td>\n",
       "      <td>Новокузнецк</td>\n",
       "      <td>Татьяна</td>\n",
       "      <td>Авдеенко</td>\n",
       "      <td>2018-05-14</td>\n",
       "      <td>ultra</td>\n",
       "      <td>5</td>\n",
       "      <td>NaN</td>\n",
       "      <td>NaN</td>\n",
       "      <td>NaN</td>\n",
       "    </tr>\n",
       "    <tr>\n",
       "      <td>1004</td>\n",
       "      <td>3</td>\n",
       "      <td>1</td>\n",
       "      <td>1004</td>\n",
       "      <td>68</td>\n",
       "      <td>2019-01-01</td>\n",
       "      <td>Новокузнецк</td>\n",
       "      <td>Татьяна</td>\n",
       "      <td>Авдеенко</td>\n",
       "      <td>2018-05-14</td>\n",
       "      <td>ultra</td>\n",
       "      <td>5</td>\n",
       "      <td>NaN</td>\n",
       "      <td>NaN</td>\n",
       "      <td>NaN</td>\n",
       "    </tr>\n",
       "    <tr>\n",
       "      <td>1504</td>\n",
       "      <td>4</td>\n",
       "      <td>1</td>\n",
       "      <td>1004</td>\n",
       "      <td>68</td>\n",
       "      <td>2019-01-01</td>\n",
       "      <td>Новокузнецк</td>\n",
       "      <td>Татьяна</td>\n",
       "      <td>Авдеенко</td>\n",
       "      <td>2018-05-14</td>\n",
       "      <td>ultra</td>\n",
       "      <td>5</td>\n",
       "      <td>NaN</td>\n",
       "      <td>NaN</td>\n",
       "      <td>NaN</td>\n",
       "    </tr>\n",
       "    <tr>\n",
       "      <td>2004</td>\n",
       "      <td>5</td>\n",
       "      <td>1</td>\n",
       "      <td>1004</td>\n",
       "      <td>68</td>\n",
       "      <td>2019-01-01</td>\n",
       "      <td>Новокузнецк</td>\n",
       "      <td>Татьяна</td>\n",
       "      <td>Авдеенко</td>\n",
       "      <td>2018-05-14</td>\n",
       "      <td>ultra</td>\n",
       "      <td>5</td>\n",
       "      <td>13415.0</td>\n",
       "      <td>37.0</td>\n",
       "      <td>9.0</td>\n",
       "    </tr>\n",
       "    <tr>\n",
       "      <td>2504</td>\n",
       "      <td>6</td>\n",
       "      <td>1</td>\n",
       "      <td>1004</td>\n",
       "      <td>68</td>\n",
       "      <td>2019-01-01</td>\n",
       "      <td>Новокузнецк</td>\n",
       "      <td>Татьяна</td>\n",
       "      <td>Авдеенко</td>\n",
       "      <td>2018-05-14</td>\n",
       "      <td>ultra</td>\n",
       "      <td>5</td>\n",
       "      <td>17621.0</td>\n",
       "      <td>177.0</td>\n",
       "      <td>31.0</td>\n",
       "    </tr>\n",
       "    <tr>\n",
       "      <td>3004</td>\n",
       "      <td>7</td>\n",
       "      <td>1</td>\n",
       "      <td>1004</td>\n",
       "      <td>68</td>\n",
       "      <td>2019-01-01</td>\n",
       "      <td>Новокузнецк</td>\n",
       "      <td>Татьяна</td>\n",
       "      <td>Авдеенко</td>\n",
       "      <td>2018-05-14</td>\n",
       "      <td>ultra</td>\n",
       "      <td>5</td>\n",
       "      <td>22246.0</td>\n",
       "      <td>137.0</td>\n",
       "      <td>22.0</td>\n",
       "    </tr>\n",
       "    <tr>\n",
       "      <td>3504</td>\n",
       "      <td>8</td>\n",
       "      <td>1</td>\n",
       "      <td>1004</td>\n",
       "      <td>68</td>\n",
       "      <td>2019-01-01</td>\n",
       "      <td>Новокузнецк</td>\n",
       "      <td>Татьяна</td>\n",
       "      <td>Авдеенко</td>\n",
       "      <td>2018-05-14</td>\n",
       "      <td>ultra</td>\n",
       "      <td>5</td>\n",
       "      <td>28609.0</td>\n",
       "      <td>138.0</td>\n",
       "      <td>19.0</td>\n",
       "    </tr>\n",
       "    <tr>\n",
       "      <td>4004</td>\n",
       "      <td>9</td>\n",
       "      <td>1</td>\n",
       "      <td>1004</td>\n",
       "      <td>68</td>\n",
       "      <td>2019-01-01</td>\n",
       "      <td>Новокузнецк</td>\n",
       "      <td>Татьяна</td>\n",
       "      <td>Авдеенко</td>\n",
       "      <td>2018-05-14</td>\n",
       "      <td>ultra</td>\n",
       "      <td>5</td>\n",
       "      <td>15130.0</td>\n",
       "      <td>125.0</td>\n",
       "      <td>26.0</td>\n",
       "    </tr>\n",
       "    <tr>\n",
       "      <td>4504</td>\n",
       "      <td>10</td>\n",
       "      <td>1</td>\n",
       "      <td>1004</td>\n",
       "      <td>68</td>\n",
       "      <td>2019-01-01</td>\n",
       "      <td>Новокузнецк</td>\n",
       "      <td>Татьяна</td>\n",
       "      <td>Авдеенко</td>\n",
       "      <td>2018-05-14</td>\n",
       "      <td>ultra</td>\n",
       "      <td>5</td>\n",
       "      <td>18498.0</td>\n",
       "      <td>153.0</td>\n",
       "      <td>29.0</td>\n",
       "    </tr>\n",
       "    <tr>\n",
       "      <td>5004</td>\n",
       "      <td>11</td>\n",
       "      <td>1</td>\n",
       "      <td>1004</td>\n",
       "      <td>68</td>\n",
       "      <td>2019-01-01</td>\n",
       "      <td>Новокузнецк</td>\n",
       "      <td>Татьяна</td>\n",
       "      <td>Авдеенко</td>\n",
       "      <td>2018-05-14</td>\n",
       "      <td>ultra</td>\n",
       "      <td>5</td>\n",
       "      <td>15634.0</td>\n",
       "      <td>121.0</td>\n",
       "      <td>19.0</td>\n",
       "    </tr>\n",
       "    <tr>\n",
       "      <td>5504</td>\n",
       "      <td>12</td>\n",
       "      <td>1</td>\n",
       "      <td>1004</td>\n",
       "      <td>68</td>\n",
       "      <td>2019-01-01</td>\n",
       "      <td>Новокузнецк</td>\n",
       "      <td>Татьяна</td>\n",
       "      <td>Авдеенко</td>\n",
       "      <td>2018-05-14</td>\n",
       "      <td>ultra</td>\n",
       "      <td>5</td>\n",
       "      <td>18041.0</td>\n",
       "      <td>136.0</td>\n",
       "      <td>21.0</td>\n",
       "    </tr>\n",
       "  </tbody>\n",
       "</table>\n",
       "</div>"
      ],
      "text/plain": [
       "      month  key user_id  age churn_date         city first_name last_name  \\\n",
       "4         1    1    1004   68 2019-01-01  Новокузнецк    Татьяна  Авдеенко   \n",
       "504       2    1    1004   68 2019-01-01  Новокузнецк    Татьяна  Авдеенко   \n",
       "1004      3    1    1004   68 2019-01-01  Новокузнецк    Татьяна  Авдеенко   \n",
       "1504      4    1    1004   68 2019-01-01  Новокузнецк    Татьяна  Авдеенко   \n",
       "2004      5    1    1004   68 2019-01-01  Новокузнецк    Татьяна  Авдеенко   \n",
       "2504      6    1    1004   68 2019-01-01  Новокузнецк    Татьяна  Авдеенко   \n",
       "3004      7    1    1004   68 2019-01-01  Новокузнецк    Татьяна  Авдеенко   \n",
       "3504      8    1    1004   68 2019-01-01  Новокузнецк    Татьяна  Авдеенко   \n",
       "4004      9    1    1004   68 2019-01-01  Новокузнецк    Татьяна  Авдеенко   \n",
       "4504     10    1    1004   68 2019-01-01  Новокузнецк    Татьяна  Авдеенко   \n",
       "5004     11    1    1004   68 2019-01-01  Новокузнецк    Татьяна  Авдеенко   \n",
       "5504     12    1    1004   68 2019-01-01  Новокузнецк    Татьяна  Авдеенко   \n",
       "\n",
       "       reg_date tariff  reg_month  mb_used  duration  calls_count  \n",
       "4    2018-05-14  ultra          5      NaN       NaN          NaN  \n",
       "504  2018-05-14  ultra          5      NaN       NaN          NaN  \n",
       "1004 2018-05-14  ultra          5      NaN       NaN          NaN  \n",
       "1504 2018-05-14  ultra          5      NaN       NaN          NaN  \n",
       "2004 2018-05-14  ultra          5  13415.0      37.0          9.0  \n",
       "2504 2018-05-14  ultra          5  17621.0     177.0         31.0  \n",
       "3004 2018-05-14  ultra          5  22246.0     137.0         22.0  \n",
       "3504 2018-05-14  ultra          5  28609.0     138.0         19.0  \n",
       "4004 2018-05-14  ultra          5  15130.0     125.0         26.0  \n",
       "4504 2018-05-14  ultra          5  18498.0     153.0         29.0  \n",
       "5004 2018-05-14  ultra          5  15634.0     121.0         19.0  \n",
       "5504 2018-05-14  ultra          5  18041.0     136.0         21.0  "
      ]
     },
     "execution_count": 80,
     "metadata": {},
     "output_type": "execute_result"
    }
   ],
   "source": [
    "user_data[user_data['user_id'] == 1004]"
   ]
  },
  {
   "cell_type": "code",
   "execution_count": 81,
   "metadata": {
    "scrolled": true
   },
   "outputs": [
    {
     "data": {
      "text/plain": [
       "1489914"
      ]
     },
     "execution_count": 81,
     "metadata": {},
     "output_type": "execute_result"
    }
   ],
   "source": [
    "df_calls_pivot['duration'].sum()"
   ]
  },
  {
   "cell_type": "code",
   "execution_count": 82,
   "metadata": {},
   "outputs": [
    {
     "data": {
      "text/plain": [
       "1489914.0"
      ]
     },
     "execution_count": 82,
     "metadata": {},
     "output_type": "execute_result"
    }
   ],
   "source": [
    "user_data['duration'].sum()"
   ]
  },
  {
   "cell_type": "code",
   "execution_count": 83,
   "metadata": {},
   "outputs": [],
   "source": [
    "user_data = user_data.merge(df_messages_pivot,how='left',on=['user_id','month'])"
   ]
  },
  {
   "cell_type": "code",
   "execution_count": 84,
   "metadata": {},
   "outputs": [
    {
     "data": {
      "text/plain": [
       "123036.0"
      ]
     },
     "execution_count": 84,
     "metadata": {},
     "output_type": "execute_result"
    }
   ],
   "source": [
    "user_data['messages_count'].sum()"
   ]
  },
  {
   "cell_type": "code",
   "execution_count": 85,
   "metadata": {
    "scrolled": true
   },
   "outputs": [
    {
     "data": {
      "text/plain": [
       "123036"
      ]
     },
     "execution_count": 85,
     "metadata": {},
     "output_type": "execute_result"
    }
   ],
   "source": [
    "df_messages_pivot['messages_count'].sum()"
   ]
  },
  {
   "cell_type": "markdown",
   "metadata": {},
   "source": [
    "посмотрим наличие пропусков в объединенной таблице"
   ]
  },
  {
   "cell_type": "code",
   "execution_count": 86,
   "metadata": {},
   "outputs": [
    {
     "data": {
      "text/plain": [
       "month                0\n",
       "key                  0\n",
       "user_id              0\n",
       "age                  0\n",
       "churn_date           0\n",
       "city                 0\n",
       "first_name           0\n",
       "last_name            0\n",
       "reg_date             0\n",
       "tariff               0\n",
       "reg_month            0\n",
       "mb_used           2797\n",
       "duration          2826\n",
       "calls_count       2826\n",
       "messages_count    3283\n",
       "dtype: int64"
      ]
     },
     "execution_count": 86,
     "metadata": {},
     "output_type": "execute_result"
    }
   ],
   "source": [
    "user_data.isna().sum()"
   ]
  },
  {
   "cell_type": "markdown",
   "metadata": {},
   "source": [
    "данные пропуски образовались по тем месяцам, когда клиент еще не являлся пользователем тарифа, поэтому данные пропуски мы оставляем "
   ]
  },
  {
   "cell_type": "code",
   "execution_count": 87,
   "metadata": {
    "scrolled": true
   },
   "outputs": [
    {
     "data": {
      "text/html": [
       "<div>\n",
       "<style scoped>\n",
       "    .dataframe tbody tr th:only-of-type {\n",
       "        vertical-align: middle;\n",
       "    }\n",
       "\n",
       "    .dataframe tbody tr th {\n",
       "        vertical-align: top;\n",
       "    }\n",
       "\n",
       "    .dataframe thead th {\n",
       "        text-align: right;\n",
       "    }\n",
       "</style>\n",
       "<table border=\"1\" class=\"dataframe\">\n",
       "  <thead>\n",
       "    <tr style=\"text-align: right;\">\n",
       "      <th></th>\n",
       "      <th>messages_included</th>\n",
       "      <th>mb_per_month_included</th>\n",
       "      <th>minutes_included</th>\n",
       "      <th>rub_monthly_fee</th>\n",
       "      <th>rub_per_gb</th>\n",
       "      <th>rub_per_message</th>\n",
       "      <th>rub_per_minute</th>\n",
       "      <th>tariff_name</th>\n",
       "    </tr>\n",
       "  </thead>\n",
       "  <tbody>\n",
       "    <tr>\n",
       "      <td>0</td>\n",
       "      <td>50</td>\n",
       "      <td>15360</td>\n",
       "      <td>500</td>\n",
       "      <td>550</td>\n",
       "      <td>200</td>\n",
       "      <td>3</td>\n",
       "      <td>3</td>\n",
       "      <td>smart</td>\n",
       "    </tr>\n",
       "    <tr>\n",
       "      <td>1</td>\n",
       "      <td>1000</td>\n",
       "      <td>30720</td>\n",
       "      <td>3000</td>\n",
       "      <td>1950</td>\n",
       "      <td>150</td>\n",
       "      <td>1</td>\n",
       "      <td>1</td>\n",
       "      <td>ultra</td>\n",
       "    </tr>\n",
       "  </tbody>\n",
       "</table>\n",
       "</div>"
      ],
      "text/plain": [
       "   messages_included  mb_per_month_included  minutes_included  \\\n",
       "0                 50                  15360               500   \n",
       "1               1000                  30720              3000   \n",
       "\n",
       "   rub_monthly_fee  rub_per_gb  rub_per_message  rub_per_minute tariff_name  \n",
       "0              550         200                3               3       smart  \n",
       "1             1950         150                1               1       ultra  "
      ]
     },
     "execution_count": 87,
     "metadata": {},
     "output_type": "execute_result"
    }
   ],
   "source": [
    "df_tariffs.head()\n"
   ]
  },
  {
   "cell_type": "markdown",
   "metadata": {},
   "source": [
    "рассчитаем для каждого тарифа помесячную выручку с каждого пользователя с учетом условий тарифов, то есть посчитаем перерасход по всем параметрам тарифа и прибавим абонентскую плату."
   ]
  },
  {
   "cell_type": "code",
   "execution_count": 88,
   "metadata": {},
   "outputs": [],
   "source": [
    "\n",
    "def out_lim(row):\n",
    "    if row['tariff'] == 'smart':\n",
    "        if row['duration'] > 500:\n",
    "            calls_extra = (row['duration'] - 500)*3\n",
    "        else:\n",
    "            calls_extra = 0\n",
    "        if row['messages_count'] > 50:\n",
    "            messages_extra = (row['messages_count'] - 50)*3\n",
    "        else:\n",
    "            messages_extra = 0\n",
    "        if row['mb_used'] > 15360:\n",
    "            mb_extra = (row['mb_used'] - 15360)*(200/1024)\n",
    "        else:\n",
    "            mb_extra = 0\n",
    "        total_cost = messages_extra + calls_extra + mb_extra + 550\n",
    "\n",
    "    if row['tariff'] == 'ultra':\n",
    "        if row['messages_count'] > 1000:\n",
    "            messages_extra = (row['messages_count'] - 1000)*1\n",
    "        else:\n",
    "            messages_extra = 0\n",
    "        if row['duration'] > 3000:\n",
    "            calls_extra = (row['duration'] - 3000)*1\n",
    "        else:\n",
    "            calls_extra = 0\n",
    "        if row['mb_used'] > 30720:\n",
    "            mb_extra = (row['mb_used'] - 30720)*(150/1024)\n",
    "        else:\n",
    "            mb_extra = 0\n",
    "        total_cost = messages_extra + calls_extra + mb_extra + 1950\n",
    "      \n",
    "    return total_cost"
   ]
  },
  {
   "cell_type": "code",
   "execution_count": 89,
   "metadata": {},
   "outputs": [],
   "source": [
    "user_data = user_data.query('month >= reg_month')"
   ]
  },
  {
   "cell_type": "code",
   "execution_count": 90,
   "metadata": {},
   "outputs": [],
   "source": [
    "user_data.fillna(0, inplace = True)"
   ]
  },
  {
   "cell_type": "markdown",
   "metadata": {},
   "source": [
    "проверим наличие пропусков в полученной таблице"
   ]
  },
  {
   "cell_type": "code",
   "execution_count": 91,
   "metadata": {},
   "outputs": [
    {
     "data": {
      "text/plain": [
       "month             0\n",
       "key               0\n",
       "user_id           0\n",
       "age               0\n",
       "churn_date        0\n",
       "city              0\n",
       "first_name        0\n",
       "last_name         0\n",
       "reg_date          0\n",
       "tariff            0\n",
       "reg_month         0\n",
       "mb_used           0\n",
       "duration          0\n",
       "calls_count       0\n",
       "messages_count    0\n",
       "dtype: int64"
      ]
     },
     "execution_count": 91,
     "metadata": {},
     "output_type": "execute_result"
    }
   ],
   "source": [
    "user_data.isna().sum()"
   ]
  },
  {
   "cell_type": "markdown",
   "metadata": {},
   "source": [
    "применим данную функцию к таблице user_data и создадим соответствующий столбец с суммами месячной выручки от каждого пользователя"
   ]
  },
  {
   "cell_type": "code",
   "execution_count": 92,
   "metadata": {},
   "outputs": [],
   "source": [
    "user_data['month_proceeds'] = user_data.apply(out_lim, axis=1)\n"
   ]
  },
  {
   "cell_type": "code",
   "execution_count": 93,
   "metadata": {},
   "outputs": [
    {
     "name": "stdout",
     "output_type": "stream",
     "text": [
      "<class 'pandas.core.frame.DataFrame'>\n",
      "Int64Index: 3259 entries, 5 to 5999\n",
      "Data columns (total 16 columns):\n",
      "month             3259 non-null int64\n",
      "key               3259 non-null int64\n",
      "user_id           3259 non-null int64\n",
      "age               3259 non-null int64\n",
      "churn_date        3259 non-null datetime64[ns]\n",
      "city              3259 non-null object\n",
      "first_name        3259 non-null object\n",
      "last_name         3259 non-null object\n",
      "reg_date          3259 non-null datetime64[ns]\n",
      "tariff            3259 non-null object\n",
      "reg_month         3259 non-null int64\n",
      "mb_used           3259 non-null float64\n",
      "duration          3259 non-null float64\n",
      "calls_count       3259 non-null float64\n",
      "messages_count    3259 non-null float64\n",
      "month_proceeds    3259 non-null float64\n",
      "dtypes: datetime64[ns](2), float64(5), int64(5), object(4)\n",
      "memory usage: 432.8+ KB\n"
     ]
    }
   ],
   "source": [
    "user_data.info()"
   ]
  },
  {
   "cell_type": "code",
   "execution_count": 94,
   "metadata": {
    "scrolled": false
   },
   "outputs": [
    {
     "data": {
      "text/html": [
       "<div>\n",
       "<style scoped>\n",
       "    .dataframe tbody tr th:only-of-type {\n",
       "        vertical-align: middle;\n",
       "    }\n",
       "\n",
       "    .dataframe tbody tr th {\n",
       "        vertical-align: top;\n",
       "    }\n",
       "\n",
       "    .dataframe thead th {\n",
       "        text-align: right;\n",
       "    }\n",
       "</style>\n",
       "<table border=\"1\" class=\"dataframe\">\n",
       "  <thead>\n",
       "    <tr style=\"text-align: right;\">\n",
       "      <th></th>\n",
       "      <th>month</th>\n",
       "      <th>key</th>\n",
       "      <th>user_id</th>\n",
       "      <th>age</th>\n",
       "      <th>churn_date</th>\n",
       "      <th>city</th>\n",
       "      <th>first_name</th>\n",
       "      <th>last_name</th>\n",
       "      <th>reg_date</th>\n",
       "      <th>tariff</th>\n",
       "      <th>reg_month</th>\n",
       "      <th>mb_used</th>\n",
       "      <th>duration</th>\n",
       "      <th>calls_count</th>\n",
       "      <th>messages_count</th>\n",
       "      <th>month_proceeds</th>\n",
       "    </tr>\n",
       "  </thead>\n",
       "  <tbody>\n",
       "    <tr>\n",
       "      <td>5</td>\n",
       "      <td>1</td>\n",
       "      <td>1</td>\n",
       "      <td>1005</td>\n",
       "      <td>67</td>\n",
       "      <td>2019-01-01</td>\n",
       "      <td>Набережные Челны</td>\n",
       "      <td>Афанасий</td>\n",
       "      <td>Горлов</td>\n",
       "      <td>2018-01-25</td>\n",
       "      <td>smart</td>\n",
       "      <td>1</td>\n",
       "      <td>2730.0</td>\n",
       "      <td>99.0</td>\n",
       "      <td>15.0</td>\n",
       "      <td>7.0</td>\n",
       "      <td>550.000000</td>\n",
       "    </tr>\n",
       "    <tr>\n",
       "      <td>32</td>\n",
       "      <td>1</td>\n",
       "      <td>1</td>\n",
       "      <td>1032</td>\n",
       "      <td>31</td>\n",
       "      <td>2019-01-01</td>\n",
       "      <td>Ульяновск</td>\n",
       "      <td>Инна</td>\n",
       "      <td>Игнатьева</td>\n",
       "      <td>2018-01-04</td>\n",
       "      <td>smart</td>\n",
       "      <td>1</td>\n",
       "      <td>24158.0</td>\n",
       "      <td>397.0</td>\n",
       "      <td>61.0</td>\n",
       "      <td>38.0</td>\n",
       "      <td>2268.359375</td>\n",
       "    </tr>\n",
       "    <tr>\n",
       "      <td>45</td>\n",
       "      <td>1</td>\n",
       "      <td>1</td>\n",
       "      <td>1045</td>\n",
       "      <td>48</td>\n",
       "      <td>2019-01-01</td>\n",
       "      <td>Улан-Удэ</td>\n",
       "      <td>Джемма</td>\n",
       "      <td>Карасева</td>\n",
       "      <td>2018-01-30</td>\n",
       "      <td>smart</td>\n",
       "      <td>1</td>\n",
       "      <td>2348.0</td>\n",
       "      <td>9.0</td>\n",
       "      <td>1.0</td>\n",
       "      <td>5.0</td>\n",
       "      <td>550.000000</td>\n",
       "    </tr>\n",
       "    <tr>\n",
       "      <td>55</td>\n",
       "      <td>1</td>\n",
       "      <td>1</td>\n",
       "      <td>1055</td>\n",
       "      <td>39</td>\n",
       "      <td>2019-01-01</td>\n",
       "      <td>Казань</td>\n",
       "      <td>Луиза</td>\n",
       "      <td>Березина</td>\n",
       "      <td>2018-01-02</td>\n",
       "      <td>smart</td>\n",
       "      <td>1</td>\n",
       "      <td>17115.0</td>\n",
       "      <td>568.0</td>\n",
       "      <td>64.0</td>\n",
       "      <td>30.0</td>\n",
       "      <td>1096.773438</td>\n",
       "    </tr>\n",
       "    <tr>\n",
       "      <td>71</td>\n",
       "      <td>1</td>\n",
       "      <td>1</td>\n",
       "      <td>1071</td>\n",
       "      <td>20</td>\n",
       "      <td>2018-08-31</td>\n",
       "      <td>Омск</td>\n",
       "      <td>Гектор</td>\n",
       "      <td>Чумаков</td>\n",
       "      <td>2018-01-09</td>\n",
       "      <td>smart</td>\n",
       "      <td>1</td>\n",
       "      <td>15625.0</td>\n",
       "      <td>200.0</td>\n",
       "      <td>24.0</td>\n",
       "      <td>16.0</td>\n",
       "      <td>601.757812</td>\n",
       "    </tr>\n",
       "  </tbody>\n",
       "</table>\n",
       "</div>"
      ],
      "text/plain": [
       "    month  key  user_id  age churn_date              city first_name  \\\n",
       "5       1    1     1005   67 2019-01-01  Набережные Челны   Афанасий   \n",
       "32      1    1     1032   31 2019-01-01         Ульяновск       Инна   \n",
       "45      1    1     1045   48 2019-01-01          Улан-Удэ     Джемма   \n",
       "55      1    1     1055   39 2019-01-01            Казань      Луиза   \n",
       "71      1    1     1071   20 2018-08-31              Омск     Гектор   \n",
       "\n",
       "    last_name   reg_date tariff  reg_month  mb_used  duration  calls_count  \\\n",
       "5      Горлов 2018-01-25  smart          1   2730.0      99.0         15.0   \n",
       "32  Игнатьева 2018-01-04  smart          1  24158.0     397.0         61.0   \n",
       "45   Карасева 2018-01-30  smart          1   2348.0       9.0          1.0   \n",
       "55   Березина 2018-01-02  smart          1  17115.0     568.0         64.0   \n",
       "71    Чумаков 2018-01-09  smart          1  15625.0     200.0         24.0   \n",
       "\n",
       "    messages_count  month_proceeds  \n",
       "5              7.0      550.000000  \n",
       "32            38.0     2268.359375  \n",
       "45             5.0      550.000000  \n",
       "55            30.0     1096.773438  \n",
       "71            16.0      601.757812  "
      ]
     },
     "execution_count": 94,
     "metadata": {},
     "output_type": "execute_result"
    }
   ],
   "source": [
    "user_data.head()"
   ]
  },
  {
   "cell_type": "code",
   "execution_count": 95,
   "metadata": {
    "scrolled": false
   },
   "outputs": [
    {
     "data": {
      "text/html": [
       "<div>\n",
       "<style scoped>\n",
       "    .dataframe tbody tr th:only-of-type {\n",
       "        vertical-align: middle;\n",
       "    }\n",
       "\n",
       "    .dataframe tbody tr th {\n",
       "        vertical-align: top;\n",
       "    }\n",
       "\n",
       "    .dataframe thead th {\n",
       "        text-align: right;\n",
       "    }\n",
       "</style>\n",
       "<table border=\"1\" class=\"dataframe\">\n",
       "  <thead>\n",
       "    <tr style=\"text-align: right;\">\n",
       "      <th></th>\n",
       "      <th>month</th>\n",
       "      <th>key</th>\n",
       "      <th>user_id</th>\n",
       "      <th>age</th>\n",
       "      <th>churn_date</th>\n",
       "      <th>city</th>\n",
       "      <th>first_name</th>\n",
       "      <th>last_name</th>\n",
       "      <th>reg_date</th>\n",
       "      <th>tariff</th>\n",
       "      <th>reg_month</th>\n",
       "      <th>mb_used</th>\n",
       "      <th>duration</th>\n",
       "      <th>calls_count</th>\n",
       "      <th>messages_count</th>\n",
       "      <th>month_proceeds</th>\n",
       "    </tr>\n",
       "  </thead>\n",
       "  <tbody>\n",
       "    <tr>\n",
       "      <td>2004</td>\n",
       "      <td>5</td>\n",
       "      <td>1</td>\n",
       "      <td>1004</td>\n",
       "      <td>68</td>\n",
       "      <td>2019-01-01</td>\n",
       "      <td>Новокузнецк</td>\n",
       "      <td>Татьяна</td>\n",
       "      <td>Авдеенко</td>\n",
       "      <td>2018-05-14</td>\n",
       "      <td>ultra</td>\n",
       "      <td>5</td>\n",
       "      <td>13415.0</td>\n",
       "      <td>37.0</td>\n",
       "      <td>9.0</td>\n",
       "      <td>95.0</td>\n",
       "      <td>1950.0</td>\n",
       "    </tr>\n",
       "    <tr>\n",
       "      <td>2504</td>\n",
       "      <td>6</td>\n",
       "      <td>1</td>\n",
       "      <td>1004</td>\n",
       "      <td>68</td>\n",
       "      <td>2019-01-01</td>\n",
       "      <td>Новокузнецк</td>\n",
       "      <td>Татьяна</td>\n",
       "      <td>Авдеенко</td>\n",
       "      <td>2018-05-14</td>\n",
       "      <td>ultra</td>\n",
       "      <td>5</td>\n",
       "      <td>17621.0</td>\n",
       "      <td>177.0</td>\n",
       "      <td>31.0</td>\n",
       "      <td>134.0</td>\n",
       "      <td>1950.0</td>\n",
       "    </tr>\n",
       "    <tr>\n",
       "      <td>3004</td>\n",
       "      <td>7</td>\n",
       "      <td>1</td>\n",
       "      <td>1004</td>\n",
       "      <td>68</td>\n",
       "      <td>2019-01-01</td>\n",
       "      <td>Новокузнецк</td>\n",
       "      <td>Татьяна</td>\n",
       "      <td>Авдеенко</td>\n",
       "      <td>2018-05-14</td>\n",
       "      <td>ultra</td>\n",
       "      <td>5</td>\n",
       "      <td>22246.0</td>\n",
       "      <td>137.0</td>\n",
       "      <td>22.0</td>\n",
       "      <td>181.0</td>\n",
       "      <td>1950.0</td>\n",
       "    </tr>\n",
       "    <tr>\n",
       "      <td>3504</td>\n",
       "      <td>8</td>\n",
       "      <td>1</td>\n",
       "      <td>1004</td>\n",
       "      <td>68</td>\n",
       "      <td>2019-01-01</td>\n",
       "      <td>Новокузнецк</td>\n",
       "      <td>Татьяна</td>\n",
       "      <td>Авдеенко</td>\n",
       "      <td>2018-05-14</td>\n",
       "      <td>ultra</td>\n",
       "      <td>5</td>\n",
       "      <td>28609.0</td>\n",
       "      <td>138.0</td>\n",
       "      <td>19.0</td>\n",
       "      <td>151.0</td>\n",
       "      <td>1950.0</td>\n",
       "    </tr>\n",
       "    <tr>\n",
       "      <td>4004</td>\n",
       "      <td>9</td>\n",
       "      <td>1</td>\n",
       "      <td>1004</td>\n",
       "      <td>68</td>\n",
       "      <td>2019-01-01</td>\n",
       "      <td>Новокузнецк</td>\n",
       "      <td>Татьяна</td>\n",
       "      <td>Авдеенко</td>\n",
       "      <td>2018-05-14</td>\n",
       "      <td>ultra</td>\n",
       "      <td>5</td>\n",
       "      <td>15130.0</td>\n",
       "      <td>125.0</td>\n",
       "      <td>26.0</td>\n",
       "      <td>146.0</td>\n",
       "      <td>1950.0</td>\n",
       "    </tr>\n",
       "    <tr>\n",
       "      <td>4504</td>\n",
       "      <td>10</td>\n",
       "      <td>1</td>\n",
       "      <td>1004</td>\n",
       "      <td>68</td>\n",
       "      <td>2019-01-01</td>\n",
       "      <td>Новокузнецк</td>\n",
       "      <td>Татьяна</td>\n",
       "      <td>Авдеенко</td>\n",
       "      <td>2018-05-14</td>\n",
       "      <td>ultra</td>\n",
       "      <td>5</td>\n",
       "      <td>18498.0</td>\n",
       "      <td>153.0</td>\n",
       "      <td>29.0</td>\n",
       "      <td>165.0</td>\n",
       "      <td>1950.0</td>\n",
       "    </tr>\n",
       "    <tr>\n",
       "      <td>5004</td>\n",
       "      <td>11</td>\n",
       "      <td>1</td>\n",
       "      <td>1004</td>\n",
       "      <td>68</td>\n",
       "      <td>2019-01-01</td>\n",
       "      <td>Новокузнецк</td>\n",
       "      <td>Татьяна</td>\n",
       "      <td>Авдеенко</td>\n",
       "      <td>2018-05-14</td>\n",
       "      <td>ultra</td>\n",
       "      <td>5</td>\n",
       "      <td>15634.0</td>\n",
       "      <td>121.0</td>\n",
       "      <td>19.0</td>\n",
       "      <td>158.0</td>\n",
       "      <td>1950.0</td>\n",
       "    </tr>\n",
       "    <tr>\n",
       "      <td>5504</td>\n",
       "      <td>12</td>\n",
       "      <td>1</td>\n",
       "      <td>1004</td>\n",
       "      <td>68</td>\n",
       "      <td>2019-01-01</td>\n",
       "      <td>Новокузнецк</td>\n",
       "      <td>Татьяна</td>\n",
       "      <td>Авдеенко</td>\n",
       "      <td>2018-05-14</td>\n",
       "      <td>ultra</td>\n",
       "      <td>5</td>\n",
       "      <td>18041.0</td>\n",
       "      <td>136.0</td>\n",
       "      <td>21.0</td>\n",
       "      <td>162.0</td>\n",
       "      <td>1950.0</td>\n",
       "    </tr>\n",
       "  </tbody>\n",
       "</table>\n",
       "</div>"
      ],
      "text/plain": [
       "      month  key  user_id  age churn_date         city first_name last_name  \\\n",
       "2004      5    1     1004   68 2019-01-01  Новокузнецк    Татьяна  Авдеенко   \n",
       "2504      6    1     1004   68 2019-01-01  Новокузнецк    Татьяна  Авдеенко   \n",
       "3004      7    1     1004   68 2019-01-01  Новокузнецк    Татьяна  Авдеенко   \n",
       "3504      8    1     1004   68 2019-01-01  Новокузнецк    Татьяна  Авдеенко   \n",
       "4004      9    1     1004   68 2019-01-01  Новокузнецк    Татьяна  Авдеенко   \n",
       "4504     10    1     1004   68 2019-01-01  Новокузнецк    Татьяна  Авдеенко   \n",
       "5004     11    1     1004   68 2019-01-01  Новокузнецк    Татьяна  Авдеенко   \n",
       "5504     12    1     1004   68 2019-01-01  Новокузнецк    Татьяна  Авдеенко   \n",
       "\n",
       "       reg_date tariff  reg_month  mb_used  duration  calls_count  \\\n",
       "2004 2018-05-14  ultra          5  13415.0      37.0          9.0   \n",
       "2504 2018-05-14  ultra          5  17621.0     177.0         31.0   \n",
       "3004 2018-05-14  ultra          5  22246.0     137.0         22.0   \n",
       "3504 2018-05-14  ultra          5  28609.0     138.0         19.0   \n",
       "4004 2018-05-14  ultra          5  15130.0     125.0         26.0   \n",
       "4504 2018-05-14  ultra          5  18498.0     153.0         29.0   \n",
       "5004 2018-05-14  ultra          5  15634.0     121.0         19.0   \n",
       "5504 2018-05-14  ultra          5  18041.0     136.0         21.0   \n",
       "\n",
       "      messages_count  month_proceeds  \n",
       "2004            95.0          1950.0  \n",
       "2504           134.0          1950.0  \n",
       "3004           181.0          1950.0  \n",
       "3504           151.0          1950.0  \n",
       "4004           146.0          1950.0  \n",
       "4504           165.0          1950.0  \n",
       "5004           158.0          1950.0  \n",
       "5504           162.0          1950.0  "
      ]
     },
     "execution_count": 95,
     "metadata": {},
     "output_type": "execute_result"
    }
   ],
   "source": [
    "user_data[user_data['user_id'] == 1004]"
   ]
  },
  {
   "cell_type": "markdown",
   "metadata": {},
   "source": [
    "### Выводы"
   ]
  },
  {
   "cell_type": "markdown",
   "metadata": {},
   "source": [
    "Из столбцов со значениями дат расхода интернет-траффика, совершения звонка, отправки сообщения и регистрации пользователя мы извлекли значение месяца, создав соответствующие столбцы 'month' в рассматриваемых таблицах. Также, путем формирования сводных таблиц, мы рассчитали для каждого пользователя количество сделанных звонков и израсходованных минут разговора по месяцам, количество отправленных сообщений по месяцам, объем израсходованного интернет-трафика по месяцам.Далее мы определили диапазон дат регистрации новых клиентов и сгенерировали таблицу, где каждому клиенту присвоен каждый месяц из полученного диапазона, то есть 12 месяцев 2018 года. После этого, методом merge объединили полученную таблицу, состояющую из 12 месяцев 2018 года, с таблицей df_users, создав для них общий столбец 'key', а также сооздав в результате данного объединения новый датафрейм user_data, где  каждому пользователю присвоены все 12 месяцев 2018 года. Далее, созданную таблицу user_data методом merge  объединили с полученными выше сводными таблицами по общим столбцам 'user_id' и 'month'. Мы также рассчитали для каждого тарифа помесячную выручку с каждого пользователя с учетом условий тарифов, то есть посчитали перерасход по всем параметрам тарифа и прибавили абонентскую плату."
   ]
  },
  {
   "cell_type": "markdown",
   "metadata": {},
   "source": [
    "<a id=\"analysis\"></a>\n",
    "\n",
    "## Шаг 3. Анализ данных"
   ]
  },
  {
   "cell_type": "markdown",
   "metadata": {},
   "source": [
    "создадим категории городов, где живут клиенты, выделив 2 столицы и \"другие\""
   ]
  },
  {
   "cell_type": "code",
   "execution_count": 96,
   "metadata": {},
   "outputs": [
    {
     "data": {
      "text/plain": [
       "array(['Набережные Челны', 'Ульяновск', 'Улан-Удэ', 'Казань', 'Омск',\n",
       "       'Чита', 'Краснодар', 'Санкт-Петербург', 'Красноярск',\n",
       "       'Архангельск', 'Ставрополь', 'Кострома', 'Волгоград', 'Тамбов',\n",
       "       'Москва', 'Киров', 'Ростов-на-Дону', 'Уфа', 'Вологда', 'Пенза',\n",
       "       'Магнитогорск', 'Иркутск', 'Орёл', 'Астрахань', 'Подольск',\n",
       "       'Ярославль', 'Новокузнецк', 'Нижний Тагил', 'Мурманск', 'Самара',\n",
       "       'Воронеж', 'Пермь', 'Саранск', 'Новосибирск', 'Владивосток',\n",
       "       'Нижний Новгород', 'Новороссийск', 'Брянск', 'Челябинск',\n",
       "       'Калининград', 'Барнаул', 'Якутск', 'Тольятти', 'Курган', 'Томск',\n",
       "       'Балашиха', 'Саратов', 'Петрозаводск', 'Тюмень', 'Курск', 'Тула',\n",
       "       'Сочи', 'Калуга', 'Оренбург', 'Смоленск', 'Хабаровск', 'Рязань',\n",
       "       'Махачкала', 'Тверь', 'Ижевск', 'Чебоксары', 'Белгород',\n",
       "       'Череповец', 'Стерлитамак', 'Владимир', 'Волжский', 'Екатеринбург',\n",
       "       'Севастополь', 'Нижневартовск', 'Грозный', 'Владикавказ', 'Химки',\n",
       "       'Сургут', 'Липецк', 'Кемерово', 'Иваново'], dtype=object)"
      ]
     },
     "execution_count": 96,
     "metadata": {},
     "output_type": "execute_result"
    }
   ],
   "source": [
    "user_data['city'].unique()"
   ]
  },
  {
   "cell_type": "code",
   "execution_count": 97,
   "metadata": {},
   "outputs": [],
   "source": [
    "def categorize_city(row):      \n",
    "    \n",
    "    city_name = row['city']\n",
    "    \n",
    "    if city_name == \"Москва\":\n",
    "        return 'Москва'\n",
    "    \n",
    "    if city_name == 'Санкт-Петербург':\n",
    "        return 'Санкт-Петербург'\n",
    "    \n",
    "    return 'другие'\n",
    " \n",
    "user_data['city_category'] = user_data.apply(categorize_city, axis = 1)"
   ]
  },
  {
   "cell_type": "markdown",
   "metadata": {},
   "source": [
    "аналогично поделим на категории возраст клиентов"
   ]
  },
  {
   "cell_type": "code",
   "execution_count": 98,
   "metadata": {},
   "outputs": [],
   "source": [
    "def age_group(row):\n",
    "    age = row['age']\n",
    "\n",
    "    if age <= 30:\n",
    "        return 'молодежь'\n",
    "\n",
    "    if 30 < age <= 55:\n",
    "        return 'средний возраст'\n",
    "    if age > 55:\n",
    "        return 'пожилой возраст'\n",
    "\n",
    "user_data['age_group'] = user_data.apply(age_group, axis=1)"
   ]
  },
  {
   "cell_type": "markdown",
   "metadata": {},
   "source": [
    "сделаем срез данных только по тарифу смарт  "
   ]
  },
  {
   "cell_type": "code",
   "execution_count": 99,
   "metadata": {},
   "outputs": [],
   "source": [
    "smart_user_data = user_data.query('tariff == \"smart\"')\n"
   ]
  },
  {
   "cell_type": "markdown",
   "metadata": {},
   "source": [
    "посмотрим статистические данные по интересующим столбцам  тарифа \"смарт\" методом describe()"
   ]
  },
  {
   "cell_type": "code",
   "execution_count": 100,
   "metadata": {
    "scrolled": true
   },
   "outputs": [
    {
     "data": {
      "text/html": [
       "<div>\n",
       "<style scoped>\n",
       "    .dataframe tbody tr th:only-of-type {\n",
       "        vertical-align: middle;\n",
       "    }\n",
       "\n",
       "    .dataframe tbody tr th {\n",
       "        vertical-align: top;\n",
       "    }\n",
       "\n",
       "    .dataframe thead th {\n",
       "        text-align: right;\n",
       "    }\n",
       "</style>\n",
       "<table border=\"1\" class=\"dataframe\">\n",
       "  <thead>\n",
       "    <tr style=\"text-align: right;\">\n",
       "      <th></th>\n",
       "      <th>duration</th>\n",
       "      <th>messages_count</th>\n",
       "      <th>mb_used</th>\n",
       "      <th>month_proceeds</th>\n",
       "    </tr>\n",
       "  </thead>\n",
       "  <tbody>\n",
       "    <tr>\n",
       "      <td>count</td>\n",
       "      <td>2253.000000</td>\n",
       "      <td>2253.000000</td>\n",
       "      <td>2253.000000</td>\n",
       "      <td>2253.000000</td>\n",
       "    </tr>\n",
       "    <tr>\n",
       "      <td>mean</td>\n",
       "      <td>424.876165</td>\n",
       "      <td>33.028407</td>\n",
       "      <td>16064.218375</td>\n",
       "      <td>1243.937927</td>\n",
       "    </tr>\n",
       "    <tr>\n",
       "      <td>std</td>\n",
       "      <td>198.782842</td>\n",
       "      <td>28.285544</td>\n",
       "      <td>6081.393615</td>\n",
       "      <td>796.708149</td>\n",
       "    </tr>\n",
       "    <tr>\n",
       "      <td>min</td>\n",
       "      <td>0.000000</td>\n",
       "      <td>0.000000</td>\n",
       "      <td>0.000000</td>\n",
       "      <td>550.000000</td>\n",
       "    </tr>\n",
       "    <tr>\n",
       "      <td>25%</td>\n",
       "      <td>285.000000</td>\n",
       "      <td>9.000000</td>\n",
       "      <td>12520.000000</td>\n",
       "      <td>550.000000</td>\n",
       "    </tr>\n",
       "    <tr>\n",
       "      <td>50%</td>\n",
       "      <td>433.000000</td>\n",
       "      <td>28.000000</td>\n",
       "      <td>16464.000000</td>\n",
       "      <td>979.000000</td>\n",
       "    </tr>\n",
       "    <tr>\n",
       "      <td>75%</td>\n",
       "      <td>559.000000</td>\n",
       "      <td>51.000000</td>\n",
       "      <td>20041.000000</td>\n",
       "      <td>1681.500000</td>\n",
       "    </tr>\n",
       "    <tr>\n",
       "      <td>max</td>\n",
       "      <td>1471.000000</td>\n",
       "      <td>143.000000</td>\n",
       "      <td>38627.000000</td>\n",
       "      <td>6768.335938</td>\n",
       "    </tr>\n",
       "  </tbody>\n",
       "</table>\n",
       "</div>"
      ],
      "text/plain": [
       "          duration  messages_count       mb_used  month_proceeds\n",
       "count  2253.000000     2253.000000   2253.000000     2253.000000\n",
       "mean    424.876165       33.028407  16064.218375     1243.937927\n",
       "std     198.782842       28.285544   6081.393615      796.708149\n",
       "min       0.000000        0.000000      0.000000      550.000000\n",
       "25%     285.000000        9.000000  12520.000000      550.000000\n",
       "50%     433.000000       28.000000  16464.000000      979.000000\n",
       "75%     559.000000       51.000000  20041.000000     1681.500000\n",
       "max    1471.000000      143.000000  38627.000000     6768.335938"
      ]
     },
     "execution_count": 100,
     "metadata": {},
     "output_type": "execute_result"
    }
   ],
   "source": [
    "smart_user_data[['duration', 'messages_count', 'mb_used', 'month_proceeds']].describe()"
   ]
  },
  {
   "cell_type": "markdown",
   "metadata": {},
   "source": [
    "в указанной таблице мы можем наблюдать средние значения (mean) и стандартные отклоенния (std) по интересующим столбцам"
   ]
  },
  {
   "cell_type": "markdown",
   "metadata": {},
   "source": [
    "также поизведем расчет дисперсии для указанных столбцов. Так как нам известно, что рассматриваемый датасет — не вся совокупность, а выборка из неё, вместо дисперсии мы считаем её оценку по имеющейся выборке (то есть s², а не σ²). Для этого в методе var() указываем параметр ddof=1 :"
   ]
  },
  {
   "cell_type": "code",
   "execution_count": 101,
   "metadata": {},
   "outputs": [],
   "source": [
    "variance_smart = np.var(smart_user_data[['duration', 'messages_count', 'mb_used', 'month_proceeds']], ddof=1)"
   ]
  },
  {
   "cell_type": "code",
   "execution_count": 102,
   "metadata": {
    "scrolled": false
   },
   "outputs": [
    {
     "data": {
      "text/plain": [
       "duration          3.951462e+04\n",
       "messages_count    8.000720e+02\n",
       "mb_used           3.698335e+07\n",
       "month_proceeds    6.347439e+05\n",
       "dtype: float64"
      ]
     },
     "execution_count": 102,
     "metadata": {},
     "output_type": "execute_result"
    }
   ],
   "source": [
    "variance_smart"
   ]
  },
  {
   "cell_type": "markdown",
   "metadata": {},
   "source": [
    "стандартное отклонение также можно посчитать и таким способом"
   ]
  },
  {
   "cell_type": "code",
   "execution_count": 103,
   "metadata": {},
   "outputs": [],
   "source": [
    "std_smart = np.std(smart_user_data[['duration', 'messages_count', 'mb_used', 'month_proceeds']], ddof=1)\n"
   ]
  },
  {
   "cell_type": "code",
   "execution_count": 104,
   "metadata": {},
   "outputs": [
    {
     "data": {
      "text/plain": [
       "duration           198.782842\n",
       "messages_count      28.285544\n",
       "mb_used           6081.393615\n",
       "month_proceeds     796.708149\n",
       "dtype: float64"
      ]
     },
     "execution_count": 104,
     "metadata": {},
     "output_type": "execute_result"
    }
   ],
   "source": [
    "std_smart"
   ]
  },
  {
   "cell_type": "markdown",
   "metadata": {},
   "source": [
    "создаем срез по тарифу \"ультра\" и производим аналогичные вычисления"
   ]
  },
  {
   "cell_type": "code",
   "execution_count": 105,
   "metadata": {},
   "outputs": [],
   "source": [
    "ultra_user_data = user_data.query('tariff == \"ultra\"')\n"
   ]
  },
  {
   "cell_type": "code",
   "execution_count": 106,
   "metadata": {},
   "outputs": [
    {
     "data": {
      "text/html": [
       "<div>\n",
       "<style scoped>\n",
       "    .dataframe tbody tr th:only-of-type {\n",
       "        vertical-align: middle;\n",
       "    }\n",
       "\n",
       "    .dataframe tbody tr th {\n",
       "        vertical-align: top;\n",
       "    }\n",
       "\n",
       "    .dataframe thead th {\n",
       "        text-align: right;\n",
       "    }\n",
       "</style>\n",
       "<table border=\"1\" class=\"dataframe\">\n",
       "  <thead>\n",
       "    <tr style=\"text-align: right;\">\n",
       "      <th></th>\n",
       "      <th>duration</th>\n",
       "      <th>messages_count</th>\n",
       "      <th>mb_used</th>\n",
       "      <th>month_proceeds</th>\n",
       "    </tr>\n",
       "  </thead>\n",
       "  <tbody>\n",
       "    <tr>\n",
       "      <td>count</td>\n",
       "      <td>1006.000000</td>\n",
       "      <td>1006.000000</td>\n",
       "      <td>1006.000000</td>\n",
       "      <td>1006.000000</td>\n",
       "    </tr>\n",
       "    <tr>\n",
       "      <td>mean</td>\n",
       "      <td>529.491054</td>\n",
       "      <td>48.333002</td>\n",
       "      <td>19081.881710</td>\n",
       "      <td>2058.282823</td>\n",
       "    </tr>\n",
       "    <tr>\n",
       "      <td>std</td>\n",
       "      <td>331.469116</td>\n",
       "      <td>47.826442</td>\n",
       "      <td>10372.651529</td>\n",
       "      <td>353.039349</td>\n",
       "    </tr>\n",
       "    <tr>\n",
       "      <td>min</td>\n",
       "      <td>0.000000</td>\n",
       "      <td>0.000000</td>\n",
       "      <td>0.000000</td>\n",
       "      <td>1950.000000</td>\n",
       "    </tr>\n",
       "    <tr>\n",
       "      <td>25%</td>\n",
       "      <td>279.250000</td>\n",
       "      <td>5.000000</td>\n",
       "      <td>11297.000000</td>\n",
       "      <td>1950.000000</td>\n",
       "    </tr>\n",
       "    <tr>\n",
       "      <td>50%</td>\n",
       "      <td>524.000000</td>\n",
       "      <td>37.000000</td>\n",
       "      <td>19035.500000</td>\n",
       "      <td>1950.000000</td>\n",
       "    </tr>\n",
       "    <tr>\n",
       "      <td>75%</td>\n",
       "      <td>767.500000</td>\n",
       "      <td>78.000000</td>\n",
       "      <td>26693.750000</td>\n",
       "      <td>1950.000000</td>\n",
       "    </tr>\n",
       "    <tr>\n",
       "      <td>max</td>\n",
       "      <td>1727.000000</td>\n",
       "      <td>224.000000</td>\n",
       "      <td>49793.000000</td>\n",
       "      <td>4743.896484</td>\n",
       "    </tr>\n",
       "  </tbody>\n",
       "</table>\n",
       "</div>"
      ],
      "text/plain": [
       "          duration  messages_count       mb_used  month_proceeds\n",
       "count  1006.000000     1006.000000   1006.000000     1006.000000\n",
       "mean    529.491054       48.333002  19081.881710     2058.282823\n",
       "std     331.469116       47.826442  10372.651529      353.039349\n",
       "min       0.000000        0.000000      0.000000     1950.000000\n",
       "25%     279.250000        5.000000  11297.000000     1950.000000\n",
       "50%     524.000000       37.000000  19035.500000     1950.000000\n",
       "75%     767.500000       78.000000  26693.750000     1950.000000\n",
       "max    1727.000000      224.000000  49793.000000     4743.896484"
      ]
     },
     "execution_count": 106,
     "metadata": {},
     "output_type": "execute_result"
    }
   ],
   "source": [
    "ultra_user_data[['duration', 'messages_count', 'mb_used', 'month_proceeds']].describe()"
   ]
  },
  {
   "cell_type": "code",
   "execution_count": 107,
   "metadata": {},
   "outputs": [],
   "source": [
    "variance_ultra = np.var(ultra_user_data[['duration', 'messages_count', 'mb_used', 'month_proceeds']], ddof=1)"
   ]
  },
  {
   "cell_type": "code",
   "execution_count": 108,
   "metadata": {
    "scrolled": true
   },
   "outputs": [
    {
     "data": {
      "text/plain": [
       "duration          1.098718e+05\n",
       "messages_count    2.287369e+03\n",
       "mb_used           1.075919e+08\n",
       "month_proceeds    1.246368e+05\n",
       "dtype: float64"
      ]
     },
     "execution_count": 108,
     "metadata": {},
     "output_type": "execute_result"
    }
   ],
   "source": [
    "variance_ultra"
   ]
  },
  {
   "cell_type": "markdown",
   "metadata": {},
   "source": [
    "посмотрим значения коэффициентов корреляции по рассматриваемым переменным"
   ]
  },
  {
   "cell_type": "code",
   "execution_count": 109,
   "metadata": {
    "scrolled": false
   },
   "outputs": [
    {
     "data": {
      "image/png": "[encoded data removed]",
      "text/plain": [
       "<Figure size 720x432 with 2 Axes>"
      ]
     },
     "metadata": {
      "needs_background": "light"
     },
     "output_type": "display_data"
    }
   ],
   "source": [
    "user_data_corr = user_data.corr()\n",
    "f, ax = plt.subplots(figsize=(10, 6))\n",
    "plt.xticks(rotation='90')\n",
    "sns.heatmap(user_data_corr, square=True, linewidths=5, annot=True);"
   ]
  },
  {
   "cell_type": "markdown",
   "metadata": {},
   "source": [
    "мы наблюдаем достаточно высокую зависимость месячной выручки от количества использованного траффика, чуть ниже от длительности и количества звонков, и еще ниже от количества сообщений. Наличие высокого показателя коэффициента корреляции по данным парам вполне ожидаемо. Вместе с тем, мы также видим достаточно сильную связь между количеством и длительностью звонков и количеством использованного траффика, а также связь между количеством сообщений и звонками, а также траффиком."
   ]
  },
  {
   "cell_type": "markdown",
   "metadata": {},
   "source": [
    "сравним количество клиентов в обоих тарифах"
   ]
  },
  {
   "cell_type": "code",
   "execution_count": 110,
   "metadata": {
    "scrolled": true
   },
   "outputs": [
    {
     "data": {
      "image/png": "[encoded data removed]",
      "text/plain": [
       "<Figure size 432x288 with 1 Axes>"
      ]
     },
     "metadata": {
      "needs_background": "light"
     },
     "output_type": "display_data"
    }
   ],
   "source": [
    "user_data.pivot_table(index = 'tariff', values = 'user_id', aggfunc = lambda x: len(x.unique())).plot.bar(title = 'users count by tariff');"
   ]
  },
  {
   "cell_type": "markdown",
   "metadata": {},
   "source": [
    "мы видим, что количество пользователей тарифа \"смарт\" значительно выше, чем аналогичный показатель тарифа \"ультра\", в частности примерно 350 на 150 человек."
   ]
  },
  {
   "cell_type": "markdown",
   "metadata": {},
   "source": [
    "посмтрим средний возраст пользователей обоих тарифов"
   ]
  },
  {
   "cell_type": "code",
   "execution_count": 111,
   "metadata": {},
   "outputs": [
    {
     "data": {
      "image/png": "[encoded data removed]",
      "text/plain": [
       "<Figure size 432x288 with 1 Axes>"
      ]
     },
     "metadata": {
      "needs_background": "light"
     },
     "output_type": "display_data"
    }
   ],
   "source": [
    "user_data.pivot_table(index = 'tariff', values = 'age', aggfunc = 'mean').plot.bar(title = 'user mean age by tariff');"
   ]
  },
  {
   "cell_type": "markdown",
   "metadata": {},
   "source": [
    "мы видим, что средний возраст практически не отличается и находится на уровне 45-47 лет."
   ]
  },
  {
   "cell_type": "markdown",
   "metadata": {},
   "source": [
    "посмотрим на процентное содержание категорий возрастов клиентов по каждому тарифу"
   ]
  },
  {
   "cell_type": "code",
   "execution_count": 112,
   "metadata": {
    "scrolled": false
   },
   "outputs": [
    {
     "data": {
      "image/png": "[encoded data removed]",
      "text/plain": [
       "<Figure size 864x576 with 2 Axes>"
      ]
     },
     "metadata": {
      "needs_background": "light"
     },
     "output_type": "display_data"
    }
   ],
   "source": [
    "s_age = smart_user_data['age_group'].value_counts(normalize = True)*100\n",
    "u_age = ultra_user_data['age_group'].value_counts(normalize = True)*100\n",
    "f, ax = plt.subplots(nrows=1, ncols=2, figsize=(12, 8), sharey=True)\n",
    "s_age.plot.bar(ax=ax[0])\n",
    "u_age.plot.bar(ax=ax[1], color='r')                   \n",
    "ax[0].set(title='age group percentage  on smart', xlabel= 'age group', ylabel = 'percentage')\n",
    "ax[1].set(title='age group percentage on ultra', xlabel='age group', ylabel = 'percentage');"
   ]
  },
  {
   "cell_type": "markdown",
   "metadata": {},
   "source": [
    "Мы видим, что обоими тарифами преобладающе пользуются люди среднего возраста, а именно более 40 %, более 30% пользователей обоих тарифов - это пожилые люди, а остальные - молодежь. Различия по тарифам имеются, но незначительные."
   ]
  },
  {
   "cell_type": "markdown",
   "metadata": {},
   "source": [
    "далее посмотрим, жители каких городов преобладающе являются пользователями обоих тарифов"
   ]
  },
  {
   "cell_type": "code",
   "execution_count": 113,
   "metadata": {},
   "outputs": [
    {
     "data": {
      "image/png": "[encoded data removed]",
      "text/plain": [
       "<Figure size 864x576 with 2 Axes>"
      ]
     },
     "metadata": {
      "needs_background": "light"
     },
     "output_type": "display_data"
    }
   ],
   "source": [
    "s_city = smart_user_data['city_category'].value_counts(normalize = True)*100\n",
    "u_city = ultra_user_data['city_category'].value_counts(normalize = True)*100\n",
    "f, ax = plt.subplots(nrows=1, ncols=2, figsize=(12, 8), sharey=True)\n",
    "s_city.plot.bar(ax=ax[0])\n",
    "u_city.plot.bar(ax=ax[1], color='r')                   \n",
    "ax[0].set(title='city percentage  on smart', xlabel= 'age group', ylabel = 'percentage')\n",
    "ax[1].set(title='city percentage on ultra', xlabel='age group', ylabel = 'percentage');"
   ]
  },
  {
   "cell_type": "markdown",
   "metadata": {},
   "source": [
    "в рассматриваемой выборке большинство пользователей по обоим тарифов из других городов, а именно более 70%,  пользователей из Москвы около 20%, остальные, соответственно - жители северной столицы. Опять же, различия по тарифам имеются, но незначительные."
   ]
  },
  {
   "cell_type": "markdown",
   "metadata": {},
   "source": [
    "далее, используя цикл, построим гистограммы по интересующим столбцам, а именно длительность звонка, количество сообщений, количество использованного интернет-траффика, месячная выручка по каждому пользователю, при этом значения будут находится в интервале с учетом \"минимума\" и \"максимума\", после которых будут находится редкие значения."
   ]
  },
  {
   "cell_type": "code",
   "execution_count": 114,
   "metadata": {
    "scrolled": false
   },
   "outputs": [
    {
     "data": {
      "image/png": "[encoded data removed]",
      "text/plain": [
       "<Figure size 864x288 with 2 Axes>"
      ]
     },
     "metadata": {
      "needs_background": "light"
     },
     "output_type": "display_data"
    },
    {
     "data": {
      "image/png": "[encoded data removed]",
      "text/plain": [
       "<Figure size 864x288 with 2 Axes>"
      ]
     },
     "metadata": {
      "needs_background": "light"
     },
     "output_type": "display_data"
    },
    {
     "data": {
      "image/png": "[encoded data removed]",
      "text/plain": [
       "<Figure size 864x288 with 2 Axes>"
      ]
     },
     "metadata": {
      "needs_background": "light"
     },
     "output_type": "display_data"
    },
    {
     "data": {
      "image/png": "[encoded data removed]",
      "text/plain": [
       "<Figure size 864x288 with 2 Axes>"
      ]
     },
     "metadata": {
      "needs_background": "light"
     },
     "output_type": "display_data"
    }
   ],
   "source": [
    "for column in ['duration', 'messages_count', 'mb_used', 'month_proceeds']:\n",
    "    f, ax = plt.subplots(nrows=1, ncols=2, figsize=(12, 4), sharey=True)\n",
    "    Q1=smart_user_data[column].quantile(0.25)\n",
    "    Q3=smart_user_data[column].quantile(0.75)\n",
    "    IQR=Q3-Q1\n",
    "    Q1_1=ultra_user_data[column].quantile(0.25)\n",
    "    Q3_1=ultra_user_data[column].quantile(0.75)\n",
    "    IQR_1=Q3_1-Q1_1\n",
    "    smart_user_data[column].plot(kind = 'hist', ax=ax[0], bins = 50, range=(Q1-1.5*IQR, Q3+1.5*IQR), grid = True)\n",
    "    ultra_user_data[column].plot(kind = 'hist', ax=ax[1], bins = 50, color='r', range=(Q1_1-1.5*IQR_1, Q3_1+1.5*IQR_1), grid=True)                   \n",
    "    ax[0].set(title= 'on smart tariff', xlabel=column, ylabel = 'count user id')\n",
    "    ax[1].set(title= 'on ultra tariff', xlabel=column, ylabel = 'count user id');\n",
    "  "
   ]
  },
  {
   "cell_type": "markdown",
   "metadata": {},
   "source": [
    "чтобы более наглядно видеть редкие значения, для указанных стобцов также построим \"ящики с усами\"."
   ]
  },
  {
   "cell_type": "code",
   "execution_count": 115,
   "metadata": {},
   "outputs": [
    {
     "data": {
      "image/png": "[encoded data removed]",
      "text/plain": [
       "<Figure size 864x288 with 2 Axes>"
      ]
     },
     "metadata": {
      "needs_background": "light"
     },
     "output_type": "display_data"
    },
    {
     "data": {
      "image/png": "[encoded data removed]",
      "text/plain": [
       "<Figure size 864x288 with 2 Axes>"
      ]
     },
     "metadata": {
      "needs_background": "light"
     },
     "output_type": "display_data"
    },
    {
     "data": {
      "image/png": "[encoded data removed]",
      "text/plain": [
       "<Figure size 864x288 with 2 Axes>"
      ]
     },
     "metadata": {
      "needs_background": "light"
     },
     "output_type": "display_data"
    },
    {
     "data": {
      "image/png": "[encoded data removed]",
      "text/plain": [
       "<Figure size 864x288 with 2 Axes>"
      ]
     },
     "metadata": {
      "needs_background": "light"
     },
     "output_type": "display_data"
    }
   ],
   "source": [
    "for column in ['duration', 'messages_count', 'mb_used', 'month_proceeds']:\n",
    "    f, ax = plt.subplots(nrows=1, ncols=2, figsize=(12, 4), sharey=True)\n",
    "    \n",
    "    smart_user_data[column].plot(kind = 'box', ax=ax[0])\n",
    "    ultra_user_data[column].plot(kind = 'box', ax=ax[1], color='r')                   \n",
    "    ax[0].set(title= 'on smart tariff', ylabel = column)\n",
    "    ax[1].set(title= 'on ultra tariff',  ylabel = column);"
   ]
  },
  {
   "cell_type": "markdown",
   "metadata": {},
   "source": [
    "Исходя из полученных графиков можно сделать следующие выводы. Так, большинство пользователей тарифа \"Смарт\"в месяц совершают звонки  общей длительностью от 285 до 559 мин. На ящике с усами мы наблюдаем, что редкие значения по данной переменной начинаются приблизительно с 970 минут и выше. Для пользователей тарифа \"Ультра\" этот диапазон составляет  от 279 до 767, а редкие значения начинаются примерно с 1450 мин. \n",
    "\n",
    "Касаемо ежемесячного количества сообщений, то для тарифа \"Смарт\" можно отметить, что большинство пользователей данного тарифа ежемесячно отправляют в общей сложности от 9 до 51 сообщений, при этом редкие значения начинаются примерно со 115 сообщений. Для пользователей тарифа \"Ультра\" межквартальный размах составил от 5 до 78 сообщений, а редкие значения начинаются примерно после 180 сообщений.\n",
    "\n",
    "В части использования интернет-траффика пользователями обоих опереторов можно отметить следюущее. Так, большинство пользователей тарифа \"Смарт\"  ежемесячно используют от 12 520 до 20 041 мб, редкие значения начинаются приблизительно с  31 000 мб. Для пользователей тарифа \"Ультра\" характерен межквартальный размах от 11 300 до 26 700 мб, а редкие значения начинаются с 49 000 мб.\n",
    "\n",
    "В части месячной выручки по клиенту в зависимости от тарифа мы наблюдаем следующую ситуацию. Месячная выручка от клиентов, пользующихя тарифом \"смарт\", в большинстве случаев находится в диапазоне от 550 до 1680, при этом редкие значения начинаются примерно с 3 500 руб. Пользователи тарифа \"ультра\" в большинстве своем не выходят за пределы тарифа и приносят месячную выручку в сумме 1950, то есть сумму, равную абонентской плате, при этом суммы выше 2000 уже являются редкостью.\n"
   ]
  },
  {
   "cell_type": "markdown",
   "metadata": {},
   "source": [
    "посмотрим динамику среднего потребления интернет-траффика по месяцам по обоим тарифам"
   ]
  },
  {
   "cell_type": "code",
   "execution_count": 116,
   "metadata": {
    "scrolled": false
   },
   "outputs": [
    {
     "data": {
      "image/png": "[encoded data removed]",
      "text/plain": [
       "<Figure size 864x576 with 2 Axes>"
      ]
     },
     "metadata": {
      "needs_background": "light"
     },
     "output_type": "display_data"
    }
   ],
   "source": [
    "s_gb = smart_user_data.groupby('month')['mb_used'].mean()\n",
    "u_gb = ultra_user_data.groupby('month')['mb_used'].mean()\n",
    "f, ax = plt.subplots(nrows=1, ncols=2, figsize=(12, 8), sharey=True)\n",
    "s_gb.plot.bar(ax=ax[0])\n",
    "u_gb.plot.bar(ax=ax[1], color='r')                   \n",
    "ax[0].set(title='mean mb used on smart', xlabel= 'month', ylabel = 'mb_used')\n",
    "ax[1].set(title='mean mb used on ultra', xlabel='month', ylabel = 'mb_used');"
   ]
  },
  {
   "cell_type": "markdown",
   "metadata": {},
   "source": [
    "мы видим, что по обоим тарифам в течение года вцелом среднее потребление траффика возрастает, при этом среднее потребление траффика пользователями тарифа \"ультра\" выше, чем у пользователей тарифа \"смарт\""
   ]
  },
  {
   "cell_type": "markdown",
   "metadata": {},
   "source": [
    "аналогичным образом посмотрим на динамику среднего количества отправленных сообщений в течение года пользователями рассматриваемых тарифов"
   ]
  },
  {
   "cell_type": "code",
   "execution_count": 117,
   "metadata": {},
   "outputs": [
    {
     "data": {
      "image/png": "[encoded data removed]",
      "text/plain": [
       "<Figure size 864x576 with 2 Axes>"
      ]
     },
     "metadata": {
      "needs_background": "light"
     },
     "output_type": "display_data"
    }
   ],
   "source": [
    "s_messages = smart_user_data.groupby('month')['messages_count'].mean()\n",
    "u_messages = ultra_user_data.groupby('month')['messages_count'].mean()\n",
    "f, ax = plt.subplots(nrows=1, ncols=2, figsize=(12, 8), sharey=True)\n",
    "s_messages.plot.bar(ax=ax[0])\n",
    "u_messages.plot.bar(ax=ax[1], color='r')                   \n",
    "ax[0].set(title='mean message count on smart', xlabel= 'month', ylabel = 'messages_count')\n",
    "ax[1].set(title='mean message count on ultra', xlabel='month', ylabel = 'messages_count');"
   ]
  },
  {
   "cell_type": "markdown",
   "metadata": {},
   "source": [
    "мы видим, что пользователи тарифа \"смарт\" в среднем отправляют существенно меньше сообщений, чем пользователи тарифа \"ультра\", при этом существенная положительная динамика по тарифу \"смарт\" наблюдается лишь в начале года,в то время как по тарифу \"ультра\" рост количества сообщений наблюдается практически в течение всего года"
   ]
  },
  {
   "cell_type": "markdown",
   "metadata": {},
   "source": [
    "аналогчным образом посмотрим на динамику суммарной средней продолжительности звоноков ежемесячно  в течение года пользователями рассматриваемых тарифов"
   ]
  },
  {
   "cell_type": "code",
   "execution_count": 118,
   "metadata": {},
   "outputs": [
    {
     "data": {
      "image/png": "[encoded data removed]",
      "text/plain": [
       "<Figure size 864x576 with 2 Axes>"
      ]
     },
     "metadata": {
      "needs_background": "light"
     },
     "output_type": "display_data"
    }
   ],
   "source": [
    "s_duration = smart_user_data.groupby('month')['duration'].mean()\n",
    "u_duration = ultra_user_data.groupby('month')['duration'].mean()\n",
    "f, ax = plt.subplots(nrows=1, ncols=2, figsize=(12, 8), sharey=True)\n",
    "s_duration.plot.bar(ax=ax[0])\n",
    "u_duration.plot.bar(ax=ax[1], color='r')                   \n",
    "ax[0].set(title='mean duration used on smart', xlabel= 'month', ylabel = 'duration')\n",
    "ax[1].set(title='mean duration on ultra', xlabel='month', ylabel = 'duration');"
   ]
  },
  {
   "cell_type": "markdown",
   "metadata": {},
   "source": [
    "мы видим, что пользователи тарифа \"ультра\" и общаются на порядок продолжительнее, чем пользователи тарифа \"смарт\", при этом по обоим тарифам мы наблюдаем, хоть и с перепадами, но положительную динамику в течение года"
   ]
  },
  {
   "cell_type": "markdown",
   "metadata": {},
   "source": [
    "посмотрим на динамику месячной средней выручки  от каждого пользователя в течение всего года по обоим тарифам"
   ]
  },
  {
   "cell_type": "code",
   "execution_count": 119,
   "metadata": {
    "scrolled": false
   },
   "outputs": [
    {
     "data": {
      "image/png": "[encoded data removed]",
      "text/plain": [
       "<Figure size 864x288 with 2 Axes>"
      ]
     },
     "metadata": {
      "needs_background": "light"
     },
     "output_type": "display_data"
    }
   ],
   "source": [
    "s_proceeds = smart_user_data.groupby('month')['month_proceeds'].mean()\n",
    "u_proceeds = ultra_user_data.groupby('month')['month_proceeds'].mean()\n",
    "f, ax = plt.subplots(nrows=1, ncols=2, figsize=(12, 4), sharey=True)\n",
    "s_proceeds.plot.bar(ax=ax[0])\n",
    "u_proceeds.plot.bar(ax=ax[1], color='r')                   \n",
    "ax[0].set(title='mean proceeds used on smart', xlabel= 'month', ylabel = 'mean proceeds')\n",
    "ax[1].set(title='mean proceeds on ultra', xlabel='month', ylabel = 'mean proceeds');"
   ]
  },
  {
   "cell_type": "markdown",
   "metadata": {},
   "source": [
    "мы видим, что средняя месячная выручка, полученная от каждого пользователя тарифа \"ультра\" существенно выше, чем от пользователей тарифа \"смарт\", при этом по тарифу \"ультра\" резких изменений среднего размера  месячной выручки не наблюдается, в то время как па тарифу \"смарт\" вцелом наблюдается переменчивая динамика в течение года, но все же динамика положительная."
   ]
  },
  {
   "cell_type": "markdown",
   "metadata": {},
   "source": [
    "соответственно, посмотрим также динамику суммарной месячной выручки по каждому тарифу в течение года"
   ]
  },
  {
   "cell_type": "code",
   "execution_count": 120,
   "metadata": {
    "scrolled": false
   },
   "outputs": [
    {
     "data": {
      "image/png": "[encoded data removed]",
      "text/plain": [
       "<Figure size 864x288 with 2 Axes>"
      ]
     },
     "metadata": {
      "needs_background": "light"
     },
     "output_type": "display_data"
    }
   ],
   "source": [
    "s = smart_user_data.groupby('month')['month_proceeds'].sum()\n",
    "u  = ultra_user_data.groupby('month')['month_proceeds'].sum()\n",
    "f, ax = plt.subplots(nrows=1, ncols=2, figsize=(12, 4), sharey=True)\n",
    "s.plot.bar(ax=ax[0])\n",
    "u.plot.bar(ax=ax[1], color='r')                   \n",
    "ax[0].set(title='sum proceeds used on smart', xlabel= 'month', ylabel = 'sum proceeds')\n",
    "ax[1].set(title='sum proceeds on ultra', xlabel='month', ylabel = 'sum proceeds');"
   ]
  },
  {
   "cell_type": "markdown",
   "metadata": {},
   "source": [
    "по обоим тарифам наблюдаем положительную динамику, при этом общая сумма выручки, получаемая ежемесячно от пользователей тарифа \"смарт\", существенно выше, чем по тарифу \"ультра\", вероятнее всего сказывается разница в количестве абонентов по данным группам. "
   ]
  },
  {
   "cell_type": "markdown",
   "metadata": {},
   "source": [
    "посмотрим также разницу сумм ежемесячных выручек по категориям городов"
   ]
  },
  {
   "cell_type": "code",
   "execution_count": 121,
   "metadata": {},
   "outputs": [
    {
     "data": {
      "image/png": "[encoded data removed]",
      "text/plain": [
       "<Figure size 864x288 with 2 Axes>"
      ]
     },
     "metadata": {
      "needs_background": "light"
     },
     "output_type": "display_data"
    }
   ],
   "source": [
    "s_p = smart_user_data.groupby('city_category')['month_proceeds'].sum()\n",
    "u_p  = ultra_user_data.groupby('city_category')['month_proceeds'].sum()\n",
    "f, ax = plt.subplots(nrows=1, ncols=2, figsize=(12, 4), sharey=True)\n",
    "s_p.plot.bar(ax=ax[0])\n",
    "u_p.plot.bar(ax=ax[1], color='r')                   \n",
    "ax[0].set(title='sum proceeds used on smart', xlabel= 'city', ylabel = 'sum proceeds')\n",
    "ax[1].set(title='sum proceeds on ultra', xlabel='city', ylabel = 'sum proceeds');"
   ]
  },
  {
   "cell_type": "raw",
   "metadata": {},
   "source": [
    "как и ожидалось, больше всего денежных средств получено со стороны жителей \"других\" городов, далее идет Москва, после чего Санкт-Петербург, при этом по тарифу \"ультра\" от жителей северной столицы поступило значительно меньше денежных средств, чем от жителей Москвы, в то время как по тарифу \"смарт\" данная разница не так существенна."
   ]
  },
  {
   "cell_type": "markdown",
   "metadata": {},
   "source": [
    "### Выводы"
   ]
  },
  {
   "cell_type": "markdown",
   "metadata": {},
   "source": [
    "В ходе проведения анализа мы описали поведение клиентов оператора, исходя из выборки. Определили количество минут разговора, сообщений и  объём интернет-трафика, которые требуются пользователям каждого тарифа в месяц. Посчитали среднее количество, дисперсию и стандартное отклонение по данным параметрам, включая месячную выручку для пользователя каждого из 2 тарифов. Всю полученную информацию отразили в графическом виде, в том числе информацию о динамике различных поаказателей, сгрупированных по другому показателю.\n",
    "\n",
    "Так, путем создания тепловой карты для определения попарной корреляции интересующих столбцов, мы обнаружили достаточно высокую зависимость месячной выручки от количества использованного траффика, чуть ниже от длительности и количества звонков, и еще ниже от количества сообщений. Также мы обнаружили достаточно сильную связь между количеством и длительностью звонков и количеством использованного траффика, а также связь между количеством сообщений и звонками, а также траффиком.\n",
    "\n",
    "Мы обнаружили, что количество пользователей тарифа \"смарт\" значительно выше, чем аналогичный показатель тарифа \"ультра\".\n",
    "\n",
    "Также мы обнаружили, что средний возраст пользователей обоих тарифов практически не отличается и находится на уровне 45-47 лет.\n",
    "\n",
    "Мы увидели, что обоими тарифами преобладающе пользуются люди среднего возраста, а именно более 40 %, более 30% пользователей обоих тарифов - это пожилые люди, а остальные - молодежь. Различия по тарифам имеются, но незначительные.\n",
    "\n",
    "Также, предварительно разделив населенные пункты, где живут пользователи рассматриваемых тарифов, на категории, а именно \"Москва, Санкт-Петербург и другие\", нами установлено, что в рассматриваемой выборке большинство пользователей по обоим тарифов из других городов, а именно более 70%,  пользователей из Москвы около 20%, остальные, соответственно - жители северной столицы. Опять же, различия по тарифам имеются, но незначительные.\n",
    "\n",
    "Используя цикл, мы построили гистограммы по инересующим столбцам, а именно длительность звонка, количество сообщений, количество использованного интернет-траффика, месячная выручка по каждому пользователю, при этом значения находятся в интервале с учетом \"минимума\" и \"максимума\", то есть редкие значения не отражались, их мы отразили, создав \"ящики с усами\" для данных столбцов.\n",
    "\n",
    "Далее,исходя из полученных графиков мы сделали следующие выводы. Так, большинство пользователей тарифа \"Смарт\"в месяц совершают звонки общей длительностью от 285 до 559 мин. На ящике с усами мы наблюдаем, что редкие значения по данной переменной начинаются приблизительно с 970 минут и выше. Для пользователей тарифа \"Ультра\" этот диапазон составляет от 279 до 767, а редкие значения начинаются примерно с 1450 мин.\n",
    "\n",
    "Касаемо ежемесячного количества сообщений, то для тарифа \"Смарт\" можно отметить, что большинство пользователей данного тарифа ежемесячно отправляют в общей сложности от 9 до 51 сообщений, при этом редкие значения начинаются примерно со 115 сообщений. Для пользователей тарифа \"Ультра\" межквартальный размах составил от 5 до 78 сообщений, а редкие значения начинаются примерно после 180 сообщений.\n",
    "\n",
    "В части использования интернет-траффика пользователями обоих опереторов можно отметить следюущее. Так, большинство пользователей тарифа \"Смарт\" ежемесячно используют от 12 520 до 20 041 мб, выбросы начинаются приблизительно с 31 000 мб. Для пользователей тарифа \"Ультра\" характерен межквартальный размах от 11 300 до 26 700 мб, а редкие значения начинаются с 49 000 мб.\n",
    "\n",
    "В части месячной выручки по клиенту в зависимости от тарифа мы наблюдаем следующую ситуацию. Месячная выручка от клиентов, пользующихя тарифом \"смарт\", в большинстве случаев находится в диапазоне от 550 до 1680, при этом редкие значения начинаются примерно с 3 500 руб. Пользователи тарифа \"ультра\" в большинстве своем не выходят за пределы тарифа и приносят месячную выручку в сумме 1950 руб., то есть сумму, равную абонентской плате, при этом суммы выше 2000 уже являются редкостью.\n",
    "\n",
    "\n",
    "После этого мы группировали данные и отображали результаты вграфическом виде. В итоге нами установлены нижеследующие особенности.\n",
    "\n",
    "Так,по обоим тарифам в течение года вцелом среднее потребление интернет- траффика возрастает, при этом среднее потребление траффика пользователями тарифа \"ультра\" выше, чем у пользователей тарифа \"смарт\".\n",
    "\n",
    "Также мы увидели, что пользователи тарифа \"смарт\" в среднем отправляют существенно меньше сообщений, чем пользователи тарифа \"ультра\", при этом существенная положительная динамика по тарифу \"смарт\" наблюдается лишь в начале года,в то время как по тарифу \"ультра\" рост количества сообщений наблюдается практически в течение всего года.\n",
    "\n",
    "Мы обнаружили, что пользователи тарифа \"ультра\" и общаются на порядок продолжительнее, чем пользователи тарифа \"смарт\", при этом по обоим тарифам мы наблюдаем, хоть и с перпадами, но положительную динамику в течение года.\n",
    "\n",
    "Мы увидели, что средняя месячная выручка, полученная от каждого пользователя тарифа \"ультра\", существенно выше, чем от пользователей тарифа \"смарт\", при этом по тарифу \"ультра\" резких изменений среднего размера  месячной выручки не наблюдается, в то время как па тарифу \"смарт\" вцелом наблюдается изменчивая динамика в течение года.\n",
    "\n",
    "Также, по обоим тарифам мы наблюдаем положительную динамику, при этом общая сумма выручки, получаемая ежемесячно от пользователей тарифа \"смарт\", существенно выше, чем по тарифу \"ультра\", вероятнее всего сказывается разница в количестве абонентов по данным группам. \n",
    "\n",
    "Кроме того, установлено, больше всего денежных средств получено со стороны жителей \"других\" городов, далее идет Москва, после чего Санкт-Петербург, при этом по тарифу \"ультра\" от жителей северной столицы поступило значительно меньше денежных средств, чем от жителей Москвы, в то время как по тарифу \"смарт\" данная разница не так существенна."
   ]
  },
  {
   "cell_type": "markdown",
   "metadata": {},
   "source": [
    "<a id=\"hypotheses\"></a>\n",
    "\n",
    "## Шаг.4 Проверка гипотез"
   ]
  },
  {
   "cell_type": "markdown",
   "metadata": {},
   "source": [
    "Проверим гипотезу, что средняя выручка пользователей тарифов «Ультра» и «Смарт» различается. Здесь мы выясняем, есть ли разница между совокупностями, поэтому нулевая гипотеза должна быть такая: «нет, разницы нет, то есть исследуемые параметры равны». Исходя из этого ниже следуют нулевая и альтернативная гипотезы, альтернативная, соответсвтенно, прямо противоположная."
   ]
  },
  {
   "cell_type": "markdown",
   "metadata": {},
   "source": [
    "H0 - средняя выручка пользователей тарифов \"Ультра\" и \"Смарт\" не различается.\n",
    "\n",
    "H1 - средняя выручка пользователей тарифов \"Ультра\" и \"Смарт\" различается."
   ]
  },
  {
   "cell_type": "markdown",
   "metadata": {},
   "source": [
    "создадим 2 датасета со значениями выручки по каждому тарифу"
   ]
  },
  {
   "cell_type": "code",
   "execution_count": 122,
   "metadata": {},
   "outputs": [],
   "source": [
    "smart_proceeds = smart_user_data['month_proceeds']\n",
    "ultra_proceeds = ultra_user_data['month_proceeds']\n"
   ]
  },
  {
   "cell_type": "markdown",
   "metadata": {},
   "source": [
    "Чтобы проверить гипотезу о равенстве среднего двух генеральных совокупностей по взятым из них выборкам, применим метод scipy.stats.ttest_ind (array1, array2, equal_var).  Мы выбрали один из параметрическиз критериев значимости, которые служат для проверки гипотез о параметрах распределений, в частности t-критерий Стьюдента для независимых выборок."
   ]
  },
  {
   "cell_type": "markdown",
   "metadata": {},
   "source": [
    "критический уровень статистической значимости примем за 5%.При выборе уровня значимости мы исходили из практических соображений и посчитали такой критический уровень статистической значимости достаточным. "
   ]
  },
  {
   "cell_type": "code",
   "execution_count": 123,
   "metadata": {},
   "outputs": [],
   "source": [
    "from scipy import stats as st\n",
    "alpha = 0.05 \n"
   ]
  },
  {
   "cell_type": "code",
   "execution_count": 124,
   "metadata": {
    "scrolled": true
   },
   "outputs": [],
   "source": [
    "variance_smart_proceeds = np.var(smart_proceeds, ddof=1)\n",
    "variance_ultra_proceeds = np.var(ultra_proceeds, ddof=1)"
   ]
  },
  {
   "cell_type": "code",
   "execution_count": 125,
   "metadata": {},
   "outputs": [
    {
     "data": {
      "text/plain": [
       "634743.8744152953"
      ]
     },
     "execution_count": 125,
     "metadata": {},
     "output_type": "execute_result"
    }
   ],
   "source": [
    "variance_smart_proceeds\n"
   ]
  },
  {
   "cell_type": "code",
   "execution_count": 126,
   "metadata": {},
   "outputs": [
    {
     "data": {
      "text/plain": [
       "124636.78216202698"
      ]
     },
     "execution_count": 126,
     "metadata": {},
     "output_type": "execute_result"
    }
   ],
   "source": [
    "variance_ultra_proceeds"
   ]
  },
  {
   "cell_type": "code",
   "execution_count": 127,
   "metadata": {},
   "outputs": [],
   "source": [
    "variance_tariff_difference = ((variance_ultra_proceeds-variance_smart_proceeds)/variance_smart_proceeds)*100"
   ]
  },
  {
   "cell_type": "code",
   "execution_count": 128,
   "metadata": {
    "scrolled": true
   },
   "outputs": [
    {
     "data": {
      "text/plain": [
       "-80.36424025724736"
      ]
     },
     "execution_count": 128,
     "metadata": {},
     "output_type": "execute_result"
    }
   ],
   "source": [
    "variance_tariff_difference"
   ]
  },
  {
   "cell_type": "markdown",
   "metadata": {},
   "source": [
    "мы видим, что разница составляет более 80%"
   ]
  },
  {
   "cell_type": "code",
   "execution_count": 129,
   "metadata": {},
   "outputs": [],
   "source": [
    " results = st.ttest_ind(\n",
    "    smart_proceeds, \n",
    "    ultra_proceeds, equal_var = False)"
   ]
  },
  {
   "cell_type": "code",
   "execution_count": 130,
   "metadata": {},
   "outputs": [
    {
     "name": "stdout",
     "output_type": "stream",
     "text": [
      "p-значение: 4.957899032144109e-290\n"
     ]
    }
   ],
   "source": [
    "print('p-значение:', results.pvalue)\n"
   ]
  },
  {
   "cell_type": "code",
   "execution_count": 131,
   "metadata": {},
   "outputs": [
    {
     "name": "stdout",
     "output_type": "stream",
     "text": [
      "Средняя выручка пользователей тарифов Ультра и Смарт различается, так как значение статистичекой значимости меньше критического уровня статистической  значимости, поэтому мы можем опровергнуть нулевую гипотезу.\n"
     ]
    }
   ],
   "source": [
    "if (results.pvalue < alpha):\n",
    "    print(\"Средняя выручка пользователей тарифов Ультра и Смарт различается, так как значение статистичекой значимости меньше критического уровня статистической  значимости, поэтому мы можем опровергнуть нулевую гипотезу.\")\n",
    "else:\n",
    "    print(\"Средняя выручка пользователей тарифов Ультра и Смарт не различается, так как значение статистической значимости больше критического уровня статистической  значимости, поэтому мы не можем опровергнуть нулевую гипотезу.\")"
   ]
  },
  {
   "cell_type": "markdown",
   "metadata": {},
   "source": [
    "*То есть, вероятность того, что существующая разница между средними выручками 2 тарифов является случайностью, крайне мала. Эта вероятность позволяет сделать вывод о значимом различии между средними выручками.*"
   ]
  },
  {
   "cell_type": "markdown",
   "metadata": {},
   "source": [
    "Проверим гипотезу, что средняя выручка пользователей из Москвы отличается от выручки пользователей из других регионов.\n",
    "\n",
    "Расчеты проведем аналогичные вышепроведенным, так как в данном случае отличие лишь в том, что клиенты разделены по признаку принадлжености к местности, а не к тарифу."
   ]
  },
  {
   "cell_type": "markdown",
   "metadata": {},
   "source": [
    "H0 - средняя выручка пользователей из Москвы и других регионов не различается.\n",
    "\n",
    "H1 - средняя выручка пользователей из Москвы и других регионов различается."
   ]
  },
  {
   "cell_type": "code",
   "execution_count": 132,
   "metadata": {},
   "outputs": [],
   "source": [
    "moscow_proceeds = user_data.query(\"city == 'Москва'\")['month_proceeds']\n",
    "other_proceeds = user_data.query(\"city != 'Москва'\")['month_proceeds']"
   ]
  },
  {
   "cell_type": "markdown",
   "metadata": {},
   "source": [
    "аналогичным образом сравним дисперсии рассматриваемых выборок"
   ]
  },
  {
   "cell_type": "code",
   "execution_count": 133,
   "metadata": {},
   "outputs": [],
   "source": [
    "variance_moscow_proceeds = np.var(moscow_proceeds, ddof=1)\n",
    "variance_other_proceeds = np.var(other_proceeds, ddof=1)"
   ]
  },
  {
   "cell_type": "code",
   "execution_count": 134,
   "metadata": {},
   "outputs": [
    {
     "data": {
      "text/plain": [
       "547423.2407466922"
      ]
     },
     "execution_count": 134,
     "metadata": {},
     "output_type": "execute_result"
    }
   ],
   "source": [
    "variance_moscow_proceeds"
   ]
  },
  {
   "cell_type": "code",
   "execution_count": 135,
   "metadata": {
    "scrolled": true
   },
   "outputs": [
    {
     "data": {
      "text/plain": [
       "635510.9917224266"
      ]
     },
     "execution_count": 135,
     "metadata": {},
     "output_type": "execute_result"
    }
   ],
   "source": [
    "variance_other_proceeds"
   ]
  },
  {
   "cell_type": "code",
   "execution_count": 136,
   "metadata": {},
   "outputs": [],
   "source": [
    "variance_city_difference = ((variance_other_proceeds-variance_moscow_proceeds)/variance_moscow_proceeds)*100"
   ]
  },
  {
   "cell_type": "code",
   "execution_count": 137,
   "metadata": {},
   "outputs": [
    {
     "data": {
      "text/plain": [
       "16.091342935236298"
      ]
     },
     "execution_count": 137,
     "metadata": {},
     "output_type": "execute_result"
    }
   ],
   "source": [
    "variance_city_difference"
   ]
  },
  {
   "cell_type": "markdown",
   "metadata": {},
   "source": [
    "разница составляет более 5%, поэтому equal_var также примем равным False"
   ]
  },
  {
   "cell_type": "code",
   "execution_count": 138,
   "metadata": {},
   "outputs": [],
   "source": [
    "alpha = 0.05"
   ]
  },
  {
   "cell_type": "code",
   "execution_count": 139,
   "metadata": {},
   "outputs": [],
   "source": [
    " results = st.ttest_ind(\n",
    "    moscow_proceeds, \n",
    "    other_proceeds, equal_var = False)"
   ]
  },
  {
   "cell_type": "code",
   "execution_count": 140,
   "metadata": {},
   "outputs": [
    {
     "name": "stdout",
     "output_type": "stream",
     "text": [
      "p-значение: 0.4020744707525923\n"
     ]
    }
   ],
   "source": [
    "print('p-значение:', results.pvalue)\n"
   ]
  },
  {
   "cell_type": "code",
   "execution_count": 141,
   "metadata": {},
   "outputs": [
    {
     "name": "stdout",
     "output_type": "stream",
     "text": [
      "Средняя выручка пользователей из Москвы не отличается от выручки пользователей из других регионов, так как значение статистической значимости больше критического уровня статистической  значимости, и мы не можем опровергнуть нулевую гипотезу.\n"
     ]
    }
   ],
   "source": [
    "if (results.pvalue < alpha):\n",
    "    print(\"Средняя выручка пользователей Москвы отличается от выручки пользователей из других регионов, так как значение статистической значимости меньше критического уровня, поэтому можем опровергнуть нулевую гипотезу.\")\n",
    "else:\n",
    "    print(\"Средняя выручка пользователей из Москвы не отличается от выручки пользователей из других регионов, так как значение статистической значимости больше критического уровня статистической  значимости, и мы не можем опровергнуть нулевую гипотезу.\")"
   ]
  },
  {
   "cell_type": "markdown",
   "metadata": {},
   "source": [
    "*Полученный результат говорит о том, что хотя средняя выручка, получаемая от клиентов из Москвы и других городов, может быть неодинаковой, с вероятностью более 40% это различие можно получить случайно, то есть это явно слишком большая вероятность, чтобы делать вывод о значимом различии между средними выручками по рассматриваемым выборкам.*"
   ]
  },
  {
   "cell_type": "markdown",
   "metadata": {},
   "source": [
    "### Выводы"
   ]
  },
  {
   "cell_type": "markdown",
   "metadata": {},
   "source": [
    "В процессе выполнения данного шага мы проверили следующие гипотезы: \n",
    "\n",
    "средняя выручка пользователей тарифов «Ультра» и «Смарт» различается;\n",
    "\n",
    "средняя выручка пользователей из Москвы отличается от выручки пользователей из других регионов;\n",
    "\n",
    "Чтобы проверить данные гипотезы мы применили метод scipy.stats.ttest_ind().  Мы выбрали один из параметрических критериев значимости, которые служат для проверки гипотез о параметрах распределений, в частности t-критерий Стьюдента для независимых выборок.\n",
    "\n",
    "По результатам проверки первой гипотезы мы установили, что средняя выручка пользователей тарифов Ультра и Смарт различается, так как значение статистичекой значимости меньше критического уровня статистической  значимости, поэтому мы смогли опровергнуть нулевую гипотезу (H0 - средняя выручка пользователей тарифов \"Ультра\" и \"Смарт\" не различается) и подтвердить альтернативную гипотезу (H1 - средняя выручка пользователей тарифов \"Ультра\" и \"Смарт\" различается),то есть вероятность того, что существующая разница между средними выручками 2 тарифов является случайностью, крайне мала. Эта вероятность позволяет сделать вывод о значимом различии между средними выручками.\n",
    "\n",
    "По результатам проверки второй гипотезы мы установили, что средняя выручка пользователей из Москвы не отличается от выручки пользователей из других регионов, так как значение статистической значимости больше критического уровня, поэтому мы не смогли опровергнуть нулевую гипотезу. Полученный результат говорит о том, что хотя средняя выручка, получаемая от клиентов из Москвы и других городов, может быть неодинаковой, с вероятностью более 40% это различие можно получить случайно, то есть это явно слишком большая вероятность, чтобы делать вывод о значимом различии между средними выручками по рассматриваемым выборкам.\n"
   ]
  },
  {
   "cell_type": "markdown",
   "metadata": {},
   "source": [
    "<a id=\"conclusion\"></a>\n",
    "\n",
    "## Шаг 5. Общий вывод"
   ]
  },
  {
   "cell_type": "markdown",
   "metadata": {},
   "source": [
    "    По результатам проведенного исследования можно сделать нижеследующие выводы.\n",
    "\n",
    "    На первом шаге мы получили данные о тарифах и пользователях в виде отдельных датафреймов.Нами утановлено, что каждая строка таблицы содержит информацию об определенных характеристиках тарифного плана и уникального клиента, который пользуется данным тарифным планом, а также непосредственно статистические сведения о характере использования одного из двух тарифных планов, а именно \"Смарт\" и \"Ультра\", конкретным клиентом \"Мегалайн\".\n",
    "\n",
    "    На первом этапе мы обнаружили следующие проблемы: логическое несоответствие типов данных определенных столбцов с той информацией, которая в них содержится, а именно по столбцам с указанием дат, идентификатора пользователя, а также количества использованных минут и интернет-траффика. Кроме того,в датафрейме df_internet имеется столбец 'Unnamed: 0', наличие которого вероятнее всего связано с какой-то технической ошибкой.Также, в столбце duration таблицы df_calls мы наблюдали большое количество звонков длительностью 0.0 минут, что вероятнее всего является ошибкой данных. Аналогичную картину мы наблюдали по столбцу с информацией о количестве расходованного интернет-траффика.Кроме того, в столбце с информацией о дате прекращения пользования тарифом более 92,5 % пропущенных значений, связанных с тем, что на момент выгрузки данных тариф еще действовал, то есть пользовател его использовал.\n",
    "    \n",
    "    Далее, на этапе подготовки данных, учитывая наличие столбцов с несоответствующими типами данных мы привели указанные столбцы к соответствующему типу, а имменно даты в формат дат, идентификатор пользователя в тип данных 'object', информацию о длительности звонков и количестве расходованного траффика в целочисленный тип, так как оператор \"Мегалайн\" всегда округляет вверх значения минут и мегабайт. Также, сделав предположение, что как минимум 01.01.2019 клиент еще являлся пользователем тарифа, мы заменили все пропущенные значения в столбце 'churn_date' на 01.01.2019. Учитывая информацию об округлении длительности звонков и размера расходованного интернет-траффика, мы заменили имеющиеся нулевые значения в  столбцах 'duration' и 'mb_used' на 1, а положительные значения округлили в большую сторону вызовом функции np.cail.\n",
    "    \n",
    "    На следующем этапе из столбцов со значениями дат расхода интернет-траффика, совершения звонка, отправки сообщения и регистрации пользователя мы извлекли значение месяца, создав соответствующие столбцы 'month' в рассматриваемых таблицах. Также, путем формирования сводных таблиц, мы рассчитали для каждого пользователя количество сделанных звонков и израсходованных минут разговора по месяцам, количество отправленных сообщений по месяцам, объем израсходованного интернет-трафика по месяцам.Далее мы определили диапазон дат регистрации новых клиентов и сгенерировали таблицу, где каждому клиенту присвоен каждый месяц из полученного диапазона, то есть 12 месяцев 2018 года. После этого, методом merge объединили полученную таблицу, состояющую из 12 месяцев 2018 года, с таблицей df_users, создав для них общий столбец 'key', а также сооздав в результате данного объединения новый датафрейм user_data, где каждому пользователю присвоены все 12 месяцев 2018 года. Далее, созданную таблицу user_data методом merge  объединили с полученными сводными таблицами по общим столбцам 'user_id' и 'month'. Мы также рассчитали для каждого тарифа помесячную выручку с каждого пользователя с учетом условий тарифов, то есть посчитали перерасход по всем параметрам тарифа и прибавили абонентскую плату.\n",
    "    \n",
    "    В ходе выполнения 3 шага мы провели анализ, в ходе которого описали поведение клиентов оператора, исходя из выборки. Определили количество минут разговора, сообщений и  объём интернет-трафика, которые требуются пользователям каждого тарифа в месяц. Посчитали среднее количество, дисперсию и стандартное отклонение по данным параметрам, включая месячную выручку для пользователя каждого из 2 тарифов. Всю полученную информацию отразили в графическом виде, в том числе информацию о динамике различных показателей, сгрупированных по другому показателю.\n",
    "\n",
    "    Так, путем создания тепловой карты для определения попарной корреляции интересующих столбцов, мы обнаружили достаточно высокую зависимость месячной выручки от количества использованного траффика, чуть ниже от длительности и количества звонков, и еще ниже от количества сообщений. Также мы обнаружили достаточно сильную связь между количеством и длительностью звонков и количеством использованного траффика, а также связь между количеством сообщений и звонками, а также траффиком.\n",
    "    \n",
    "    В процессе просмотра распределения значений мы обнаружили следующие особенности:\n",
    "\n",
    "* количество пользователей тарифа \"смарт\" значительно выше, чем аналогичный показатель тарифа \"ультра\".\n",
    "\n",
    "* средний возраст пользователей обоих тарифов практически не отличается и находится на уровне 45-47 лет.\n",
    "\n",
    "* обоими тарифами преобладающе пользуются люди среднего возраста, а именно более 40 %, более 30% пользователей обоих тарифов - это пожилые люди, а остальные - молодежь. Различия по тарифам имеются, но незначительные.\n",
    "\n",
    "    Также, предварительно разделив населенные пункты, где живут пользователи рассматриваемых тарифов, на категории, а именно \"Москва, Санкт-Петербург и другие\", нами установлено, что в рассматриваемой выборке большинство пользователей по обоим тарифов из других городов, а именно более 70%,  пользователей из Москвы около 20%, остальные, соответственно - жители северной столицы. Опять же, различия по тарифам имеются, но незначительные.\n",
    "\n",
    "    Используя цикл, мы построили гистограммы по интересующим столбцам, а именно длительность звонка, количество сообщений, количество использованного интернет-траффика, месячная выручка по каждому пользователю, при этом значения отразили в интервале с учетом \"минимума\" и \"максимума\", то есть редкие значения не отражались, их мы отразили, создав \"ящики с усами\" для данных столбцов.\n",
    "\n",
    "    Далее,исходя из полученных графиков мы сделали следующие выводы. \n",
    "    \n",
    "* большинство пользователей тарифа \"Смарт\"в месяц совершают звонки общей длительностью от 285 до 559 мин. На ящике с усами мы обнаружили, что редкие значения по данной переменной начинаются приблизительно с 970 минут и выше. Для пользователей тарифа \"Ультра\" этот диапазон составляет от 279 до 767 мин., а редкие значения начинаются примерно с 1450 мин.\n",
    "\n",
    "* большинство пользователей тарифа \"Смарт\" ежемесячно отправляют в общей сложности от 9 до 51 сообщений, при этом редкие значения начинаются примерно со 115 сообщений. Для пользователей тарифа \"Ультра\" межквартальный размах составил от 5 до 78 сообщений, а редкие значения начинаются примерно после 180 сообщений.\n",
    "\n",
    "* большинство пользователей тарифа \"Смарт\" ежемесячно используют от 12 520 до 20 041 мб интернет-траффика, редкие знчения начинаются приблизительно с 31 000 мб. Для пользователей тарифа \"Ультра\" характерен межквартальный размах от 11 300 до 26 700 мб, а редкие значения начинаются с 49 000 мб.\n",
    "\n",
    "* месячная выручка от клиентов, пользующихя тарифом \"смарт\", в большинстве случаев находится в диапазоне от 550 до 1680 руб., при этом редкие значения начинаются примерно с 3 500 руб. Пользователи тарифа \"ультра\" в большинстве своем не выходят за пределы тарифа и приносят месячную выручку в сумме 1950 руб., то есть сумму, равную абонентской плате, при этом суммы выше 2000 руб. уже являются редкостью.\n",
    "\n",
    "    После этого мы группировали данные и отображали результаты в графическом виде. В итоге нами установлены нижеследующие особенности.\n",
    "\n",
    "* по обоим тарифам в течение года вцелом среднее потребление интернет- траффика возрастает, при этом среднее потребление траффика пользователями тарифа \"ультра\" выше, чем у пользователей тарифа \"смарт\".\n",
    "\n",
    "* пользователи тарифа \"смарт\" в среднем отправляют существенно меньше сообщений, чем пользователи тарифа \"ультра\", при этом существенная положительная динамика по тарифу \"смарт\" наблюдается лишь в начале года,в то время как по тарифу \"ультра\" рост количества сообщений наблюдается практически в течение всего года.\n",
    "\n",
    "* пользователи тарифа \"ультра\" и общаются на порядок продолжительнее, чем пользователи тарифа \"смарт\", при этом по обоим тарифам мы наблюдаем, хоть и с перпадами, но положительную динамику в течение года.\n",
    "\n",
    "* средняя месячная выручка, полученная от каждого пользователя тарифа \"ультра\", существенно выше, чем от пользователей тарифа \"смарт\", при этом по тарифу \"ультра\" резких изменений среднего размера  месячной выручки не наблюдается, в то время как па тарифу \"смарт\" вцелом наблюдается изменчивая динамика в течение года, но все же положительная.\n",
    "\n",
    "* по обоим тарифам мы наблюдали положительную динамику показателя суммарной ежемесячной выручки по всем пользователям тарифа, при этом общая сумма выручки, получаемая ежемесячно от пользователей тарифа \"смарт\", существенно выше, чем по тарифу \"ультра\", вероятнее всего сказывается большая разница в количестве абонентов.\n",
    "\n",
    "* больше всего денежных средств получено со стороны жителей \"других\" городов, далее идет Москва, после чего Санкт-Петербург, при этом по тарифу \"ультра\" от жителей северной столицы поступило значительно меньше денежных средств, чем от жителей Москвы, в то время как по тарифу \"смарт\" данная разница не так существенна.\n",
    "\n",
    "    В процессе выполнения 4 шага мы проверили следующие гипотезы: \n",
    "\n",
    "* средняя выручка пользователей тарифов «Ультра» и «Смарт» различается;\n",
    "\n",
    "* средняя выручка пользователей из Москвы отличается от выручки пользователей из других регионов;\n",
    "\n",
    "    Чтобы проверить данные гипотезы мы применили метод scipy.stats.ttest_ind().  Мы выбрали один из параметрических критериев значимости, которые служат для проверки гипотез о параметрах распределений, в частности t-критерий Стьюдента для независимых выборок.\n",
    "\n",
    "    По результатам проверки первой гипотезы мы установили, что средняя выручка пользователей тарифов Ультра и Смарт различается, так как значение статистичекой значимости меньше критического уровня статистической  значимости, поэтому мы смогли опровергнуть нулевую гипотезу (H0 - средняя выручка пользователей тарифов \"Ультра\" и \"Смарт\" не различается) и подтвердить альтернативную гипотезу (H1 - средняя выручка пользователей тарифов \"Ультра\" и \"Смарт\" различается),то есть вероятность того, что существующая разница между средними выручками 2 тарифов является случайностью, крайне мала. Эта вероятность позволяет сделать вывод о значимом различии между средними выручками.\n",
    "\n",
    "    По результатам проверки второй гипотезы мы установили, что средняя выручка пользователей из Москвы не отличается от выручки пользователей из других регионов, так как значение статистической значимости больше критического уровня, поэтому мы не смогли опровергнуть нулевую гипотезу. Полученный результат говорит о том, что хотя средняя выручка, получаемая от клиентов из Москвы и других городов, может быть неодинаковой, с вероятностью более 40% это различие можно получить случайно, то есть это явно слишком большая вероятность, чтобы делать вывод о значимом различии между средними выручками по рассматриваемым выборкам.\n",
    "\n",
    "    Исходя из полученной информации, сложно сделать однозначный вывод о коммерческом успехе того или иного тарифа, так как отсутствуют сведения о затратах компании на предоставление данных услуг, то есть сама по себе выручка нам мало скажет о коммерческом успехе. Так, в среднем пользователь тарифа \"ультра\" платит оператору за предоставленные услуги больше денежных средств, чем пользователь тарифа \"смарт\", при  этом пользователи тарифа \"смарт\" платят значительно больше денежных средств, чем предусмотрено абонентской платой по тарифному плану, в то время как большинство пользователей тарифа \"ультра\" не превышают установленную сумму абонентской платы. Кроме того, общий доход, получаемый ежемесячно от пользователей тарифа \"смарт\", существенно выше аналогичного показателя по тарифу \"ультра\", причиной чего может являться в том числе большая разница в количестве абонентов. Вместе с тем, тот факт, что пользователи тарифа \"ультра\" в большинстве своем не превышают установленную абонентскую плату, может говорить о граммотном определении оператором потребностей клиентов - пользователей тарифного плата \"ультра\", но все же, для более точного определения успеха одного из данных тарифов, следует проанализировать информацию, касающуся расходов компании на предоставление услуг, в том числе и на рекламную кампанию.\n",
    "\n",
    "**Рекомендации коммерческому департаменту для корректировки рекламного бюджета:**\n",
    "\n",
    "*1. Обратить внимание на возможность увеличения количества пользователей тарифа \"ультра\", ввиду существенно большей, нежели у пользователей тарифа \"смарт\", активности пользователей данного тарифа, которая в том числе может положительно отразиться на выручке.*\n",
    "\n",
    "*2. Обратить внимание на возможно недостаточную рекламу обоих тарифов в Москве и Санкт-Петербурге.*\n",
    "\n",
    "*3. Возможно следует изменить тарифную политику по тарифному плану \"смарт\", например увеличив абонентскую плату и снизив тарифы на услуги связи, оказанные сверх установленного тарифом лимита.*\n",
    "\n",
    "*4. Вцелом, следует детально выяснить причины наличия существенной разницы в сумме получаемой выручки от пользователей 2 тарифов и с учетом полученных результатов выстраивать дальнейший стратегический и оперативный планы в части рекламы указанных тарифов.*\n",
    "\n",
    "\n",
    "    "
   ]
  }
 ],
 "metadata": {
  "ExecuteTimeLog": [
   {
    "duration": 640,
    "start_time": "2021-12-23T21:34:06.305Z"
   },
   {
    "duration": 295,
    "start_time": "2021-12-23T21:34:06.947Z"
   },
   {
    "duration": 661,
    "start_time": "2021-12-23T21:34:07.245Z"
   },
   {
    "duration": 3,
    "start_time": "2021-12-23T21:34:07.909Z"
   },
   {
    "duration": 209,
    "start_time": "2021-12-23T21:34:07.915Z"
   },
   {
    "duration": 167,
    "start_time": "2021-12-23T21:34:08.127Z"
   },
   {
    "duration": 114,
    "start_time": "2021-12-23T21:34:08.296Z"
   },
   {
    "duration": 20,
    "start_time": "2021-12-23T21:34:08.412Z"
   },
   {
    "duration": 66,
    "start_time": "2021-12-23T21:34:08.438Z"
   },
   {
    "duration": 21,
    "start_time": "2021-12-23T21:34:08.508Z"
   },
   {
    "duration": 28,
    "start_time": "2021-12-23T21:34:08.532Z"
   },
   {
    "duration": 41,
    "start_time": "2021-12-23T21:34:08.563Z"
   },
   {
    "duration": 25,
    "start_time": "2021-12-23T21:34:08.607Z"
   },
   {
    "duration": 174,
    "start_time": "2021-12-23T21:34:08.635Z"
   },
   {
    "duration": 12,
    "start_time": "2021-12-23T21:34:08.812Z"
   },
   {
    "duration": 49,
    "start_time": "2021-12-23T21:34:08.828Z"
   },
   {
    "duration": 40,
    "start_time": "2021-12-23T21:34:08.880Z"
   },
   {
    "duration": 44,
    "start_time": "2021-12-23T21:34:08.922Z"
   },
   {
    "duration": 122,
    "start_time": "2021-12-23T21:34:08.969Z"
   },
   {
    "duration": 11,
    "start_time": "2021-12-23T21:34:09.093Z"
   },
   {
    "duration": 27,
    "start_time": "2021-12-23T21:34:09.107Z"
   },
   {
    "duration": 63,
    "start_time": "2021-12-23T21:34:09.137Z"
   },
   {
    "duration": 78,
    "start_time": "2021-12-23T21:34:09.203Z"
   },
   {
    "duration": 12,
    "start_time": "2021-12-23T21:34:09.283Z"
   },
   {
    "duration": 10,
    "start_time": "2021-12-23T21:34:09.297Z"
   },
   {
    "duration": 18,
    "start_time": "2021-12-23T21:34:09.310Z"
   },
   {
    "duration": 9,
    "start_time": "2021-12-23T21:34:09.369Z"
   },
   {
    "duration": 23,
    "start_time": "2021-12-23T21:34:09.382Z"
   },
   {
    "duration": 6,
    "start_time": "2021-12-23T21:34:09.407Z"
   },
   {
    "duration": 10,
    "start_time": "2021-12-23T21:34:09.416Z"
   },
   {
    "duration": 41,
    "start_time": "2021-12-23T21:34:09.468Z"
   },
   {
    "duration": 18,
    "start_time": "2021-12-23T21:34:09.512Z"
   },
   {
    "duration": 55,
    "start_time": "2021-12-23T21:34:09.533Z"
   },
   {
    "duration": 47,
    "start_time": "2021-12-23T21:34:09.591Z"
   },
   {
    "duration": 45,
    "start_time": "2021-12-23T21:34:09.641Z"
   },
   {
    "duration": 37,
    "start_time": "2021-12-23T21:34:09.689Z"
   },
   {
    "duration": 37,
    "start_time": "2021-12-23T21:34:09.730Z"
   },
   {
    "duration": 6,
    "start_time": "2021-12-23T21:34:09.770Z"
   },
   {
    "duration": 8,
    "start_time": "2021-12-23T21:34:09.779Z"
   },
   {
    "duration": 6,
    "start_time": "2021-12-23T21:34:09.790Z"
   },
   {
    "duration": 9,
    "start_time": "2021-12-23T21:34:09.799Z"
   },
   {
    "duration": 15,
    "start_time": "2021-12-23T21:34:09.811Z"
   },
   {
    "duration": 45,
    "start_time": "2021-12-23T21:34:09.829Z"
   },
   {
    "duration": 6,
    "start_time": "2021-12-23T21:34:09.878Z"
   },
   {
    "duration": 8,
    "start_time": "2021-12-23T21:34:09.887Z"
   },
   {
    "duration": 72,
    "start_time": "2021-12-23T21:34:09.897Z"
   },
   {
    "duration": 14,
    "start_time": "2021-12-23T21:34:09.972Z"
   },
   {
    "duration": 118,
    "start_time": "2021-12-23T21:34:09.990Z"
   },
   {
    "duration": 5,
    "start_time": "2021-12-23T21:34:10.111Z"
   },
   {
    "duration": 15,
    "start_time": "2021-12-23T21:34:10.119Z"
   },
   {
    "duration": 36,
    "start_time": "2021-12-23T21:34:10.137Z"
   },
   {
    "duration": 11,
    "start_time": "2021-12-23T21:34:10.175Z"
   },
   {
    "duration": 30,
    "start_time": "2021-12-23T21:34:10.189Z"
   },
   {
    "duration": 75,
    "start_time": "2021-12-23T21:34:10.222Z"
   },
   {
    "duration": 4,
    "start_time": "2021-12-23T21:34:10.299Z"
   },
   {
    "duration": 11,
    "start_time": "2021-12-23T21:34:10.306Z"
   },
   {
    "duration": 51,
    "start_time": "2021-12-23T21:34:10.320Z"
   },
   {
    "duration": 38,
    "start_time": "2021-12-23T21:34:10.374Z"
   },
   {
    "duration": 10,
    "start_time": "2021-12-23T21:34:10.414Z"
   },
   {
    "duration": 9,
    "start_time": "2021-12-23T21:34:10.427Z"
   },
   {
    "duration": 4,
    "start_time": "2021-12-23T21:34:10.467Z"
   },
   {
    "duration": 10,
    "start_time": "2021-12-23T21:34:10.474Z"
   },
   {
    "duration": 11,
    "start_time": "2021-12-23T21:34:10.487Z"
   },
   {
    "duration": 9,
    "start_time": "2021-12-23T21:34:10.500Z"
   },
   {
    "duration": 7,
    "start_time": "2021-12-23T21:34:10.512Z"
   },
   {
    "duration": 50,
    "start_time": "2021-12-23T21:34:10.522Z"
   },
   {
    "duration": 7,
    "start_time": "2021-12-23T21:34:10.575Z"
   },
   {
    "duration": 12,
    "start_time": "2021-12-23T21:34:10.584Z"
   },
   {
    "duration": 12,
    "start_time": "2021-12-23T21:34:10.598Z"
   },
   {
    "duration": 6,
    "start_time": "2021-12-23T21:34:10.612Z"
   },
   {
    "duration": 55,
    "start_time": "2021-12-23T21:34:10.621Z"
   },
   {
    "duration": 6,
    "start_time": "2021-12-23T21:34:10.679Z"
   },
   {
    "duration": 25,
    "start_time": "2021-12-23T21:34:10.687Z"
   },
   {
    "duration": 5,
    "start_time": "2021-12-23T21:34:10.714Z"
   },
   {
    "duration": 54,
    "start_time": "2021-12-23T21:34:10.721Z"
   },
   {
    "duration": 5,
    "start_time": "2021-12-23T21:34:10.777Z"
   },
   {
    "duration": 8,
    "start_time": "2021-12-23T21:34:10.785Z"
   },
   {
    "duration": 18,
    "start_time": "2021-12-23T21:34:10.796Z"
   },
   {
    "duration": 70,
    "start_time": "2021-12-23T21:34:10.817Z"
   },
   {
    "duration": 30,
    "start_time": "2021-12-23T21:34:10.890Z"
   },
   {
    "duration": 6,
    "start_time": "2021-12-23T21:34:10.930Z"
   },
   {
    "duration": 35,
    "start_time": "2021-12-23T21:34:10.940Z"
   },
   {
    "duration": 26,
    "start_time": "2021-12-23T21:34:10.977Z"
   },
   {
    "duration": 7,
    "start_time": "2021-12-23T21:34:11.006Z"
   },
   {
    "duration": 15,
    "start_time": "2021-12-23T21:34:11.016Z"
   },
   {
    "duration": 47,
    "start_time": "2021-12-23T21:34:11.033Z"
   },
   {
    "duration": 13,
    "start_time": "2021-12-23T21:34:11.082Z"
   },
   {
    "duration": 10,
    "start_time": "2021-12-23T21:34:11.097Z"
   },
   {
    "duration": 14,
    "start_time": "2021-12-23T21:34:11.109Z"
   },
   {
    "duration": 44,
    "start_time": "2021-12-23T21:34:11.126Z"
   },
   {
    "duration": 11,
    "start_time": "2021-12-23T21:34:11.173Z"
   },
   {
    "duration": 291,
    "start_time": "2021-12-23T21:34:11.187Z"
   },
   {
    "duration": 17,
    "start_time": "2021-12-23T21:34:11.481Z"
   },
   {
    "duration": 24,
    "start_time": "2021-12-23T21:34:11.501Z"
   },
   {
    "duration": 60,
    "start_time": "2021-12-23T21:34:11.529Z"
   },
   {
    "duration": 9,
    "start_time": "2021-12-23T21:34:11.592Z"
   },
   {
    "duration": 130,
    "start_time": "2021-12-23T21:34:11.603Z"
   },
   {
    "duration": 109,
    "start_time": "2021-12-23T21:34:11.736Z"
   },
   {
    "duration": 9,
    "start_time": "2021-12-23T21:34:11.847Z"
   },
   {
    "duration": 30,
    "start_time": "2021-12-23T21:34:11.867Z"
   },
   {
    "duration": 6,
    "start_time": "2021-12-23T21:34:11.900Z"
   },
   {
    "duration": 9,
    "start_time": "2021-12-23T21:34:11.909Z"
   },
   {
    "duration": 50,
    "start_time": "2021-12-23T21:34:11.920Z"
   },
   {
    "duration": 9,
    "start_time": "2021-12-23T21:34:11.972Z"
   },
   {
    "duration": 8,
    "start_time": "2021-12-23T21:34:11.984Z"
   },
   {
    "duration": 35,
    "start_time": "2021-12-23T21:34:11.994Z"
   },
   {
    "duration": 36,
    "start_time": "2021-12-23T21:34:12.031Z"
   },
   {
    "duration": 9,
    "start_time": "2021-12-23T21:34:12.070Z"
   },
   {
    "duration": 1048,
    "start_time": "2021-12-23T21:34:12.081Z"
   },
   {
    "duration": 270,
    "start_time": "2021-12-23T21:34:13.131Z"
   },
   {
    "duration": 267,
    "start_time": "2021-12-23T21:34:13.404Z"
   },
   {
    "duration": 666,
    "start_time": "2021-12-23T21:34:13.674Z"
   },
   {
    "duration": 600,
    "start_time": "2021-12-23T21:34:14.342Z"
   },
   {
    "duration": 3882,
    "start_time": "2021-12-23T21:34:14.945Z"
   },
   {
    "duration": 2017,
    "start_time": "2021-12-23T21:34:18.830Z"
   },
   {
    "duration": 817,
    "start_time": "2021-12-23T21:34:20.850Z"
   },
   {
    "duration": 694,
    "start_time": "2021-12-23T21:34:21.669Z"
   },
   {
    "duration": 683,
    "start_time": "2021-12-23T21:34:22.368Z"
   },
   {
    "duration": 640,
    "start_time": "2021-12-23T21:34:23.053Z"
   },
   {
    "duration": 692,
    "start_time": "2021-12-23T21:34:23.695Z"
   },
   {
    "duration": 524,
    "start_time": "2021-12-23T21:34:24.390Z"
   },
   {
    "duration": 4,
    "start_time": "2021-12-23T21:34:24.917Z"
   },
   {
    "duration": 12,
    "start_time": "2021-12-23T21:34:24.924Z"
   },
   {
    "duration": 14,
    "start_time": "2021-12-23T21:34:24.938Z"
   },
   {
    "duration": 18,
    "start_time": "2021-12-23T21:34:24.954Z"
   },
   {
    "duration": 16,
    "start_time": "2021-12-23T21:34:24.974Z"
   },
   {
    "duration": 8,
    "start_time": "2021-12-23T21:34:24.993Z"
   },
   {
    "duration": 11,
    "start_time": "2021-12-23T21:34:25.003Z"
   },
   {
    "duration": 10,
    "start_time": "2021-12-23T21:34:25.017Z"
   },
   {
    "duration": 12,
    "start_time": "2021-12-23T21:34:25.030Z"
   },
   {
    "duration": 32,
    "start_time": "2021-12-23T21:34:25.044Z"
   },
   {
    "duration": 18,
    "start_time": "2021-12-23T21:34:25.078Z"
   },
   {
    "duration": 6,
    "start_time": "2021-12-23T21:34:25.099Z"
   },
   {
    "duration": 8,
    "start_time": "2021-12-23T21:34:25.107Z"
   },
   {
    "duration": 10,
    "start_time": "2021-12-23T21:34:25.117Z"
   },
   {
    "duration": 37,
    "start_time": "2021-12-23T21:34:25.130Z"
   },
   {
    "duration": 8,
    "start_time": "2021-12-23T21:34:25.171Z"
   },
   {
    "duration": 6,
    "start_time": "2021-12-23T21:34:25.182Z"
   },
   {
    "duration": 8,
    "start_time": "2021-12-23T21:34:25.191Z"
   },
   {
    "duration": 7,
    "start_time": "2021-12-23T21:34:25.202Z"
   },
   {
    "duration": 5,
    "start_time": "2021-12-23T21:34:25.212Z"
   }
  ],
  "kernelspec": {
   "display_name": "Python 3",
   "language": "python",
   "name": "python3"
  },
  "language_info": {
   "codemirror_mode": {
    "name": "ipython",
    "version": 3
   },
   "file_extension": ".py",
   "mimetype": "text/x-python",
   "name": "python",
   "nbconvert_exporter": "python",
   "pygments_lexer": "ipython3",
   "version": "3.7.8"
  },
  "toc": {
   "base_numbering": 1,
   "nav_menu": {},
   "number_sections": true,
   "sideBar": true,
   "skip_h1_title": false,
   "title_cell": "Table of Contents",
   "title_sidebar": "Contents",
   "toc_cell": false,
   "toc_position": {},
   "toc_section_display": true,
   "toc_window_display": false
  }
 },
 "nbformat": 4,
 "nbformat_minor": 2
}
